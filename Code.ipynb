{
  "cells": [
    {
      "cell_type": "markdown",
      "metadata": {
        "id": "PH5SDotm3-vb"
      },
      "source": [
        "# **Assignment - Applied AI**"
      ]
    },
    {
      "cell_type": "markdown",
      "metadata": {
        "id": "8e-L-FZf46Tf"
      },
      "source": [
        "# 771767 - 2021/2022 "
      ]
    },
    {
      "cell_type": "markdown",
      "metadata": {
        "id": "4NgPd6hH5IND"
      },
      "source": [
        "# **Topic : Feedforward Neural Nets with Hyperparameter Optimization**"
      ]
    },
    {
      "cell_type": "markdown",
      "metadata": {
        "id": "6IreG7823mAC"
      },
      "source": [
        "Name: **Namitha Menon Kakkanat**\n",
        "\n",
        "---\n",
        "Student Id: **202117887**\n",
        "\n",
        "---\n",
        "Course : **Applied Artificial Intelligence**\n",
        "\n",
        "---\n",
        "\n",
        "Dataset : **Credit Card Fraud Dectection**\n",
        "\n"
      ]
    },
    {
      "cell_type": "code",
      "execution_count": null,
      "metadata": {
        "colab": {
          "base_uri": "https://localhost:8080/"
        },
        "id": "mIISpI5S45uo",
        "outputId": "eaac9a22-d568-4ea3-efce-52b8a9aede34"
      },
      "outputs": [
        {
          "name": "stdout",
          "output_type": "stream",
          "text": [
            "Drive already mounted at /content/gdrive; to attempt to forcibly remount, call drive.mount(\"/content/gdrive\", force_remount=True).\n"
          ]
        }
      ],
      "source": [
        "# Mounting Google Drive\n",
        "from google.colab import drive \n",
        "drive.mount('/content/gdrive')"
      ]
    },
    {
      "cell_type": "code",
      "execution_count": 2,
      "metadata": {
        "id": "1doSaMqi3I95"
      },
      "outputs": [],
      "source": [
        "#Importing Necessary Libraries \n",
        "\n",
        "from google.colab import files\n",
        "import graphviz\n",
        "import numpy as np\n",
        "import matplotlib.pyplot as plt\n",
        "import seaborn as sns; sns.set()\n",
        "import pandas as pd \n",
        "import itertools\n",
        "from sklearn.model_selection import train_test_split\n",
        "from sklearn.preprocessing import StandardScaler\n",
        "from sklearn.metrics import confusion_matrix, accuracy_score, precision_score, f1_score, recall_score\n",
        "        \n",
        "#Importing library for Decision Tree classifer\n",
        "from sklearn import tree\n",
        "from sklearn import metrics \n",
        "\n",
        "import time                       #For calculating time\n",
        "from tabulate import tabulate     #For creating table\n",
        "\n",
        "#Importing library for Naive Bayes classifer\n",
        "from sklearn.naive_bayes import GaussianNB\n",
        "from sklearn.metrics import confusion_matrix\n",
        "\n",
        "#Importing library for Neural Network\n",
        "import keras \n",
        "from keras.models import Sequential \n",
        "from keras.layers import Dense, Dropout \n",
        "from keras.optimizers import * \n",
        "from keras.utils import np_utils\n",
        "\n",
        "#Importing library for Random Forest\n",
        "from sklearn.ensemble import RandomForestClassifier\n",
        "from sklearn import metrics    #Import scikit-learn metrics module for accuracy calculation"
      ]
    },
    {
      "cell_type": "markdown",
      "metadata": {
        "id": "G6xkoiM_8qai"
      },
      "source": [
        "# **Data Processing**"
      ]
    },
    {
      "cell_type": "code",
      "execution_count": 129,
      "metadata": {
        "colab": {
          "base_uri": "https://localhost:8080/",
          "height": 487
        },
        "id": "dBXLa4Kw6w62",
        "outputId": "133bf9a9-3d6e-46b2-ebc1-5b37027733d2"
      },
      "outputs": [
        {
          "output_type": "execute_result",
          "data": {
            "text/plain": [
              "            Time         V1         V2        V3        V4        V5  \\\n",
              "0            0.0  -1.359807  -0.072781  2.536347  1.378155 -0.338321   \n",
              "1            0.0   1.191857   0.266151  0.166480  0.448154  0.060018   \n",
              "2            1.0  -1.358354  -1.340163  1.773209  0.379780 -0.503198   \n",
              "3            1.0  -0.966272  -0.185226  1.792993 -0.863291 -0.010309   \n",
              "4            2.0  -1.158233   0.877737  1.548718  0.403034 -0.407193   \n",
              "...          ...        ...        ...       ...       ...       ...   \n",
              "284802  172786.0 -11.881118  10.071785 -9.834783 -2.066656 -5.364473   \n",
              "284803  172787.0  -0.732789  -0.055080  2.035030 -0.738589  0.868229   \n",
              "284804  172788.0   1.919565  -0.301254 -3.249640 -0.557828  2.630515   \n",
              "284805  172788.0  -0.240440   0.530483  0.702510  0.689799 -0.377961   \n",
              "284806  172792.0  -0.533413  -0.189733  0.703337 -0.506271 -0.012546   \n",
              "\n",
              "              V6        V7        V8        V9  ...       V21       V22  \\\n",
              "0       0.462388  0.239599  0.098698  0.363787  ... -0.018307  0.277838   \n",
              "1      -0.082361 -0.078803  0.085102 -0.255425  ... -0.225775 -0.638672   \n",
              "2       1.800499  0.791461  0.247676 -1.514654  ...  0.247998  0.771679   \n",
              "3       1.247203  0.237609  0.377436 -1.387024  ... -0.108300  0.005274   \n",
              "4       0.095921  0.592941 -0.270533  0.817739  ... -0.009431  0.798278   \n",
              "...          ...       ...       ...       ...  ...       ...       ...   \n",
              "284802 -2.606837 -4.918215  7.305334  1.914428  ...  0.213454  0.111864   \n",
              "284803  1.058415  0.024330  0.294869  0.584800  ...  0.214205  0.924384   \n",
              "284804  3.031260 -0.296827  0.708417  0.432454  ...  0.232045  0.578229   \n",
              "284805  0.623708 -0.686180  0.679145  0.392087  ...  0.265245  0.800049   \n",
              "284806 -0.649617  1.577006 -0.414650  0.486180  ...  0.261057  0.643078   \n",
              "\n",
              "             V23       V24       V25       V26       V27       V28  Amount  \\\n",
              "0      -0.110474  0.066928  0.128539 -0.189115  0.133558 -0.021053  149.62   \n",
              "1       0.101288 -0.339846  0.167170  0.125895 -0.008983  0.014724    2.69   \n",
              "2       0.909412 -0.689281 -0.327642 -0.139097 -0.055353 -0.059752  378.66   \n",
              "3      -0.190321 -1.175575  0.647376 -0.221929  0.062723  0.061458  123.50   \n",
              "4      -0.137458  0.141267 -0.206010  0.502292  0.219422  0.215153   69.99   \n",
              "...          ...       ...       ...       ...       ...       ...     ...   \n",
              "284802  1.014480 -0.509348  1.436807  0.250034  0.943651  0.823731    0.77   \n",
              "284803  0.012463 -1.016226 -0.606624 -0.395255  0.068472 -0.053527   24.79   \n",
              "284804 -0.037501  0.640134  0.265745 -0.087371  0.004455 -0.026561   67.88   \n",
              "284805 -0.163298  0.123205 -0.569159  0.546668  0.108821  0.104533   10.00   \n",
              "284806  0.376777  0.008797 -0.473649 -0.818267 -0.002415  0.013649  217.00   \n",
              "\n",
              "        Class  \n",
              "0           0  \n",
              "1           0  \n",
              "2           0  \n",
              "3           0  \n",
              "4           0  \n",
              "...       ...  \n",
              "284802      0  \n",
              "284803      0  \n",
              "284804      0  \n",
              "284805      0  \n",
              "284806      0  \n",
              "\n",
              "[284807 rows x 31 columns]"
            ],
            "text/html": [
              "\n",
              "  <div id=\"df-6dfd7ba0-df74-48b4-b99b-98bd04c032f1\">\n",
              "    <div class=\"colab-df-container\">\n",
              "      <div>\n",
              "<style scoped>\n",
              "    .dataframe tbody tr th:only-of-type {\n",
              "        vertical-align: middle;\n",
              "    }\n",
              "\n",
              "    .dataframe tbody tr th {\n",
              "        vertical-align: top;\n",
              "    }\n",
              "\n",
              "    .dataframe thead th {\n",
              "        text-align: right;\n",
              "    }\n",
              "</style>\n",
              "<table border=\"1\" class=\"dataframe\">\n",
              "  <thead>\n",
              "    <tr style=\"text-align: right;\">\n",
              "      <th></th>\n",
              "      <th>Time</th>\n",
              "      <th>V1</th>\n",
              "      <th>V2</th>\n",
              "      <th>V3</th>\n",
              "      <th>V4</th>\n",
              "      <th>V5</th>\n",
              "      <th>V6</th>\n",
              "      <th>V7</th>\n",
              "      <th>V8</th>\n",
              "      <th>V9</th>\n",
              "      <th>...</th>\n",
              "      <th>V21</th>\n",
              "      <th>V22</th>\n",
              "      <th>V23</th>\n",
              "      <th>V24</th>\n",
              "      <th>V25</th>\n",
              "      <th>V26</th>\n",
              "      <th>V27</th>\n",
              "      <th>V28</th>\n",
              "      <th>Amount</th>\n",
              "      <th>Class</th>\n",
              "    </tr>\n",
              "  </thead>\n",
              "  <tbody>\n",
              "    <tr>\n",
              "      <th>0</th>\n",
              "      <td>0.0</td>\n",
              "      <td>-1.359807</td>\n",
              "      <td>-0.072781</td>\n",
              "      <td>2.536347</td>\n",
              "      <td>1.378155</td>\n",
              "      <td>-0.338321</td>\n",
              "      <td>0.462388</td>\n",
              "      <td>0.239599</td>\n",
              "      <td>0.098698</td>\n",
              "      <td>0.363787</td>\n",
              "      <td>...</td>\n",
              "      <td>-0.018307</td>\n",
              "      <td>0.277838</td>\n",
              "      <td>-0.110474</td>\n",
              "      <td>0.066928</td>\n",
              "      <td>0.128539</td>\n",
              "      <td>-0.189115</td>\n",
              "      <td>0.133558</td>\n",
              "      <td>-0.021053</td>\n",
              "      <td>149.62</td>\n",
              "      <td>0</td>\n",
              "    </tr>\n",
              "    <tr>\n",
              "      <th>1</th>\n",
              "      <td>0.0</td>\n",
              "      <td>1.191857</td>\n",
              "      <td>0.266151</td>\n",
              "      <td>0.166480</td>\n",
              "      <td>0.448154</td>\n",
              "      <td>0.060018</td>\n",
              "      <td>-0.082361</td>\n",
              "      <td>-0.078803</td>\n",
              "      <td>0.085102</td>\n",
              "      <td>-0.255425</td>\n",
              "      <td>...</td>\n",
              "      <td>-0.225775</td>\n",
              "      <td>-0.638672</td>\n",
              "      <td>0.101288</td>\n",
              "      <td>-0.339846</td>\n",
              "      <td>0.167170</td>\n",
              "      <td>0.125895</td>\n",
              "      <td>-0.008983</td>\n",
              "      <td>0.014724</td>\n",
              "      <td>2.69</td>\n",
              "      <td>0</td>\n",
              "    </tr>\n",
              "    <tr>\n",
              "      <th>2</th>\n",
              "      <td>1.0</td>\n",
              "      <td>-1.358354</td>\n",
              "      <td>-1.340163</td>\n",
              "      <td>1.773209</td>\n",
              "      <td>0.379780</td>\n",
              "      <td>-0.503198</td>\n",
              "      <td>1.800499</td>\n",
              "      <td>0.791461</td>\n",
              "      <td>0.247676</td>\n",
              "      <td>-1.514654</td>\n",
              "      <td>...</td>\n",
              "      <td>0.247998</td>\n",
              "      <td>0.771679</td>\n",
              "      <td>0.909412</td>\n",
              "      <td>-0.689281</td>\n",
              "      <td>-0.327642</td>\n",
              "      <td>-0.139097</td>\n",
              "      <td>-0.055353</td>\n",
              "      <td>-0.059752</td>\n",
              "      <td>378.66</td>\n",
              "      <td>0</td>\n",
              "    </tr>\n",
              "    <tr>\n",
              "      <th>3</th>\n",
              "      <td>1.0</td>\n",
              "      <td>-0.966272</td>\n",
              "      <td>-0.185226</td>\n",
              "      <td>1.792993</td>\n",
              "      <td>-0.863291</td>\n",
              "      <td>-0.010309</td>\n",
              "      <td>1.247203</td>\n",
              "      <td>0.237609</td>\n",
              "      <td>0.377436</td>\n",
              "      <td>-1.387024</td>\n",
              "      <td>...</td>\n",
              "      <td>-0.108300</td>\n",
              "      <td>0.005274</td>\n",
              "      <td>-0.190321</td>\n",
              "      <td>-1.175575</td>\n",
              "      <td>0.647376</td>\n",
              "      <td>-0.221929</td>\n",
              "      <td>0.062723</td>\n",
              "      <td>0.061458</td>\n",
              "      <td>123.50</td>\n",
              "      <td>0</td>\n",
              "    </tr>\n",
              "    <tr>\n",
              "      <th>4</th>\n",
              "      <td>2.0</td>\n",
              "      <td>-1.158233</td>\n",
              "      <td>0.877737</td>\n",
              "      <td>1.548718</td>\n",
              "      <td>0.403034</td>\n",
              "      <td>-0.407193</td>\n",
              "      <td>0.095921</td>\n",
              "      <td>0.592941</td>\n",
              "      <td>-0.270533</td>\n",
              "      <td>0.817739</td>\n",
              "      <td>...</td>\n",
              "      <td>-0.009431</td>\n",
              "      <td>0.798278</td>\n",
              "      <td>-0.137458</td>\n",
              "      <td>0.141267</td>\n",
              "      <td>-0.206010</td>\n",
              "      <td>0.502292</td>\n",
              "      <td>0.219422</td>\n",
              "      <td>0.215153</td>\n",
              "      <td>69.99</td>\n",
              "      <td>0</td>\n",
              "    </tr>\n",
              "    <tr>\n",
              "      <th>...</th>\n",
              "      <td>...</td>\n",
              "      <td>...</td>\n",
              "      <td>...</td>\n",
              "      <td>...</td>\n",
              "      <td>...</td>\n",
              "      <td>...</td>\n",
              "      <td>...</td>\n",
              "      <td>...</td>\n",
              "      <td>...</td>\n",
              "      <td>...</td>\n",
              "      <td>...</td>\n",
              "      <td>...</td>\n",
              "      <td>...</td>\n",
              "      <td>...</td>\n",
              "      <td>...</td>\n",
              "      <td>...</td>\n",
              "      <td>...</td>\n",
              "      <td>...</td>\n",
              "      <td>...</td>\n",
              "      <td>...</td>\n",
              "      <td>...</td>\n",
              "    </tr>\n",
              "    <tr>\n",
              "      <th>284802</th>\n",
              "      <td>172786.0</td>\n",
              "      <td>-11.881118</td>\n",
              "      <td>10.071785</td>\n",
              "      <td>-9.834783</td>\n",
              "      <td>-2.066656</td>\n",
              "      <td>-5.364473</td>\n",
              "      <td>-2.606837</td>\n",
              "      <td>-4.918215</td>\n",
              "      <td>7.305334</td>\n",
              "      <td>1.914428</td>\n",
              "      <td>...</td>\n",
              "      <td>0.213454</td>\n",
              "      <td>0.111864</td>\n",
              "      <td>1.014480</td>\n",
              "      <td>-0.509348</td>\n",
              "      <td>1.436807</td>\n",
              "      <td>0.250034</td>\n",
              "      <td>0.943651</td>\n",
              "      <td>0.823731</td>\n",
              "      <td>0.77</td>\n",
              "      <td>0</td>\n",
              "    </tr>\n",
              "    <tr>\n",
              "      <th>284803</th>\n",
              "      <td>172787.0</td>\n",
              "      <td>-0.732789</td>\n",
              "      <td>-0.055080</td>\n",
              "      <td>2.035030</td>\n",
              "      <td>-0.738589</td>\n",
              "      <td>0.868229</td>\n",
              "      <td>1.058415</td>\n",
              "      <td>0.024330</td>\n",
              "      <td>0.294869</td>\n",
              "      <td>0.584800</td>\n",
              "      <td>...</td>\n",
              "      <td>0.214205</td>\n",
              "      <td>0.924384</td>\n",
              "      <td>0.012463</td>\n",
              "      <td>-1.016226</td>\n",
              "      <td>-0.606624</td>\n",
              "      <td>-0.395255</td>\n",
              "      <td>0.068472</td>\n",
              "      <td>-0.053527</td>\n",
              "      <td>24.79</td>\n",
              "      <td>0</td>\n",
              "    </tr>\n",
              "    <tr>\n",
              "      <th>284804</th>\n",
              "      <td>172788.0</td>\n",
              "      <td>1.919565</td>\n",
              "      <td>-0.301254</td>\n",
              "      <td>-3.249640</td>\n",
              "      <td>-0.557828</td>\n",
              "      <td>2.630515</td>\n",
              "      <td>3.031260</td>\n",
              "      <td>-0.296827</td>\n",
              "      <td>0.708417</td>\n",
              "      <td>0.432454</td>\n",
              "      <td>...</td>\n",
              "      <td>0.232045</td>\n",
              "      <td>0.578229</td>\n",
              "      <td>-0.037501</td>\n",
              "      <td>0.640134</td>\n",
              "      <td>0.265745</td>\n",
              "      <td>-0.087371</td>\n",
              "      <td>0.004455</td>\n",
              "      <td>-0.026561</td>\n",
              "      <td>67.88</td>\n",
              "      <td>0</td>\n",
              "    </tr>\n",
              "    <tr>\n",
              "      <th>284805</th>\n",
              "      <td>172788.0</td>\n",
              "      <td>-0.240440</td>\n",
              "      <td>0.530483</td>\n",
              "      <td>0.702510</td>\n",
              "      <td>0.689799</td>\n",
              "      <td>-0.377961</td>\n",
              "      <td>0.623708</td>\n",
              "      <td>-0.686180</td>\n",
              "      <td>0.679145</td>\n",
              "      <td>0.392087</td>\n",
              "      <td>...</td>\n",
              "      <td>0.265245</td>\n",
              "      <td>0.800049</td>\n",
              "      <td>-0.163298</td>\n",
              "      <td>0.123205</td>\n",
              "      <td>-0.569159</td>\n",
              "      <td>0.546668</td>\n",
              "      <td>0.108821</td>\n",
              "      <td>0.104533</td>\n",
              "      <td>10.00</td>\n",
              "      <td>0</td>\n",
              "    </tr>\n",
              "    <tr>\n",
              "      <th>284806</th>\n",
              "      <td>172792.0</td>\n",
              "      <td>-0.533413</td>\n",
              "      <td>-0.189733</td>\n",
              "      <td>0.703337</td>\n",
              "      <td>-0.506271</td>\n",
              "      <td>-0.012546</td>\n",
              "      <td>-0.649617</td>\n",
              "      <td>1.577006</td>\n",
              "      <td>-0.414650</td>\n",
              "      <td>0.486180</td>\n",
              "      <td>...</td>\n",
              "      <td>0.261057</td>\n",
              "      <td>0.643078</td>\n",
              "      <td>0.376777</td>\n",
              "      <td>0.008797</td>\n",
              "      <td>-0.473649</td>\n",
              "      <td>-0.818267</td>\n",
              "      <td>-0.002415</td>\n",
              "      <td>0.013649</td>\n",
              "      <td>217.00</td>\n",
              "      <td>0</td>\n",
              "    </tr>\n",
              "  </tbody>\n",
              "</table>\n",
              "<p>284807 rows × 31 columns</p>\n",
              "</div>\n",
              "      <button class=\"colab-df-convert\" onclick=\"convertToInteractive('df-6dfd7ba0-df74-48b4-b99b-98bd04c032f1')\"\n",
              "              title=\"Convert this dataframe to an interactive table.\"\n",
              "              style=\"display:none;\">\n",
              "        \n",
              "  <svg xmlns=\"http://www.w3.org/2000/svg\" height=\"24px\"viewBox=\"0 0 24 24\"\n",
              "       width=\"24px\">\n",
              "    <path d=\"M0 0h24v24H0V0z\" fill=\"none\"/>\n",
              "    <path d=\"M18.56 5.44l.94 2.06.94-2.06 2.06-.94-2.06-.94-.94-2.06-.94 2.06-2.06.94zm-11 1L8.5 8.5l.94-2.06 2.06-.94-2.06-.94L8.5 2.5l-.94 2.06-2.06.94zm10 10l.94 2.06.94-2.06 2.06-.94-2.06-.94-.94-2.06-.94 2.06-2.06.94z\"/><path d=\"M17.41 7.96l-1.37-1.37c-.4-.4-.92-.59-1.43-.59-.52 0-1.04.2-1.43.59L10.3 9.45l-7.72 7.72c-.78.78-.78 2.05 0 2.83L4 21.41c.39.39.9.59 1.41.59.51 0 1.02-.2 1.41-.59l7.78-7.78 2.81-2.81c.8-.78.8-2.07 0-2.86zM5.41 20L4 18.59l7.72-7.72 1.47 1.35L5.41 20z\"/>\n",
              "  </svg>\n",
              "      </button>\n",
              "      \n",
              "  <style>\n",
              "    .colab-df-container {\n",
              "      display:flex;\n",
              "      flex-wrap:wrap;\n",
              "      gap: 12px;\n",
              "    }\n",
              "\n",
              "    .colab-df-convert {\n",
              "      background-color: #E8F0FE;\n",
              "      border: none;\n",
              "      border-radius: 50%;\n",
              "      cursor: pointer;\n",
              "      display: none;\n",
              "      fill: #1967D2;\n",
              "      height: 32px;\n",
              "      padding: 0 0 0 0;\n",
              "      width: 32px;\n",
              "    }\n",
              "\n",
              "    .colab-df-convert:hover {\n",
              "      background-color: #E2EBFA;\n",
              "      box-shadow: 0px 1px 2px rgba(60, 64, 67, 0.3), 0px 1px 3px 1px rgba(60, 64, 67, 0.15);\n",
              "      fill: #174EA6;\n",
              "    }\n",
              "\n",
              "    [theme=dark] .colab-df-convert {\n",
              "      background-color: #3B4455;\n",
              "      fill: #D2E3FC;\n",
              "    }\n",
              "\n",
              "    [theme=dark] .colab-df-convert:hover {\n",
              "      background-color: #434B5C;\n",
              "      box-shadow: 0px 1px 3px 1px rgba(0, 0, 0, 0.15);\n",
              "      filter: drop-shadow(0px 1px 2px rgba(0, 0, 0, 0.3));\n",
              "      fill: #FFFFFF;\n",
              "    }\n",
              "  </style>\n",
              "\n",
              "      <script>\n",
              "        const buttonEl =\n",
              "          document.querySelector('#df-6dfd7ba0-df74-48b4-b99b-98bd04c032f1 button.colab-df-convert');\n",
              "        buttonEl.style.display =\n",
              "          google.colab.kernel.accessAllowed ? 'block' : 'none';\n",
              "\n",
              "        async function convertToInteractive(key) {\n",
              "          const element = document.querySelector('#df-6dfd7ba0-df74-48b4-b99b-98bd04c032f1');\n",
              "          const dataTable =\n",
              "            await google.colab.kernel.invokeFunction('convertToInteractive',\n",
              "                                                     [key], {});\n",
              "          if (!dataTable) return;\n",
              "\n",
              "          const docLinkHtml = 'Like what you see? Visit the ' +\n",
              "            '<a target=\"_blank\" href=https://colab.research.google.com/notebooks/data_table.ipynb>data table notebook</a>'\n",
              "            + ' to learn more about interactive tables.';\n",
              "          element.innerHTML = '';\n",
              "          dataTable['output_type'] = 'display_data';\n",
              "          await google.colab.output.renderOutput(dataTable, element);\n",
              "          const docLink = document.createElement('div');\n",
              "          docLink.innerHTML = docLinkHtml;\n",
              "          element.appendChild(docLink);\n",
              "        }\n",
              "      </script>\n",
              "    </div>\n",
              "  </div>\n",
              "  "
            ]
          },
          "metadata": {},
          "execution_count": 129
        }
      ],
      "source": [
        "credit_data=pd.read_csv('gdrive/My Drive/Colab Notebooks/771767_A21_T2:Applied_AI/creditcard.csv')\n",
        "credit_data"
      ]
    },
    {
      "cell_type": "code",
      "execution_count": null,
      "metadata": {
        "colab": {
          "base_uri": "https://localhost:8080/",
          "height": 393
        },
        "id": "95dMshPtIOq1",
        "outputId": "63ef5642-efc8-4d03-9f2a-f378b5da2d3f"
      },
      "outputs": [
        {
          "data": {
            "text/html": [
              "\n",
              "  <div id=\"df-66e3adb4-feca-4bd6-9844-75ec27bf53a1\">\n",
              "    <div class=\"colab-df-container\">\n",
              "      <div>\n",
              "<style scoped>\n",
              "    .dataframe tbody tr th:only-of-type {\n",
              "        vertical-align: middle;\n",
              "    }\n",
              "\n",
              "    .dataframe tbody tr th {\n",
              "        vertical-align: top;\n",
              "    }\n",
              "\n",
              "    .dataframe thead th {\n",
              "        text-align: right;\n",
              "    }\n",
              "</style>\n",
              "<table border=\"1\" class=\"dataframe\">\n",
              "  <thead>\n",
              "    <tr style=\"text-align: right;\">\n",
              "      <th></th>\n",
              "      <th>Time</th>\n",
              "      <th>V1</th>\n",
              "      <th>V2</th>\n",
              "      <th>V3</th>\n",
              "      <th>V4</th>\n",
              "      <th>V5</th>\n",
              "      <th>V6</th>\n",
              "      <th>V7</th>\n",
              "      <th>V8</th>\n",
              "      <th>V9</th>\n",
              "      <th>...</th>\n",
              "      <th>V21</th>\n",
              "      <th>V22</th>\n",
              "      <th>V23</th>\n",
              "      <th>V24</th>\n",
              "      <th>V25</th>\n",
              "      <th>V26</th>\n",
              "      <th>V27</th>\n",
              "      <th>V28</th>\n",
              "      <th>Amount</th>\n",
              "      <th>Class</th>\n",
              "    </tr>\n",
              "  </thead>\n",
              "  <tbody>\n",
              "    <tr>\n",
              "      <th>count</th>\n",
              "      <td>284807.000000</td>\n",
              "      <td>2.848070e+05</td>\n",
              "      <td>2.848070e+05</td>\n",
              "      <td>2.848070e+05</td>\n",
              "      <td>2.848070e+05</td>\n",
              "      <td>2.848070e+05</td>\n",
              "      <td>2.848070e+05</td>\n",
              "      <td>2.848070e+05</td>\n",
              "      <td>2.848070e+05</td>\n",
              "      <td>2.848070e+05</td>\n",
              "      <td>...</td>\n",
              "      <td>2.848070e+05</td>\n",
              "      <td>2.848070e+05</td>\n",
              "      <td>2.848070e+05</td>\n",
              "      <td>2.848070e+05</td>\n",
              "      <td>2.848070e+05</td>\n",
              "      <td>2.848070e+05</td>\n",
              "      <td>2.848070e+05</td>\n",
              "      <td>2.848070e+05</td>\n",
              "      <td>284807.000000</td>\n",
              "      <td>284807.000000</td>\n",
              "    </tr>\n",
              "    <tr>\n",
              "      <th>mean</th>\n",
              "      <td>94813.859575</td>\n",
              "      <td>3.918649e-15</td>\n",
              "      <td>5.682686e-16</td>\n",
              "      <td>-8.761736e-15</td>\n",
              "      <td>2.811118e-15</td>\n",
              "      <td>-1.552103e-15</td>\n",
              "      <td>2.040130e-15</td>\n",
              "      <td>-1.698953e-15</td>\n",
              "      <td>-1.893285e-16</td>\n",
              "      <td>-3.147640e-15</td>\n",
              "      <td>...</td>\n",
              "      <td>1.473120e-16</td>\n",
              "      <td>8.042109e-16</td>\n",
              "      <td>5.282512e-16</td>\n",
              "      <td>4.456271e-15</td>\n",
              "      <td>1.426896e-15</td>\n",
              "      <td>1.701640e-15</td>\n",
              "      <td>-3.662252e-16</td>\n",
              "      <td>-1.217809e-16</td>\n",
              "      <td>88.349619</td>\n",
              "      <td>0.001727</td>\n",
              "    </tr>\n",
              "    <tr>\n",
              "      <th>std</th>\n",
              "      <td>47488.145955</td>\n",
              "      <td>1.958696e+00</td>\n",
              "      <td>1.651309e+00</td>\n",
              "      <td>1.516255e+00</td>\n",
              "      <td>1.415869e+00</td>\n",
              "      <td>1.380247e+00</td>\n",
              "      <td>1.332271e+00</td>\n",
              "      <td>1.237094e+00</td>\n",
              "      <td>1.194353e+00</td>\n",
              "      <td>1.098632e+00</td>\n",
              "      <td>...</td>\n",
              "      <td>7.345240e-01</td>\n",
              "      <td>7.257016e-01</td>\n",
              "      <td>6.244603e-01</td>\n",
              "      <td>6.056471e-01</td>\n",
              "      <td>5.212781e-01</td>\n",
              "      <td>4.822270e-01</td>\n",
              "      <td>4.036325e-01</td>\n",
              "      <td>3.300833e-01</td>\n",
              "      <td>250.120109</td>\n",
              "      <td>0.041527</td>\n",
              "    </tr>\n",
              "    <tr>\n",
              "      <th>min</th>\n",
              "      <td>0.000000</td>\n",
              "      <td>-5.640751e+01</td>\n",
              "      <td>-7.271573e+01</td>\n",
              "      <td>-4.832559e+01</td>\n",
              "      <td>-5.683171e+00</td>\n",
              "      <td>-1.137433e+02</td>\n",
              "      <td>-2.616051e+01</td>\n",
              "      <td>-4.355724e+01</td>\n",
              "      <td>-7.321672e+01</td>\n",
              "      <td>-1.343407e+01</td>\n",
              "      <td>...</td>\n",
              "      <td>-3.483038e+01</td>\n",
              "      <td>-1.093314e+01</td>\n",
              "      <td>-4.480774e+01</td>\n",
              "      <td>-2.836627e+00</td>\n",
              "      <td>-1.029540e+01</td>\n",
              "      <td>-2.604551e+00</td>\n",
              "      <td>-2.256568e+01</td>\n",
              "      <td>-1.543008e+01</td>\n",
              "      <td>0.000000</td>\n",
              "      <td>0.000000</td>\n",
              "    </tr>\n",
              "    <tr>\n",
              "      <th>25%</th>\n",
              "      <td>54201.500000</td>\n",
              "      <td>-9.203734e-01</td>\n",
              "      <td>-5.985499e-01</td>\n",
              "      <td>-8.903648e-01</td>\n",
              "      <td>-8.486401e-01</td>\n",
              "      <td>-6.915971e-01</td>\n",
              "      <td>-7.682956e-01</td>\n",
              "      <td>-5.540759e-01</td>\n",
              "      <td>-2.086297e-01</td>\n",
              "      <td>-6.430976e-01</td>\n",
              "      <td>...</td>\n",
              "      <td>-2.283949e-01</td>\n",
              "      <td>-5.423504e-01</td>\n",
              "      <td>-1.618463e-01</td>\n",
              "      <td>-3.545861e-01</td>\n",
              "      <td>-3.171451e-01</td>\n",
              "      <td>-3.269839e-01</td>\n",
              "      <td>-7.083953e-02</td>\n",
              "      <td>-5.295979e-02</td>\n",
              "      <td>5.600000</td>\n",
              "      <td>0.000000</td>\n",
              "    </tr>\n",
              "    <tr>\n",
              "      <th>50%</th>\n",
              "      <td>84692.000000</td>\n",
              "      <td>1.810880e-02</td>\n",
              "      <td>6.548556e-02</td>\n",
              "      <td>1.798463e-01</td>\n",
              "      <td>-1.984653e-02</td>\n",
              "      <td>-5.433583e-02</td>\n",
              "      <td>-2.741871e-01</td>\n",
              "      <td>4.010308e-02</td>\n",
              "      <td>2.235804e-02</td>\n",
              "      <td>-5.142873e-02</td>\n",
              "      <td>...</td>\n",
              "      <td>-2.945017e-02</td>\n",
              "      <td>6.781943e-03</td>\n",
              "      <td>-1.119293e-02</td>\n",
              "      <td>4.097606e-02</td>\n",
              "      <td>1.659350e-02</td>\n",
              "      <td>-5.213911e-02</td>\n",
              "      <td>1.342146e-03</td>\n",
              "      <td>1.124383e-02</td>\n",
              "      <td>22.000000</td>\n",
              "      <td>0.000000</td>\n",
              "    </tr>\n",
              "    <tr>\n",
              "      <th>75%</th>\n",
              "      <td>139320.500000</td>\n",
              "      <td>1.315642e+00</td>\n",
              "      <td>8.037239e-01</td>\n",
              "      <td>1.027196e+00</td>\n",
              "      <td>7.433413e-01</td>\n",
              "      <td>6.119264e-01</td>\n",
              "      <td>3.985649e-01</td>\n",
              "      <td>5.704361e-01</td>\n",
              "      <td>3.273459e-01</td>\n",
              "      <td>5.971390e-01</td>\n",
              "      <td>...</td>\n",
              "      <td>1.863772e-01</td>\n",
              "      <td>5.285536e-01</td>\n",
              "      <td>1.476421e-01</td>\n",
              "      <td>4.395266e-01</td>\n",
              "      <td>3.507156e-01</td>\n",
              "      <td>2.409522e-01</td>\n",
              "      <td>9.104512e-02</td>\n",
              "      <td>7.827995e-02</td>\n",
              "      <td>77.165000</td>\n",
              "      <td>0.000000</td>\n",
              "    </tr>\n",
              "    <tr>\n",
              "      <th>max</th>\n",
              "      <td>172792.000000</td>\n",
              "      <td>2.454930e+00</td>\n",
              "      <td>2.205773e+01</td>\n",
              "      <td>9.382558e+00</td>\n",
              "      <td>1.687534e+01</td>\n",
              "      <td>3.480167e+01</td>\n",
              "      <td>7.330163e+01</td>\n",
              "      <td>1.205895e+02</td>\n",
              "      <td>2.000721e+01</td>\n",
              "      <td>1.559499e+01</td>\n",
              "      <td>...</td>\n",
              "      <td>2.720284e+01</td>\n",
              "      <td>1.050309e+01</td>\n",
              "      <td>2.252841e+01</td>\n",
              "      <td>4.584549e+00</td>\n",
              "      <td>7.519589e+00</td>\n",
              "      <td>3.517346e+00</td>\n",
              "      <td>3.161220e+01</td>\n",
              "      <td>3.384781e+01</td>\n",
              "      <td>25691.160000</td>\n",
              "      <td>1.000000</td>\n",
              "    </tr>\n",
              "  </tbody>\n",
              "</table>\n",
              "<p>8 rows × 31 columns</p>\n",
              "</div>\n",
              "      <button class=\"colab-df-convert\" onclick=\"convertToInteractive('df-66e3adb4-feca-4bd6-9844-75ec27bf53a1')\"\n",
              "              title=\"Convert this dataframe to an interactive table.\"\n",
              "              style=\"display:none;\">\n",
              "        \n",
              "  <svg xmlns=\"http://www.w3.org/2000/svg\" height=\"24px\"viewBox=\"0 0 24 24\"\n",
              "       width=\"24px\">\n",
              "    <path d=\"M0 0h24v24H0V0z\" fill=\"none\"/>\n",
              "    <path d=\"M18.56 5.44l.94 2.06.94-2.06 2.06-.94-2.06-.94-.94-2.06-.94 2.06-2.06.94zm-11 1L8.5 8.5l.94-2.06 2.06-.94-2.06-.94L8.5 2.5l-.94 2.06-2.06.94zm10 10l.94 2.06.94-2.06 2.06-.94-2.06-.94-.94-2.06-.94 2.06-2.06.94z\"/><path d=\"M17.41 7.96l-1.37-1.37c-.4-.4-.92-.59-1.43-.59-.52 0-1.04.2-1.43.59L10.3 9.45l-7.72 7.72c-.78.78-.78 2.05 0 2.83L4 21.41c.39.39.9.59 1.41.59.51 0 1.02-.2 1.41-.59l7.78-7.78 2.81-2.81c.8-.78.8-2.07 0-2.86zM5.41 20L4 18.59l7.72-7.72 1.47 1.35L5.41 20z\"/>\n",
              "  </svg>\n",
              "      </button>\n",
              "      \n",
              "  <style>\n",
              "    .colab-df-container {\n",
              "      display:flex;\n",
              "      flex-wrap:wrap;\n",
              "      gap: 12px;\n",
              "    }\n",
              "\n",
              "    .colab-df-convert {\n",
              "      background-color: #E8F0FE;\n",
              "      border: none;\n",
              "      border-radius: 50%;\n",
              "      cursor: pointer;\n",
              "      display: none;\n",
              "      fill: #1967D2;\n",
              "      height: 32px;\n",
              "      padding: 0 0 0 0;\n",
              "      width: 32px;\n",
              "    }\n",
              "\n",
              "    .colab-df-convert:hover {\n",
              "      background-color: #E2EBFA;\n",
              "      box-shadow: 0px 1px 2px rgba(60, 64, 67, 0.3), 0px 1px 3px 1px rgba(60, 64, 67, 0.15);\n",
              "      fill: #174EA6;\n",
              "    }\n",
              "\n",
              "    [theme=dark] .colab-df-convert {\n",
              "      background-color: #3B4455;\n",
              "      fill: #D2E3FC;\n",
              "    }\n",
              "\n",
              "    [theme=dark] .colab-df-convert:hover {\n",
              "      background-color: #434B5C;\n",
              "      box-shadow: 0px 1px 3px 1px rgba(0, 0, 0, 0.15);\n",
              "      filter: drop-shadow(0px 1px 2px rgba(0, 0, 0, 0.3));\n",
              "      fill: #FFFFFF;\n",
              "    }\n",
              "  </style>\n",
              "\n",
              "      <script>\n",
              "        const buttonEl =\n",
              "          document.querySelector('#df-66e3adb4-feca-4bd6-9844-75ec27bf53a1 button.colab-df-convert');\n",
              "        buttonEl.style.display =\n",
              "          google.colab.kernel.accessAllowed ? 'block' : 'none';\n",
              "\n",
              "        async function convertToInteractive(key) {\n",
              "          const element = document.querySelector('#df-66e3adb4-feca-4bd6-9844-75ec27bf53a1');\n",
              "          const dataTable =\n",
              "            await google.colab.kernel.invokeFunction('convertToInteractive',\n",
              "                                                     [key], {});\n",
              "          if (!dataTable) return;\n",
              "\n",
              "          const docLinkHtml = 'Like what you see? Visit the ' +\n",
              "            '<a target=\"_blank\" href=https://colab.research.google.com/notebooks/data_table.ipynb>data table notebook</a>'\n",
              "            + ' to learn more about interactive tables.';\n",
              "          element.innerHTML = '';\n",
              "          dataTable['output_type'] = 'display_data';\n",
              "          await google.colab.output.renderOutput(dataTable, element);\n",
              "          const docLink = document.createElement('div');\n",
              "          docLink.innerHTML = docLinkHtml;\n",
              "          element.appendChild(docLink);\n",
              "        }\n",
              "      </script>\n",
              "    </div>\n",
              "  </div>\n",
              "  "
            ],
            "text/plain": [
              "                Time            V1            V2            V3            V4  \\\n",
              "count  284807.000000  2.848070e+05  2.848070e+05  2.848070e+05  2.848070e+05   \n",
              "mean    94813.859575  3.918649e-15  5.682686e-16 -8.761736e-15  2.811118e-15   \n",
              "std     47488.145955  1.958696e+00  1.651309e+00  1.516255e+00  1.415869e+00   \n",
              "min         0.000000 -5.640751e+01 -7.271573e+01 -4.832559e+01 -5.683171e+00   \n",
              "25%     54201.500000 -9.203734e-01 -5.985499e-01 -8.903648e-01 -8.486401e-01   \n",
              "50%     84692.000000  1.810880e-02  6.548556e-02  1.798463e-01 -1.984653e-02   \n",
              "75%    139320.500000  1.315642e+00  8.037239e-01  1.027196e+00  7.433413e-01   \n",
              "max    172792.000000  2.454930e+00  2.205773e+01  9.382558e+00  1.687534e+01   \n",
              "\n",
              "                 V5            V6            V7            V8            V9  \\\n",
              "count  2.848070e+05  2.848070e+05  2.848070e+05  2.848070e+05  2.848070e+05   \n",
              "mean  -1.552103e-15  2.040130e-15 -1.698953e-15 -1.893285e-16 -3.147640e-15   \n",
              "std    1.380247e+00  1.332271e+00  1.237094e+00  1.194353e+00  1.098632e+00   \n",
              "min   -1.137433e+02 -2.616051e+01 -4.355724e+01 -7.321672e+01 -1.343407e+01   \n",
              "25%   -6.915971e-01 -7.682956e-01 -5.540759e-01 -2.086297e-01 -6.430976e-01   \n",
              "50%   -5.433583e-02 -2.741871e-01  4.010308e-02  2.235804e-02 -5.142873e-02   \n",
              "75%    6.119264e-01  3.985649e-01  5.704361e-01  3.273459e-01  5.971390e-01   \n",
              "max    3.480167e+01  7.330163e+01  1.205895e+02  2.000721e+01  1.559499e+01   \n",
              "\n",
              "       ...           V21           V22           V23           V24  \\\n",
              "count  ...  2.848070e+05  2.848070e+05  2.848070e+05  2.848070e+05   \n",
              "mean   ...  1.473120e-16  8.042109e-16  5.282512e-16  4.456271e-15   \n",
              "std    ...  7.345240e-01  7.257016e-01  6.244603e-01  6.056471e-01   \n",
              "min    ... -3.483038e+01 -1.093314e+01 -4.480774e+01 -2.836627e+00   \n",
              "25%    ... -2.283949e-01 -5.423504e-01 -1.618463e-01 -3.545861e-01   \n",
              "50%    ... -2.945017e-02  6.781943e-03 -1.119293e-02  4.097606e-02   \n",
              "75%    ...  1.863772e-01  5.285536e-01  1.476421e-01  4.395266e-01   \n",
              "max    ...  2.720284e+01  1.050309e+01  2.252841e+01  4.584549e+00   \n",
              "\n",
              "                V25           V26           V27           V28         Amount  \\\n",
              "count  2.848070e+05  2.848070e+05  2.848070e+05  2.848070e+05  284807.000000   \n",
              "mean   1.426896e-15  1.701640e-15 -3.662252e-16 -1.217809e-16      88.349619   \n",
              "std    5.212781e-01  4.822270e-01  4.036325e-01  3.300833e-01     250.120109   \n",
              "min   -1.029540e+01 -2.604551e+00 -2.256568e+01 -1.543008e+01       0.000000   \n",
              "25%   -3.171451e-01 -3.269839e-01 -7.083953e-02 -5.295979e-02       5.600000   \n",
              "50%    1.659350e-02 -5.213911e-02  1.342146e-03  1.124383e-02      22.000000   \n",
              "75%    3.507156e-01  2.409522e-01  9.104512e-02  7.827995e-02      77.165000   \n",
              "max    7.519589e+00  3.517346e+00  3.161220e+01  3.384781e+01   25691.160000   \n",
              "\n",
              "               Class  \n",
              "count  284807.000000  \n",
              "mean        0.001727  \n",
              "std         0.041527  \n",
              "min         0.000000  \n",
              "25%         0.000000  \n",
              "50%         0.000000  \n",
              "75%         0.000000  \n",
              "max         1.000000  \n",
              "\n",
              "[8 rows x 31 columns]"
            ]
          },
          "execution_count": 4,
          "metadata": {},
          "output_type": "execute_result"
        }
      ],
      "source": [
        "credit_data.describe()"
      ]
    },
    {
      "cell_type": "code",
      "execution_count": null,
      "metadata": {
        "colab": {
          "base_uri": "https://localhost:8080/",
          "height": 299
        },
        "id": "MrIujqHzAZzR",
        "outputId": "7b62dcf5-1262-41e9-c28f-f1a292a7641b"
      },
      "outputs": [
        {
          "data": {
            "text/html": [
              "\n",
              "  <div id=\"df-e94f49eb-1216-4c14-809e-f3214b620ba4\">\n",
              "    <div class=\"colab-df-container\">\n",
              "      <div>\n",
              "<style scoped>\n",
              "    .dataframe tbody tr th:only-of-type {\n",
              "        vertical-align: middle;\n",
              "    }\n",
              "\n",
              "    .dataframe tbody tr th {\n",
              "        vertical-align: top;\n",
              "    }\n",
              "\n",
              "    .dataframe thead th {\n",
              "        text-align: right;\n",
              "    }\n",
              "</style>\n",
              "<table border=\"1\" class=\"dataframe\">\n",
              "  <thead>\n",
              "    <tr style=\"text-align: right;\">\n",
              "      <th></th>\n",
              "      <th>Time</th>\n",
              "      <th>V1</th>\n",
              "      <th>V2</th>\n",
              "      <th>V3</th>\n",
              "      <th>V4</th>\n",
              "      <th>V5</th>\n",
              "      <th>V6</th>\n",
              "      <th>V7</th>\n",
              "      <th>V8</th>\n",
              "      <th>V9</th>\n",
              "      <th>...</th>\n",
              "      <th>V21</th>\n",
              "      <th>V22</th>\n",
              "      <th>V23</th>\n",
              "      <th>V24</th>\n",
              "      <th>V25</th>\n",
              "      <th>V26</th>\n",
              "      <th>V27</th>\n",
              "      <th>V28</th>\n",
              "      <th>Amount</th>\n",
              "      <th>Class</th>\n",
              "    </tr>\n",
              "  </thead>\n",
              "  <tbody>\n",
              "    <tr>\n",
              "      <th>0</th>\n",
              "      <td>0.0</td>\n",
              "      <td>-1.359807</td>\n",
              "      <td>-0.072781</td>\n",
              "      <td>2.536347</td>\n",
              "      <td>1.378155</td>\n",
              "      <td>-0.338321</td>\n",
              "      <td>0.462388</td>\n",
              "      <td>0.239599</td>\n",
              "      <td>0.098698</td>\n",
              "      <td>0.363787</td>\n",
              "      <td>...</td>\n",
              "      <td>-0.018307</td>\n",
              "      <td>0.277838</td>\n",
              "      <td>-0.110474</td>\n",
              "      <td>0.066928</td>\n",
              "      <td>0.128539</td>\n",
              "      <td>-0.189115</td>\n",
              "      <td>0.133558</td>\n",
              "      <td>-0.021053</td>\n",
              "      <td>149.62</td>\n",
              "      <td>0</td>\n",
              "    </tr>\n",
              "    <tr>\n",
              "      <th>1</th>\n",
              "      <td>0.0</td>\n",
              "      <td>1.191857</td>\n",
              "      <td>0.266151</td>\n",
              "      <td>0.166480</td>\n",
              "      <td>0.448154</td>\n",
              "      <td>0.060018</td>\n",
              "      <td>-0.082361</td>\n",
              "      <td>-0.078803</td>\n",
              "      <td>0.085102</td>\n",
              "      <td>-0.255425</td>\n",
              "      <td>...</td>\n",
              "      <td>-0.225775</td>\n",
              "      <td>-0.638672</td>\n",
              "      <td>0.101288</td>\n",
              "      <td>-0.339846</td>\n",
              "      <td>0.167170</td>\n",
              "      <td>0.125895</td>\n",
              "      <td>-0.008983</td>\n",
              "      <td>0.014724</td>\n",
              "      <td>2.69</td>\n",
              "      <td>0</td>\n",
              "    </tr>\n",
              "    <tr>\n",
              "      <th>2</th>\n",
              "      <td>1.0</td>\n",
              "      <td>-1.358354</td>\n",
              "      <td>-1.340163</td>\n",
              "      <td>1.773209</td>\n",
              "      <td>0.379780</td>\n",
              "      <td>-0.503198</td>\n",
              "      <td>1.800499</td>\n",
              "      <td>0.791461</td>\n",
              "      <td>0.247676</td>\n",
              "      <td>-1.514654</td>\n",
              "      <td>...</td>\n",
              "      <td>0.247998</td>\n",
              "      <td>0.771679</td>\n",
              "      <td>0.909412</td>\n",
              "      <td>-0.689281</td>\n",
              "      <td>-0.327642</td>\n",
              "      <td>-0.139097</td>\n",
              "      <td>-0.055353</td>\n",
              "      <td>-0.059752</td>\n",
              "      <td>378.66</td>\n",
              "      <td>0</td>\n",
              "    </tr>\n",
              "    <tr>\n",
              "      <th>3</th>\n",
              "      <td>1.0</td>\n",
              "      <td>-0.966272</td>\n",
              "      <td>-0.185226</td>\n",
              "      <td>1.792993</td>\n",
              "      <td>-0.863291</td>\n",
              "      <td>-0.010309</td>\n",
              "      <td>1.247203</td>\n",
              "      <td>0.237609</td>\n",
              "      <td>0.377436</td>\n",
              "      <td>-1.387024</td>\n",
              "      <td>...</td>\n",
              "      <td>-0.108300</td>\n",
              "      <td>0.005274</td>\n",
              "      <td>-0.190321</td>\n",
              "      <td>-1.175575</td>\n",
              "      <td>0.647376</td>\n",
              "      <td>-0.221929</td>\n",
              "      <td>0.062723</td>\n",
              "      <td>0.061458</td>\n",
              "      <td>123.50</td>\n",
              "      <td>0</td>\n",
              "    </tr>\n",
              "    <tr>\n",
              "      <th>4</th>\n",
              "      <td>2.0</td>\n",
              "      <td>-1.158233</td>\n",
              "      <td>0.877737</td>\n",
              "      <td>1.548718</td>\n",
              "      <td>0.403034</td>\n",
              "      <td>-0.407193</td>\n",
              "      <td>0.095921</td>\n",
              "      <td>0.592941</td>\n",
              "      <td>-0.270533</td>\n",
              "      <td>0.817739</td>\n",
              "      <td>...</td>\n",
              "      <td>-0.009431</td>\n",
              "      <td>0.798278</td>\n",
              "      <td>-0.137458</td>\n",
              "      <td>0.141267</td>\n",
              "      <td>-0.206010</td>\n",
              "      <td>0.502292</td>\n",
              "      <td>0.219422</td>\n",
              "      <td>0.215153</td>\n",
              "      <td>69.99</td>\n",
              "      <td>0</td>\n",
              "    </tr>\n",
              "  </tbody>\n",
              "</table>\n",
              "<p>5 rows × 31 columns</p>\n",
              "</div>\n",
              "      <button class=\"colab-df-convert\" onclick=\"convertToInteractive('df-e94f49eb-1216-4c14-809e-f3214b620ba4')\"\n",
              "              title=\"Convert this dataframe to an interactive table.\"\n",
              "              style=\"display:none;\">\n",
              "        \n",
              "  <svg xmlns=\"http://www.w3.org/2000/svg\" height=\"24px\"viewBox=\"0 0 24 24\"\n",
              "       width=\"24px\">\n",
              "    <path d=\"M0 0h24v24H0V0z\" fill=\"none\"/>\n",
              "    <path d=\"M18.56 5.44l.94 2.06.94-2.06 2.06-.94-2.06-.94-.94-2.06-.94 2.06-2.06.94zm-11 1L8.5 8.5l.94-2.06 2.06-.94-2.06-.94L8.5 2.5l-.94 2.06-2.06.94zm10 10l.94 2.06.94-2.06 2.06-.94-2.06-.94-.94-2.06-.94 2.06-2.06.94z\"/><path d=\"M17.41 7.96l-1.37-1.37c-.4-.4-.92-.59-1.43-.59-.52 0-1.04.2-1.43.59L10.3 9.45l-7.72 7.72c-.78.78-.78 2.05 0 2.83L4 21.41c.39.39.9.59 1.41.59.51 0 1.02-.2 1.41-.59l7.78-7.78 2.81-2.81c.8-.78.8-2.07 0-2.86zM5.41 20L4 18.59l7.72-7.72 1.47 1.35L5.41 20z\"/>\n",
              "  </svg>\n",
              "      </button>\n",
              "      \n",
              "  <style>\n",
              "    .colab-df-container {\n",
              "      display:flex;\n",
              "      flex-wrap:wrap;\n",
              "      gap: 12px;\n",
              "    }\n",
              "\n",
              "    .colab-df-convert {\n",
              "      background-color: #E8F0FE;\n",
              "      border: none;\n",
              "      border-radius: 50%;\n",
              "      cursor: pointer;\n",
              "      display: none;\n",
              "      fill: #1967D2;\n",
              "      height: 32px;\n",
              "      padding: 0 0 0 0;\n",
              "      width: 32px;\n",
              "    }\n",
              "\n",
              "    .colab-df-convert:hover {\n",
              "      background-color: #E2EBFA;\n",
              "      box-shadow: 0px 1px 2px rgba(60, 64, 67, 0.3), 0px 1px 3px 1px rgba(60, 64, 67, 0.15);\n",
              "      fill: #174EA6;\n",
              "    }\n",
              "\n",
              "    [theme=dark] .colab-df-convert {\n",
              "      background-color: #3B4455;\n",
              "      fill: #D2E3FC;\n",
              "    }\n",
              "\n",
              "    [theme=dark] .colab-df-convert:hover {\n",
              "      background-color: #434B5C;\n",
              "      box-shadow: 0px 1px 3px 1px rgba(0, 0, 0, 0.15);\n",
              "      filter: drop-shadow(0px 1px 2px rgba(0, 0, 0, 0.3));\n",
              "      fill: #FFFFFF;\n",
              "    }\n",
              "  </style>\n",
              "\n",
              "      <script>\n",
              "        const buttonEl =\n",
              "          document.querySelector('#df-e94f49eb-1216-4c14-809e-f3214b620ba4 button.colab-df-convert');\n",
              "        buttonEl.style.display =\n",
              "          google.colab.kernel.accessAllowed ? 'block' : 'none';\n",
              "\n",
              "        async function convertToInteractive(key) {\n",
              "          const element = document.querySelector('#df-e94f49eb-1216-4c14-809e-f3214b620ba4');\n",
              "          const dataTable =\n",
              "            await google.colab.kernel.invokeFunction('convertToInteractive',\n",
              "                                                     [key], {});\n",
              "          if (!dataTable) return;\n",
              "\n",
              "          const docLinkHtml = 'Like what you see? Visit the ' +\n",
              "            '<a target=\"_blank\" href=https://colab.research.google.com/notebooks/data_table.ipynb>data table notebook</a>'\n",
              "            + ' to learn more about interactive tables.';\n",
              "          element.innerHTML = '';\n",
              "          dataTable['output_type'] = 'display_data';\n",
              "          await google.colab.output.renderOutput(dataTable, element);\n",
              "          const docLink = document.createElement('div');\n",
              "          docLink.innerHTML = docLinkHtml;\n",
              "          element.appendChild(docLink);\n",
              "        }\n",
              "      </script>\n",
              "    </div>\n",
              "  </div>\n",
              "  "
            ],
            "text/plain": [
              "   Time        V1        V2        V3        V4        V5        V6        V7  \\\n",
              "0   0.0 -1.359807 -0.072781  2.536347  1.378155 -0.338321  0.462388  0.239599   \n",
              "1   0.0  1.191857  0.266151  0.166480  0.448154  0.060018 -0.082361 -0.078803   \n",
              "2   1.0 -1.358354 -1.340163  1.773209  0.379780 -0.503198  1.800499  0.791461   \n",
              "3   1.0 -0.966272 -0.185226  1.792993 -0.863291 -0.010309  1.247203  0.237609   \n",
              "4   2.0 -1.158233  0.877737  1.548718  0.403034 -0.407193  0.095921  0.592941   \n",
              "\n",
              "         V8        V9  ...       V21       V22       V23       V24       V25  \\\n",
              "0  0.098698  0.363787  ... -0.018307  0.277838 -0.110474  0.066928  0.128539   \n",
              "1  0.085102 -0.255425  ... -0.225775 -0.638672  0.101288 -0.339846  0.167170   \n",
              "2  0.247676 -1.514654  ...  0.247998  0.771679  0.909412 -0.689281 -0.327642   \n",
              "3  0.377436 -1.387024  ... -0.108300  0.005274 -0.190321 -1.175575  0.647376   \n",
              "4 -0.270533  0.817739  ... -0.009431  0.798278 -0.137458  0.141267 -0.206010   \n",
              "\n",
              "        V26       V27       V28  Amount  Class  \n",
              "0 -0.189115  0.133558 -0.021053  149.62      0  \n",
              "1  0.125895 -0.008983  0.014724    2.69      0  \n",
              "2 -0.139097 -0.055353 -0.059752  378.66      0  \n",
              "3 -0.221929  0.062723  0.061458  123.50      0  \n",
              "4  0.502292  0.219422  0.215153   69.99      0  \n",
              "\n",
              "[5 rows x 31 columns]"
            ]
          },
          "execution_count": 5,
          "metadata": {},
          "output_type": "execute_result"
        }
      ],
      "source": [
        "credit_data.head()"
      ]
    },
    {
      "cell_type": "markdown",
      "source": [
        "**Plotting the variables using subplots**"
      ],
      "metadata": {
        "id": "jkDid8_rGSCm"
      }
    },
    {
      "cell_type": "code",
      "execution_count": 130,
      "metadata": {
        "colab": {
          "base_uri": "https://localhost:8080/",
          "height": 705
        },
        "id": "H34cU3MEIcg7",
        "outputId": "49cd9345-4ad8-4178-8ea7-90922d449916"
      },
      "outputs": [
        {
          "output_type": "display_data",
          "data": {
            "text/plain": [
              "<Figure size 1080x864 with 28 Axes>"
            ],
            "image/png": "[encoded data removed]"
          },
          "metadata": {}
        }
      ],
      "source": [
        "fig = plt.figure(figsize = (15, 12))\n",
        "\n",
        "plt.subplot(5, 6, 1) ; plt.plot(credit_data.V1) ; plt.subplot(5, 6, 15) ; plt.plot(credit_data.V15)\n",
        "plt.subplot(5, 6, 2) ; plt.plot(credit_data.V2) ; plt.subplot(5, 6, 16) ; plt.plot(credit_data.V16)\n",
        "plt.subplot(5, 6, 3) ; plt.plot(credit_data.V3) ; plt.subplot(5, 6, 17) ; plt.plot(credit_data.V17)\n",
        "plt.subplot(5, 6, 4) ; plt.plot(credit_data.V4) ; plt.subplot(5, 6, 18) ; plt.plot(credit_data.V18)\n",
        "plt.subplot(5, 6, 5) ; plt.plot(credit_data.V5) ; plt.subplot(5, 6, 19) ; plt.plot(credit_data.V19)\n",
        "plt.subplot(5, 6, 6) ; plt.plot(credit_data.V6) ; plt.subplot(5, 6, 20) ; plt.plot(credit_data.V20)\n",
        "plt.subplot(5, 6, 7) ; plt.plot(credit_data.V7) ; plt.subplot(5, 6, 21) ; plt.plot(credit_data.V21)\n",
        "plt.subplot(5, 6, 8) ; plt.plot(credit_data.V8) ; plt.subplot(5, 6, 22) ; plt.plot(credit_data.V22)\n",
        "plt.subplot(5, 6, 9) ; plt.plot(credit_data.V9) ; plt.subplot(5, 6, 23) ; plt.plot(credit_data.V23)\n",
        "plt.subplot(5, 6, 10) ; plt.plot(credit_data.V10) ; plt.subplot(5, 6, 24) ; plt.plot(credit_data.V24)\n",
        "plt.subplot(5, 6, 11) ; plt.plot(credit_data.V11) ; plt.subplot(5, 6, 25) ; plt.plot(credit_data.V25)\n",
        "plt.subplot(5, 6, 12) ; plt.plot(credit_data.V12) ; plt.subplot(5, 6, 26) ; plt.plot(credit_data.V26)\n",
        "plt.subplot(5, 6, 13) ; plt.plot(credit_data.V13) ; plt.subplot(5, 6, 27) ; plt.plot(credit_data.V27)\n",
        "plt.subplot(5, 6, 14) ; plt.plot(credit_data.V14) ; plt.subplot(5, 6, 28) ; plt.plot(credit_data.V28)\n",
        "plt.show()"
      ]
    },
    {
      "cell_type": "markdown",
      "metadata": {
        "id": "uZYx5tgS9JPh"
      },
      "source": [
        "# **Data Cleaning**"
      ]
    },
    {
      "cell_type": "code",
      "execution_count": null,
      "metadata": {
        "colab": {
          "base_uri": "https://localhost:8080/"
        },
        "id": "bbH_RymZ9N6k",
        "outputId": "b7cc5d6c-eaf8-40b9-d234-364663f048b5"
      },
      "outputs": [
        {
          "data": {
            "text/plain": [
              "V1                  0\n",
              "V2                  0\n",
              "V3                  0\n",
              "V4                  0\n",
              "V5                  0\n",
              "V6                  0\n",
              "V7                  0\n",
              "V8                  0\n",
              "V9                  0\n",
              "V10                 0\n",
              "V11                 0\n",
              "V12                 0\n",
              "V13                 0\n",
              "V14                 0\n",
              "V15                 0\n",
              "V16                 0\n",
              "V17                 0\n",
              "V18                 0\n",
              "V19                 0\n",
              "V20                 0\n",
              "V21                 0\n",
              "V22                 0\n",
              "V23                 0\n",
              "V24                 0\n",
              "V25                 0\n",
              "V26                 0\n",
              "V27                 0\n",
              "V28                 0\n",
              "Class               0\n",
              "NormalizedAmount    0\n",
              "dtype: int64"
            ]
          },
          "execution_count": 8,
          "metadata": {},
          "output_type": "execute_result"
        }
      ],
      "source": [
        "credit_data.isnull().sum()"
      ]
    },
    {
      "cell_type": "code",
      "execution_count": null,
      "metadata": {
        "colab": {
          "base_uri": "https://localhost:8080/",
          "height": 423
        },
        "id": "-OduyULo9l0S",
        "outputId": "3e86f792-e995-4bd1-dd4c-e39d94c699b0"
      },
      "outputs": [
        {
          "data": {
            "text/html": [
              "\n",
              "  <div id=\"df-8f1bc794-99d6-4032-be05-04887b54e2da\">\n",
              "    <div class=\"colab-df-container\">\n",
              "      <div>\n",
              "<style scoped>\n",
              "    .dataframe tbody tr th:only-of-type {\n",
              "        vertical-align: middle;\n",
              "    }\n",
              "\n",
              "    .dataframe tbody tr th {\n",
              "        vertical-align: top;\n",
              "    }\n",
              "\n",
              "    .dataframe thead th {\n",
              "        text-align: right;\n",
              "    }\n",
              "</style>\n",
              "<table border=\"1\" class=\"dataframe\">\n",
              "  <thead>\n",
              "    <tr style=\"text-align: right;\">\n",
              "      <th></th>\n",
              "      <th>V1</th>\n",
              "      <th>V2</th>\n",
              "      <th>V3</th>\n",
              "      <th>V4</th>\n",
              "      <th>V5</th>\n",
              "      <th>V6</th>\n",
              "      <th>V7</th>\n",
              "      <th>V8</th>\n",
              "      <th>V9</th>\n",
              "      <th>V10</th>\n",
              "      <th>...</th>\n",
              "      <th>V21</th>\n",
              "      <th>V22</th>\n",
              "      <th>V23</th>\n",
              "      <th>V24</th>\n",
              "      <th>V25</th>\n",
              "      <th>V26</th>\n",
              "      <th>V27</th>\n",
              "      <th>V28</th>\n",
              "      <th>Class</th>\n",
              "      <th>NormalizedAmount</th>\n",
              "    </tr>\n",
              "  </thead>\n",
              "  <tbody>\n",
              "    <tr>\n",
              "      <th>0</th>\n",
              "      <td>False</td>\n",
              "      <td>False</td>\n",
              "      <td>False</td>\n",
              "      <td>False</td>\n",
              "      <td>False</td>\n",
              "      <td>False</td>\n",
              "      <td>False</td>\n",
              "      <td>False</td>\n",
              "      <td>False</td>\n",
              "      <td>False</td>\n",
              "      <td>...</td>\n",
              "      <td>False</td>\n",
              "      <td>False</td>\n",
              "      <td>False</td>\n",
              "      <td>False</td>\n",
              "      <td>False</td>\n",
              "      <td>False</td>\n",
              "      <td>False</td>\n",
              "      <td>False</td>\n",
              "      <td>False</td>\n",
              "      <td>False</td>\n",
              "    </tr>\n",
              "    <tr>\n",
              "      <th>1</th>\n",
              "      <td>False</td>\n",
              "      <td>False</td>\n",
              "      <td>False</td>\n",
              "      <td>False</td>\n",
              "      <td>False</td>\n",
              "      <td>False</td>\n",
              "      <td>False</td>\n",
              "      <td>False</td>\n",
              "      <td>False</td>\n",
              "      <td>False</td>\n",
              "      <td>...</td>\n",
              "      <td>False</td>\n",
              "      <td>False</td>\n",
              "      <td>False</td>\n",
              "      <td>False</td>\n",
              "      <td>False</td>\n",
              "      <td>False</td>\n",
              "      <td>False</td>\n",
              "      <td>False</td>\n",
              "      <td>False</td>\n",
              "      <td>False</td>\n",
              "    </tr>\n",
              "    <tr>\n",
              "      <th>2</th>\n",
              "      <td>False</td>\n",
              "      <td>False</td>\n",
              "      <td>False</td>\n",
              "      <td>False</td>\n",
              "      <td>False</td>\n",
              "      <td>False</td>\n",
              "      <td>False</td>\n",
              "      <td>False</td>\n",
              "      <td>False</td>\n",
              "      <td>False</td>\n",
              "      <td>...</td>\n",
              "      <td>False</td>\n",
              "      <td>False</td>\n",
              "      <td>False</td>\n",
              "      <td>False</td>\n",
              "      <td>False</td>\n",
              "      <td>False</td>\n",
              "      <td>False</td>\n",
              "      <td>False</td>\n",
              "      <td>False</td>\n",
              "      <td>False</td>\n",
              "    </tr>\n",
              "    <tr>\n",
              "      <th>3</th>\n",
              "      <td>False</td>\n",
              "      <td>False</td>\n",
              "      <td>False</td>\n",
              "      <td>False</td>\n",
              "      <td>False</td>\n",
              "      <td>False</td>\n",
              "      <td>False</td>\n",
              "      <td>False</td>\n",
              "      <td>False</td>\n",
              "      <td>False</td>\n",
              "      <td>...</td>\n",
              "      <td>False</td>\n",
              "      <td>False</td>\n",
              "      <td>False</td>\n",
              "      <td>False</td>\n",
              "      <td>False</td>\n",
              "      <td>False</td>\n",
              "      <td>False</td>\n",
              "      <td>False</td>\n",
              "      <td>False</td>\n",
              "      <td>False</td>\n",
              "    </tr>\n",
              "    <tr>\n",
              "      <th>4</th>\n",
              "      <td>False</td>\n",
              "      <td>False</td>\n",
              "      <td>False</td>\n",
              "      <td>False</td>\n",
              "      <td>False</td>\n",
              "      <td>False</td>\n",
              "      <td>False</td>\n",
              "      <td>False</td>\n",
              "      <td>False</td>\n",
              "      <td>False</td>\n",
              "      <td>...</td>\n",
              "      <td>False</td>\n",
              "      <td>False</td>\n",
              "      <td>False</td>\n",
              "      <td>False</td>\n",
              "      <td>False</td>\n",
              "      <td>False</td>\n",
              "      <td>False</td>\n",
              "      <td>False</td>\n",
              "      <td>False</td>\n",
              "      <td>False</td>\n",
              "    </tr>\n",
              "    <tr>\n",
              "      <th>...</th>\n",
              "      <td>...</td>\n",
              "      <td>...</td>\n",
              "      <td>...</td>\n",
              "      <td>...</td>\n",
              "      <td>...</td>\n",
              "      <td>...</td>\n",
              "      <td>...</td>\n",
              "      <td>...</td>\n",
              "      <td>...</td>\n",
              "      <td>...</td>\n",
              "      <td>...</td>\n",
              "      <td>...</td>\n",
              "      <td>...</td>\n",
              "      <td>...</td>\n",
              "      <td>...</td>\n",
              "      <td>...</td>\n",
              "      <td>...</td>\n",
              "      <td>...</td>\n",
              "      <td>...</td>\n",
              "      <td>...</td>\n",
              "      <td>...</td>\n",
              "    </tr>\n",
              "    <tr>\n",
              "      <th>284802</th>\n",
              "      <td>False</td>\n",
              "      <td>False</td>\n",
              "      <td>False</td>\n",
              "      <td>False</td>\n",
              "      <td>False</td>\n",
              "      <td>False</td>\n",
              "      <td>False</td>\n",
              "      <td>False</td>\n",
              "      <td>False</td>\n",
              "      <td>False</td>\n",
              "      <td>...</td>\n",
              "      <td>False</td>\n",
              "      <td>False</td>\n",
              "      <td>False</td>\n",
              "      <td>False</td>\n",
              "      <td>False</td>\n",
              "      <td>False</td>\n",
              "      <td>False</td>\n",
              "      <td>False</td>\n",
              "      <td>False</td>\n",
              "      <td>False</td>\n",
              "    </tr>\n",
              "    <tr>\n",
              "      <th>284803</th>\n",
              "      <td>False</td>\n",
              "      <td>False</td>\n",
              "      <td>False</td>\n",
              "      <td>False</td>\n",
              "      <td>False</td>\n",
              "      <td>False</td>\n",
              "      <td>False</td>\n",
              "      <td>False</td>\n",
              "      <td>False</td>\n",
              "      <td>False</td>\n",
              "      <td>...</td>\n",
              "      <td>False</td>\n",
              "      <td>False</td>\n",
              "      <td>False</td>\n",
              "      <td>False</td>\n",
              "      <td>False</td>\n",
              "      <td>False</td>\n",
              "      <td>False</td>\n",
              "      <td>False</td>\n",
              "      <td>False</td>\n",
              "      <td>False</td>\n",
              "    </tr>\n",
              "    <tr>\n",
              "      <th>284804</th>\n",
              "      <td>False</td>\n",
              "      <td>False</td>\n",
              "      <td>False</td>\n",
              "      <td>False</td>\n",
              "      <td>False</td>\n",
              "      <td>False</td>\n",
              "      <td>False</td>\n",
              "      <td>False</td>\n",
              "      <td>False</td>\n",
              "      <td>False</td>\n",
              "      <td>...</td>\n",
              "      <td>False</td>\n",
              "      <td>False</td>\n",
              "      <td>False</td>\n",
              "      <td>False</td>\n",
              "      <td>False</td>\n",
              "      <td>False</td>\n",
              "      <td>False</td>\n",
              "      <td>False</td>\n",
              "      <td>False</td>\n",
              "      <td>False</td>\n",
              "    </tr>\n",
              "    <tr>\n",
              "      <th>284805</th>\n",
              "      <td>False</td>\n",
              "      <td>False</td>\n",
              "      <td>False</td>\n",
              "      <td>False</td>\n",
              "      <td>False</td>\n",
              "      <td>False</td>\n",
              "      <td>False</td>\n",
              "      <td>False</td>\n",
              "      <td>False</td>\n",
              "      <td>False</td>\n",
              "      <td>...</td>\n",
              "      <td>False</td>\n",
              "      <td>False</td>\n",
              "      <td>False</td>\n",
              "      <td>False</td>\n",
              "      <td>False</td>\n",
              "      <td>False</td>\n",
              "      <td>False</td>\n",
              "      <td>False</td>\n",
              "      <td>False</td>\n",
              "      <td>False</td>\n",
              "    </tr>\n",
              "    <tr>\n",
              "      <th>284806</th>\n",
              "      <td>False</td>\n",
              "      <td>False</td>\n",
              "      <td>False</td>\n",
              "      <td>False</td>\n",
              "      <td>False</td>\n",
              "      <td>False</td>\n",
              "      <td>False</td>\n",
              "      <td>False</td>\n",
              "      <td>False</td>\n",
              "      <td>False</td>\n",
              "      <td>...</td>\n",
              "      <td>False</td>\n",
              "      <td>False</td>\n",
              "      <td>False</td>\n",
              "      <td>False</td>\n",
              "      <td>False</td>\n",
              "      <td>False</td>\n",
              "      <td>False</td>\n",
              "      <td>False</td>\n",
              "      <td>False</td>\n",
              "      <td>False</td>\n",
              "    </tr>\n",
              "  </tbody>\n",
              "</table>\n",
              "<p>284807 rows × 30 columns</p>\n",
              "</div>\n",
              "      <button class=\"colab-df-convert\" onclick=\"convertToInteractive('df-8f1bc794-99d6-4032-be05-04887b54e2da')\"\n",
              "              title=\"Convert this dataframe to an interactive table.\"\n",
              "              style=\"display:none;\">\n",
              "        \n",
              "  <svg xmlns=\"http://www.w3.org/2000/svg\" height=\"24px\"viewBox=\"0 0 24 24\"\n",
              "       width=\"24px\">\n",
              "    <path d=\"M0 0h24v24H0V0z\" fill=\"none\"/>\n",
              "    <path d=\"M18.56 5.44l.94 2.06.94-2.06 2.06-.94-2.06-.94-.94-2.06-.94 2.06-2.06.94zm-11 1L8.5 8.5l.94-2.06 2.06-.94-2.06-.94L8.5 2.5l-.94 2.06-2.06.94zm10 10l.94 2.06.94-2.06 2.06-.94-2.06-.94-.94-2.06-.94 2.06-2.06.94z\"/><path d=\"M17.41 7.96l-1.37-1.37c-.4-.4-.92-.59-1.43-.59-.52 0-1.04.2-1.43.59L10.3 9.45l-7.72 7.72c-.78.78-.78 2.05 0 2.83L4 21.41c.39.39.9.59 1.41.59.51 0 1.02-.2 1.41-.59l7.78-7.78 2.81-2.81c.8-.78.8-2.07 0-2.86zM5.41 20L4 18.59l7.72-7.72 1.47 1.35L5.41 20z\"/>\n",
              "  </svg>\n",
              "      </button>\n",
              "      \n",
              "  <style>\n",
              "    .colab-df-container {\n",
              "      display:flex;\n",
              "      flex-wrap:wrap;\n",
              "      gap: 12px;\n",
              "    }\n",
              "\n",
              "    .colab-df-convert {\n",
              "      background-color: #E8F0FE;\n",
              "      border: none;\n",
              "      border-radius: 50%;\n",
              "      cursor: pointer;\n",
              "      display: none;\n",
              "      fill: #1967D2;\n",
              "      height: 32px;\n",
              "      padding: 0 0 0 0;\n",
              "      width: 32px;\n",
              "    }\n",
              "\n",
              "    .colab-df-convert:hover {\n",
              "      background-color: #E2EBFA;\n",
              "      box-shadow: 0px 1px 2px rgba(60, 64, 67, 0.3), 0px 1px 3px 1px rgba(60, 64, 67, 0.15);\n",
              "      fill: #174EA6;\n",
              "    }\n",
              "\n",
              "    [theme=dark] .colab-df-convert {\n",
              "      background-color: #3B4455;\n",
              "      fill: #D2E3FC;\n",
              "    }\n",
              "\n",
              "    [theme=dark] .colab-df-convert:hover {\n",
              "      background-color: #434B5C;\n",
              "      box-shadow: 0px 1px 3px 1px rgba(0, 0, 0, 0.15);\n",
              "      filter: drop-shadow(0px 1px 2px rgba(0, 0, 0, 0.3));\n",
              "      fill: #FFFFFF;\n",
              "    }\n",
              "  </style>\n",
              "\n",
              "      <script>\n",
              "        const buttonEl =\n",
              "          document.querySelector('#df-8f1bc794-99d6-4032-be05-04887b54e2da button.colab-df-convert');\n",
              "        buttonEl.style.display =\n",
              "          google.colab.kernel.accessAllowed ? 'block' : 'none';\n",
              "\n",
              "        async function convertToInteractive(key) {\n",
              "          const element = document.querySelector('#df-8f1bc794-99d6-4032-be05-04887b54e2da');\n",
              "          const dataTable =\n",
              "            await google.colab.kernel.invokeFunction('convertToInteractive',\n",
              "                                                     [key], {});\n",
              "          if (!dataTable) return;\n",
              "\n",
              "          const docLinkHtml = 'Like what you see? Visit the ' +\n",
              "            '<a target=\"_blank\" href=https://colab.research.google.com/notebooks/data_table.ipynb>data table notebook</a>'\n",
              "            + ' to learn more about interactive tables.';\n",
              "          element.innerHTML = '';\n",
              "          dataTable['output_type'] = 'display_data';\n",
              "          await google.colab.output.renderOutput(dataTable, element);\n",
              "          const docLink = document.createElement('div');\n",
              "          docLink.innerHTML = docLinkHtml;\n",
              "          element.appendChild(docLink);\n",
              "        }\n",
              "      </script>\n",
              "    </div>\n",
              "  </div>\n",
              "  "
            ],
            "text/plain": [
              "           V1     V2     V3     V4     V5     V6     V7     V8     V9    V10  \\\n",
              "0       False  False  False  False  False  False  False  False  False  False   \n",
              "1       False  False  False  False  False  False  False  False  False  False   \n",
              "2       False  False  False  False  False  False  False  False  False  False   \n",
              "3       False  False  False  False  False  False  False  False  False  False   \n",
              "4       False  False  False  False  False  False  False  False  False  False   \n",
              "...       ...    ...    ...    ...    ...    ...    ...    ...    ...    ...   \n",
              "284802  False  False  False  False  False  False  False  False  False  False   \n",
              "284803  False  False  False  False  False  False  False  False  False  False   \n",
              "284804  False  False  False  False  False  False  False  False  False  False   \n",
              "284805  False  False  False  False  False  False  False  False  False  False   \n",
              "284806  False  False  False  False  False  False  False  False  False  False   \n",
              "\n",
              "        ...    V21    V22    V23    V24    V25    V26    V27    V28  Class  \\\n",
              "0       ...  False  False  False  False  False  False  False  False  False   \n",
              "1       ...  False  False  False  False  False  False  False  False  False   \n",
              "2       ...  False  False  False  False  False  False  False  False  False   \n",
              "3       ...  False  False  False  False  False  False  False  False  False   \n",
              "4       ...  False  False  False  False  False  False  False  False  False   \n",
              "...     ...    ...    ...    ...    ...    ...    ...    ...    ...    ...   \n",
              "284802  ...  False  False  False  False  False  False  False  False  False   \n",
              "284803  ...  False  False  False  False  False  False  False  False  False   \n",
              "284804  ...  False  False  False  False  False  False  False  False  False   \n",
              "284805  ...  False  False  False  False  False  False  False  False  False   \n",
              "284806  ...  False  False  False  False  False  False  False  False  False   \n",
              "\n",
              "        NormalizedAmount  \n",
              "0                  False  \n",
              "1                  False  \n",
              "2                  False  \n",
              "3                  False  \n",
              "4                  False  \n",
              "...                  ...  \n",
              "284802             False  \n",
              "284803             False  \n",
              "284804             False  \n",
              "284805             False  \n",
              "284806             False  \n",
              "\n",
              "[284807 rows x 30 columns]"
            ]
          },
          "execution_count": 9,
          "metadata": {},
          "output_type": "execute_result"
        }
      ],
      "source": [
        "credit_data.isnull()"
      ]
    },
    {
      "cell_type": "code",
      "execution_count": 131,
      "metadata": {
        "colab": {
          "base_uri": "https://localhost:8080/"
        },
        "id": "G9bSMZKH9vgA",
        "outputId": "6d6038ba-9355-4ac2-945f-88f02142ed72"
      },
      "outputs": [
        {
          "output_type": "execute_result",
          "data": {
            "text/plain": [
              "array([0, 1])"
            ]
          },
          "metadata": {},
          "execution_count": 131
        }
      ],
      "source": [
        "#Creating X axis & Y axis data \n",
        "#Y axis data from feature class => Feature 'Class' is the response variable ( it takes value 1 in case of fraud and 0 otherwise),\n",
        "Y_credit=credit_data['Class']\n",
        "Y_credit=Y_credit.astype('int')\n",
        "Y_credit.unique()\n"
      ]
    },
    {
      "cell_type": "code",
      "execution_count": 132,
      "metadata": {
        "colab": {
          "base_uri": "https://localhost:8080/"
        },
        "id": "ulFeh_27-wnK",
        "outputId": "eccc85e4-bf8e-494a-8706-e2f363d00959"
      },
      "outputs": [
        {
          "output_type": "execute_result",
          "data": {
            "text/plain": [
              "array([[ 0.0000000e+00, -1.3598071e+00, -7.2781175e-02, ...,\n",
              "         1.3355838e-01, -2.1053053e-02,  1.4962000e+02],\n",
              "       [ 0.0000000e+00,  1.1918571e+00,  2.6615071e-01, ...,\n",
              "        -8.9830989e-03,  1.4724169e-02,  2.6900001e+00],\n",
              "       [ 1.0000000e+00, -1.3583541e+00, -1.3401631e+00, ...,\n",
              "        -5.5352796e-02, -5.9751842e-02,  3.7866000e+02],\n",
              "       ...,\n",
              "       [ 1.7278800e+05,  1.9195650e+00, -3.0125386e-01, ...,\n",
              "         4.4547720e-03, -2.6560828e-02,  6.7879997e+01],\n",
              "       [ 1.7278800e+05, -2.4044006e-01,  5.3048253e-01, ...,\n",
              "         1.0882074e-01,  1.0453282e-01,  1.0000000e+01],\n",
              "       [ 1.7279200e+05, -5.3341252e-01, -1.8973334e-01, ...,\n",
              "        -2.4153087e-03,  1.3648914e-02,  2.1700000e+02]], dtype=float32)"
            ]
          },
          "metadata": {},
          "execution_count": 132
        }
      ],
      "source": [
        "#X axis data from the Features V1, V2, … V28 are the principal components obtained with PCA, the only features which have not been \n",
        "#Transformed with PCA are 'Time' and 'Amount'. Feature 'Time' contains the seconds elapsed between each transaction and the \n",
        "#first transaction in the dataset. The feature 'Amount' is the transaction Amount, this feature can be used for example-dependant \n",
        "#cost-sensitive learning. \n",
        "X_credit  = credit_data.drop(['Class'], axis = 1)\n",
        "X_credit = np.asarray(X_credit).astype('float32')\n",
        "X_credit"
      ]
    },
    {
      "cell_type": "markdown",
      "metadata": {
        "id": "tPDoIlVQdm30"
      },
      "source": [
        "**Split** **Data**"
      ]
    },
    {
      "cell_type": "code",
      "execution_count": 133,
      "metadata": {
        "colab": {
          "base_uri": "https://localhost:8080/"
        },
        "id": "SmOYaVRr_Mjl",
        "outputId": "071bee97-58ac-47b9-f757-e3dc094748f4"
      },
      "outputs": [
        {
          "output_type": "stream",
          "name": "stdout",
          "text": [
            "Length of X_train is: 199364\n",
            "Length of X_test is: 85443\n",
            "Length of y_train is: 199364\n",
            "Length of y_test is: 85443\n",
            "Shape of training data : (199364, 30)\n",
            "Shape of test data : (85443, 30)\n"
          ]
        }
      ],
      "source": [
        "#Create test and train X and Y axis data sets from the CSV data\n",
        "\n",
        "X_train, X_test, y_train, y_test = train_test_split(X_credit, Y_credit, test_size=0.30, random_state=0)\n",
        "print(\"Length of X_train is: {X_train}\".format(X_train = len(X_train)))\n",
        "print(\"Length of X_test is: {X_test}\".format(X_test = len(X_test)))\n",
        "print(\"Length of y_train is: {y_train}\".format(y_train = len(y_train)))\n",
        "print(\"Length of y_test is: {y_test}\".format(y_test = len(y_test)))\n",
        "print(\"Shape of training data : \"+str(X_train.shape))\n",
        "print(\"Shape of test data : \"+str(X_test.shape))"
      ]
    },
    {
      "cell_type": "code",
      "execution_count": 134,
      "metadata": {
        "colab": {
          "base_uri": "https://localhost:8080/"
        },
        "id": "rUqIUxQG_iqp",
        "outputId": "8f84fd85-df59-4b6a-8b99-32a4e3ba5cb1"
      },
      "outputs": [
        {
          "output_type": "stream",
          "name": "stdout",
          "text": [
            "Train data\n",
            "\n",
            "[[ 1.13921000e+05 -1.32066265e-01  1.07043549e-01 ...  3.06394666e-01\n",
            "   7.48169646e-02  4.78899994e+01]\n",
            " [ 1.35319000e+05  2.12599444e+00  1.42074060e-02 ... -6.82673827e-02\n",
            "  -5.76775894e-02  1.98000002e+00]\n",
            " [ 1.25498000e+05 -8.66939723e-02  1.66240215e-01 ... -1.20157063e+00\n",
            "  -1.13993073e+00  1.70100006e+02]\n",
            " ...\n",
            " [ 7.66160000e+04  1.51260233e+00 -9.49435294e-01 ... -1.41537085e-03\n",
            "   3.66494409e-03  3.49000015e+01]\n",
            " [ 9.72530000e+04  1.79886329e+00 -1.69979072e+00 ... -3.36155817e-02\n",
            "  -3.24705131e-02  1.71309998e+02]\n",
            " [ 7.48870000e+04 -5.89399695e-01  7.47828364e-01 ...  8.65917876e-02\n",
            "   1.18083775e-01  1.59899998e+01]]\n",
            "161145    0\n",
            "204520    0\n",
            "182659    0\n",
            "25117     0\n",
            "227642    0\n",
            "         ..\n",
            "211543    0\n",
            "86293     0\n",
            "122579    0\n",
            "152315    0\n",
            "117952    0\n",
            "Name: Class, Length: 199364, dtype: int64\n",
            "\n",
            "\n",
            "Test data\n",
            "\n",
            "[[ 1.2582100e+05 -3.2333356e-01  1.0574553e+00 ...  1.0849443e-01\n",
            "   1.6113916e-01  4.0000000e+01]\n",
            " [ 1.5723500e+05 -3.4971839e-01  9.3261856e-01 ...  7.6830029e-02\n",
            "   1.7556196e-01  1.9800000e+00]\n",
            " [ 1.5247100e+05 -1.6147108e+00 -2.4065697e+00 ...  2.8628510e-01\n",
            "   4.3732187e-01  9.6000000e+01]\n",
            " ...\n",
            " [ 5.5911000e+04 -1.2153901e+00  1.3795559e+00 ...  2.3435593e-01\n",
            "  -3.5338953e-02  5.7000000e+01]\n",
            " [ 3.8895000e+04 -6.3243848e-01  1.2122840e+00 ...  3.4526926e-01\n",
            "   1.6841905e-01  7.1500001e+00]\n",
            " [ 1.5080600e+05 -2.5285456e-01  1.8540283e+00 ...  3.6019629e-01\n",
            "   2.0683663e-01  1.0590000e+01]]\n",
            "183484    0\n",
            "255448    0\n",
            "244749    0\n",
            "63919     0\n",
            "11475     0\n",
            "         ..\n",
            "208059    0\n",
            "260930    0\n",
            "75125     0\n",
            "37292     0\n",
            "240913    0\n",
            "Name: Class, Length: 85443, dtype: int64\n"
          ]
        }
      ],
      "source": [
        "print(\"Train data\\n\")\n",
        "print(X_train)\n",
        "print(y_train)\n",
        "print(\"\\n\")\n",
        "print(\"Test data\\n\")\n",
        "print(X_test)\n",
        "print(y_test)"
      ]
    },
    {
      "cell_type": "markdown",
      "metadata": {
        "id": "8z3nmpUKBCVw"
      },
      "source": [
        "# **FEED FORWARD NEURAL NETWORK**"
      ]
    },
    {
      "cell_type": "markdown",
      "metadata": {
        "id": "71hvh72odtND"
      },
      "source": [
        "> **Create Model**"
      ]
    },
    {
      "cell_type": "code",
      "execution_count": null,
      "metadata": {
        "colab": {
          "base_uri": "https://localhost:8080/"
        },
        "id": "85Jht3dlOv8P",
        "outputId": "d857754c-4bc2-4dbb-adb5-523190380edf"
      },
      "outputs": [
        {
          "name": "stdout",
          "output_type": "stream",
          "text": [
            "Model: \"sequential_2\"\n",
            "_________________________________________________________________\n",
            " Layer (type)                Output Shape              Param #   \n",
            "=================================================================\n",
            " dense_6 (Dense)             (None, 1000)              30000     \n",
            "                                                                 \n",
            " dropout_4 (Dropout)         (None, 1000)              0         \n",
            "                                                                 \n",
            " dense_7 (Dense)             (None, 1000)              1001000   \n",
            "                                                                 \n",
            " dropout_5 (Dropout)         (None, 1000)              0         \n",
            "                                                                 \n",
            " dense_8 (Dense)             (None, 1)                 1001      \n",
            "                                                                 \n",
            "=================================================================\n",
            "Total params: 1,032,001\n",
            "Trainable params: 1,032,001\n",
            "Non-trainable params: 0\n",
            "_________________________________________________________________\n"
          ]
        }
      ],
      "source": [
        "neural_start_time = time.time()\n",
        "nn_model = Sequential()\n",
        "nn_model.add(Dense(units=1000, activation='relu', input_shape=(29,)))\n",
        "nn_model.add(Dropout(0.1))\n",
        "nn_model.add(Dense(units=1000, activation='relu'))\n",
        "nn_model.add(Dropout(0.1))\n",
        "nn_model.add(Dense(1, activation='sigmoid'))\n",
        "nn_model.summary()"
      ]
    },
    {
      "cell_type": "markdown",
      "metadata": {
        "id": "ZwXI_AHreUgq"
      },
      "source": [
        "\n",
        "> **Fit Model**\n",
        "\n",
        "\n"
      ]
    },
    {
      "cell_type": "code",
      "execution_count": null,
      "metadata": {
        "colab": {
          "background_save": true,
          "base_uri": "https://localhost:8080/"
        },
        "id": "JNhRf2xxd-70",
        "outputId": "ec901df2-0729-424f-8787-18a545286aba"
      },
      "outputs": [
        {
          "name": "stdout",
          "output_type": "stream",
          "text": [
            "Epoch 1/10\n",
            "12461/12461 [==============================] - 197s 16ms/step - loss: 5.1045 - accuracy: 0.9971 - val_loss: 0.0202 - val_accuracy: 0.9983\n",
            "Epoch 2/10\n",
            "12461/12461 [==============================] - 199s 16ms/step - loss: 0.0925 - accuracy: 0.9980 - val_loss: 0.0221 - val_accuracy: 0.9983\n",
            "Epoch 3/10\n",
            "12461/12461 [==============================] - 195s 16ms/step - loss: 0.3022 - accuracy: 0.9979 - val_loss: 0.0794 - val_accuracy: 0.9983\n",
            "Epoch 4/10\n",
            "12461/12461 [==============================] - 191s 15ms/step - loss: 0.2508 - accuracy: 0.9977 - val_loss: 0.0140 - val_accuracy: 0.9983\n",
            "Epoch 5/10\n",
            "12461/12461 [==============================] - 181s 15ms/step - loss: 0.0849 - accuracy: 0.9981 - val_loss: 0.0223 - val_accuracy: 0.9983\n",
            "Epoch 6/10\n",
            "12461/12461 [==============================] - 174s 14ms/step - loss: 0.1206 - accuracy: 0.9982 - val_loss: 0.1648 - val_accuracy: 0.9983\n",
            "Epoch 7/10\n",
            "12461/12461 [==============================] - 173s 14ms/step - loss: 0.1122 - accuracy: 0.9981 - val_loss: 0.1836 - val_accuracy: 0.9983\n",
            "Epoch 8/10\n",
            "12461/12461 [==============================] - 178s 14ms/step - loss: 0.1472 - accuracy: 0.9982 - val_loss: 0.0160 - val_accuracy: 0.9983\n",
            "Epoch 9/10\n",
            "12461/12461 [==============================] - 175s 14ms/step - loss: 0.0973 - accuracy: 0.9982 - val_loss: 0.0190 - val_accuracy: 0.9983\n",
            "Epoch 10/10\n",
            "12461/12461 [==============================] - 174s 14ms/step - loss: 0.0790 - accuracy: 0.9982 - val_loss: 0.0216 - val_accuracy: 0.9983\n"
          ]
        }
      ],
      "source": [
        "nn_model.compile(optimizer='adam',loss='binary_crossentropy',metrics=['accuracy'])\n",
        "\n",
        "history = nn_model.fit(X_train, y_train,batch_size=16,epochs=10,verbose=1,validation_data=(X_test, y_test))"
      ]
    },
    {
      "cell_type": "markdown",
      "metadata": {
        "id": "H5k3QpDde4cZ"
      },
      "source": [
        "> **Evaluate Model**"
      ]
    },
    {
      "cell_type": "code",
      "execution_count": 46,
      "metadata": {
        "colab": {
          "base_uri": "https://localhost:8080/"
        },
        "id": "ab8y3xECe3wB",
        "outputId": "adafc530-342d-40aa-cb6c-74b7d2f453f2"
      },
      "outputs": [
        {
          "output_type": "stream",
          "name": "stdout",
          "text": [
            "Test loss: 0.021620292216539383\n",
            "Test accuracy: 0.9982795715332031\n"
          ]
        }
      ],
      "source": [
        "score = nn_model.evaluate(X_test, y_test, verbose=0)\n",
        "print('Test loss:', score[0])\n",
        "print('Test accuracy:', score[1])"
      ]
    },
    {
      "cell_type": "markdown",
      "metadata": {
        "id": "_Mkj1mwBfU_j"
      },
      "source": [
        "\n",
        "\n",
        "> **Plot** **Result**\n",
        "\n"
      ]
    },
    {
      "cell_type": "code",
      "execution_count": 47,
      "metadata": {
        "colab": {
          "base_uri": "https://localhost:8080/",
          "height": 501
        },
        "id": "mqZuhh5sfVJV",
        "outputId": "335f8dd0-2b50-4b55-8499-a097c5d42091"
      },
      "outputs": [
        {
          "output_type": "display_data",
          "data": {
            "text/plain": [
              "<Figure size 576x576 with 1 Axes>"
            ],
            "image/png": "[encoded data removed]"
          },
          "metadata": {}
        }
      ],
      "source": [
        "acc = history.history['accuracy']\n",
        "val_acc = history.history['val_accuracy']\n",
        "loss = history.history['loss']\n",
        "val_loss = history.history['val_loss']\n",
        "epochs_range = range(10)\n",
        "plt.figure(figsize=(8, 8))\n",
        "plt.plot(epochs_range, acc, label='Training Accuracy')\n",
        "plt.plot(epochs_range, val_acc, label='Validation Accuracy')\n",
        "plt.legend(loc='lower right')\n",
        "plt.title('Training and Validation Accuracy')\n",
        "plt.plot(epochs_range, loss, label='Training Loss')\n",
        "plt.plot(epochs_range, val_loss, label='Validation Loss')\n",
        "plt.legend(loc='upper right')\n",
        "plt.title('Training and Validation Loss')\n",
        "plt.show()"
      ]
    },
    {
      "cell_type": "markdown",
      "metadata": {
        "id": "To2Fz-FQjCXx"
      },
      "source": [
        "# **DECISION TREE CLASSIFIER**"
      ]
    },
    {
      "cell_type": "markdown",
      "metadata": {
        "id": "kGYnhtcajRd-"
      },
      "source": [
        "\n",
        "\n",
        ">**Building the Decision Tree Model**\n",
        "\n"
      ]
    },
    {
      "cell_type": "code",
      "execution_count": 143,
      "metadata": {
        "id": "Beym-bFLjQ_P"
      },
      "outputs": [],
      "source": [
        "decision_start_time = time.time()\n",
        "\n",
        "# Create Decision Tree classifer object\n",
        "decision_model = tree.DecisionTreeClassifier()\n",
        "\n",
        "# Train Decision Tree Classifer\n",
        "decision_model = decision_model.fit(X_train,y_train)\n",
        "\n",
        "#Predict the response for test dataset\n",
        "y_test_pred = decision_model.predict(X_test)\n",
        "\n",
        "# Create Decision Tree classifer object\n",
        "decision_model = tree.DecisionTreeClassifier()\n",
        "\n",
        "# Train Decision Tree Classifer\n",
        "decision_model = decision_model.fit(X_test,y_test)\n",
        "\n",
        "#Predict the response for train dataset\n",
        "y_train_pred = decision_model.predict(X_train)\n"
      ]
    },
    {
      "cell_type": "markdown",
      "metadata": {
        "id": "87UvAKB_kAPS"
      },
      "source": [
        "\n",
        "\n",
        "> **Evaluate the Model**\n",
        "\n"
      ]
    },
    {
      "cell_type": "code",
      "execution_count": 50,
      "metadata": {
        "colab": {
          "base_uri": "https://localhost:8080/"
        },
        "id": "IfMJ8he5jB8B",
        "outputId": "5794f4af-e076-4a32-961e-5fae4adf1774"
      },
      "outputs": [
        {
          "output_type": "stream",
          "name": "stdout",
          "text": [
            "Decision Train Accuracy: 0.9990419534118496\n",
            "Decision Test Accuracy: 0.9993211848834895\n",
            "--- 26.951398611068726 seconds ---\n"
          ]
        }
      ],
      "source": [
        "#Comparing actual test set values and predicted values\n",
        "\n",
        "# Model Accuracy\n",
        "decision_train_Accuracy=metrics.accuracy_score(y_train, y_train_pred)\n",
        "decision_test_Accuracy=metrics.accuracy_score(y_test, y_test_pred)\n",
        "decision_training_time=(time. time() - decision_start_time)\n",
        "\n",
        "print(\"Decision Train Accuracy:\",decision_train_Accuracy)\n",
        "print(\"Decision Test Accuracy:\",decision_test_Accuracy)\n",
        "print(\"--- %s seconds ---\" % decision_training_time)"
      ]
    },
    {
      "cell_type": "markdown",
      "source": [
        "\n",
        "\n",
        "> **Plot Result**\n"
      ],
      "metadata": {
        "id": "8NuNKz4WITFi"
      }
    },
    {
      "cell_type": "code",
      "execution_count": 145,
      "metadata": {
        "id": "A4oggU07hkSk",
        "colab": {
          "base_uri": "https://localhost:8080/",
          "height": 268
        },
        "outputId": "85bf7f93-f30f-4ce7-ef18-60c9dc739f2f"
      },
      "outputs": [
        {
          "output_type": "display_data",
          "data": {
            "text/plain": [
              "<Figure size 432x288 with 1 Axes>"
            ],
            "image/png": "[encoded data removed]"
          },
          "metadata": {}
        }
      ],
      "source": [
        "acc = history.history['accuracy']\n",
        "val_acc = history.history['val_accuracy']\n",
        "loss = history.history['loss']\n",
        "val_loss = history.history['val_loss']\n",
        "\n",
        "plt.plot(history.history['loss'], label='train')\n",
        "\n",
        "plt.plot(history.history['val_loss'], label='test')\n",
        "\n",
        "plt.legend()\n",
        "\n",
        "plt.show()"
      ]
    },
    {
      "cell_type": "code",
      "source": [
        "!pip install graphviz"
      ],
      "metadata": {
        "colab": {
          "base_uri": "https://localhost:8080/"
        },
        "id": "7Zdn9w4HJlh3",
        "outputId": "9d79e35a-3c17-4aed-fe9b-1ec133bffaa4"
      },
      "execution_count": 144,
      "outputs": [
        {
          "output_type": "stream",
          "name": "stdout",
          "text": [
            "Requirement already satisfied: graphviz in /usr/local/lib/python3.7/dist-packages (0.10.1)\n"
          ]
        }
      ]
    },
    {
      "cell_type": "code",
      "source": [
        "dot_data = tree.export_graphviz(decision_model, out_file=None,\n",
        "feature_names=['Time','v1','v2','v3','v4','v5','v6','v7','v7','v9','v10','v11','v12','v13','v14','v15','v16','v17','v18','v19','v20','v21','v22','v23','v24','v25','v26','v27','v29','Amount',],\n",
        "class_names=list(['Time','v1','v2','v3','v4','v5','v6','v7','v7','v9','v10','v11','v12','v13','v14','v15','v16','v17','v18','v19','v20','v21','v22','v23','v24','v25','v26','v27','v29','Amount',]),\n",
        "filled=True)\n",
        "\n",
        "# Draw graph\n",
        "graph = graphviz.Source(dot_data, format=\"png\")\n",
        "graph\n",
        "\n",
        "#download image\n",
        "graph.render(\"decision_tree_graphivz\")\n",
        "files.download(\"decision_tree_graphivz.png\")"
      ],
      "metadata": {
        "colab": {
          "base_uri": "https://localhost:8080/",
          "height": 17
        },
        "id": "a63lz_r_JwY1",
        "outputId": "e3013cda-379d-4839-f057-85146bdc878e"
      },
      "execution_count": 148,
      "outputs": [
        {
          "output_type": "display_data",
          "data": {
            "text/plain": [
              "<IPython.core.display.Javascript object>"
            ],
            "application/javascript": [
              "\n",
              "    async function download(id, filename, size) {\n",
              "      if (!google.colab.kernel.accessAllowed) {\n",
              "        return;\n",
              "      }\n",
              "      const div = document.createElement('div');\n",
              "      const label = document.createElement('label');\n",
              "      label.textContent = `Downloading \"${filename}\": `;\n",
              "      div.appendChild(label);\n",
              "      const progress = document.createElement('progress');\n",
              "      progress.max = size;\n",
              "      div.appendChild(progress);\n",
              "      document.body.appendChild(div);\n",
              "\n",
              "      const buffers = [];\n",
              "      let downloaded = 0;\n",
              "\n",
              "      const channel = await google.colab.kernel.comms.open(id);\n",
              "      // Send a message to notify the kernel that we're ready.\n",
              "      channel.send({})\n",
              "\n",
              "      for await (const message of channel.messages) {\n",
              "        // Send a message to notify the kernel that we're ready.\n",
              "        channel.send({})\n",
              "        if (message.buffers) {\n",
              "          for (const buffer of message.buffers) {\n",
              "            buffers.push(buffer);\n",
              "            downloaded += buffer.byteLength;\n",
              "            progress.value = downloaded;\n",
              "          }\n",
              "        }\n",
              "      }\n",
              "      const blob = new Blob(buffers, {type: 'application/binary'});\n",
              "      const a = document.createElement('a');\n",
              "      a.href = window.URL.createObjectURL(blob);\n",
              "      a.download = filename;\n",
              "      div.appendChild(a);\n",
              "      a.click();\n",
              "      div.remove();\n",
              "    }\n",
              "  "
            ]
          },
          "metadata": {}
        },
        {
          "output_type": "display_data",
          "data": {
            "text/plain": [
              "<IPython.core.display.Javascript object>"
            ],
            "application/javascript": [
              "download(\"download_2048f218-1d2d-4700-8924-d04d2e965a1e\", \"decision_tree_graphivz.png\", 957562)"
            ]
          },
          "metadata": {}
        }
      ]
    },
    {
      "cell_type": "markdown",
      "source": [
        "# **NAIVE BAYES CLASSIFIER**"
      ],
      "metadata": {
        "id": "hsh-rxY-Ifs3"
      }
    },
    {
      "cell_type": "markdown",
      "source": [
        "**Build the Naive Bayes Model**"
      ],
      "metadata": {
        "id": "mGScJw9BIfrH"
      }
    },
    {
      "cell_type": "code",
      "source": [
        "# Init the Gaussian Classifier\n",
        "nb_model = GaussianNB()\n",
        "\n",
        "# Train the model \n",
        "nb_model.fit(X_train, y_train)\n",
        "\n",
        "# Predict Output \n",
        "y_naive_pred_test = nb_model.predict(X_test)\n",
        "\n",
        "# Init the Gaussian Classifier\n",
        "train_model = GaussianNB()\n",
        "\n",
        "# Train the model \n",
        "train_model.fit(X_test, y_test)\n",
        "\n",
        "# Predict Output \n",
        "y_naive_pred_train = train_model.predict(X_train)"
      ],
      "metadata": {
        "id": "OvGWtCgdI1x0"
      },
      "execution_count": 138,
      "outputs": []
    },
    {
      "cell_type": "markdown",
      "source": [
        "**Evaluate the Model**"
      ],
      "metadata": {
        "id": "MIszIN0tJRmy"
      }
    },
    {
      "cell_type": "code",
      "source": [
        "# Model Accuracy\n",
        "naive_train_Accuracy=metrics.accuracy_score(y_train, y_naive_pred_train)\n",
        "naive_test_Accuracy=metrics.accuracy_score(y_test, y_naive_pred_test)\n",
        "\n",
        "print(\"Naive Test Accuracy:\",naive_train_Accuracy)\n",
        "print(\"Naive Train Accuracy:\",naive_test_Accuracy)"
      ],
      "metadata": {
        "colab": {
          "base_uri": "https://localhost:8080/"
        },
        "id": "dN_N1-ubJYEZ",
        "outputId": "05394040-3d4d-4676-85dd-e1b0f6310092"
      },
      "execution_count": 139,
      "outputs": [
        {
          "output_type": "stream",
          "name": "stdout",
          "text": [
            "Naive Test Accuracy: 0.9931883389177585\n",
            "Naive Train Accuracy: 0.9930011820745994\n"
          ]
        }
      ]
    },
    {
      "cell_type": "markdown",
      "source": [
        "**Plot the Result**"
      ],
      "metadata": {
        "id": "aVPiMBnLJbnC"
      }
    },
    {
      "cell_type": "code",
      "source": [
        "print(metrics.classification_report(y_test, y_naive_pred_test))\n",
        "plt.plot(y_test, y_naive_pred_test)\n",
        "\n",
        "plt.show()"
      ],
      "metadata": {
        "colab": {
          "base_uri": "https://localhost:8080/",
          "height": 424
        },
        "id": "X3mvB8yHJfL8",
        "outputId": "5f0a3a54-e54a-4832-fee8-8960b9f373d1"
      },
      "execution_count": 142,
      "outputs": [
        {
          "output_type": "stream",
          "name": "stdout",
          "text": [
            "              precision    recall  f1-score   support\n",
            "\n",
            "           0       1.00      0.99      1.00     85296\n",
            "           1       0.15      0.65      0.24       147\n",
            "\n",
            "    accuracy                           0.99     85443\n",
            "   macro avg       0.57      0.82      0.62     85443\n",
            "weighted avg       1.00      0.99      1.00     85443\n",
            "\n"
          ]
        },
        {
          "output_type": "display_data",
          "data": {
            "text/plain": [
              "<Figure size 432x288 with 1 Axes>"
            ],
            "image/png": "[encoded data removed]"
          },
          "metadata": {}
        }
      ]
    },
    {
      "cell_type": "markdown",
      "source": [
        "# **RANDOM FOREST CLASSIFIER**"
      ],
      "metadata": {
        "id": "tMG3rVSlJzLB"
      }
    },
    {
      "cell_type": "markdown",
      "source": [
        "**Build & Evaluate the Random Forest Model**"
      ],
      "metadata": {
        "id": "JT6vuYwxKGMq"
      }
    },
    {
      "cell_type": "code",
      "source": [
        "#Create a Random Forest Classifier\n",
        "\n",
        "clf=RandomForestClassifier(n_estimators=100)\n",
        "\n",
        "#Train the model using the training sets y_pred=clf.predict(X_test)\n",
        "\n",
        "clf.fit(X_train,y_train)\n",
        "\n",
        "y_pred=clf.predict(X_test)\n",
        "\n",
        "# Model Accuracy, how often is the classifier correct?\n",
        "\n",
        "print(\"Accuracy:\",metrics.accuracy_score(y_test, y_pred))\n",
        "\n"
      ],
      "metadata": {
        "colab": {
          "base_uri": "https://localhost:8080/"
        },
        "id": "nVhc1IjgKDPB",
        "outputId": "a99cc530-7e1c-46e2-ebaf-17ed3fe3f241"
      },
      "execution_count": 136,
      "outputs": [
        {
          "output_type": "stream",
          "name": "stdout",
          "text": [
            "Accuracy: 0.9995084442259752\n"
          ]
        }
      ]
    },
    {
      "cell_type": "markdown",
      "source": [
        "**Plot the Result**"
      ],
      "metadata": {
        "id": "PqtmROTlLeJv"
      }
    },
    {
      "cell_type": "code",
      "source": [
        "# plot training history\n",
        "\n",
        "from sklearn import metrics\n",
        "\n",
        "print(\"Accuracy:\",metrics.accuracy_score(y_test, y_pred))\n",
        "plot_randomforest=plt.figure(figsize=(12,12))\n",
        "plot_randomforest=plt.title('Feature Importances')\n",
        "\n",
        "plot_randomforest=plt.barh(range(len(['Time','v1','v2','v3','v4','v5','v6','v7','v7','v9','v10','v11','v12','v13','v14','v15','v16','v17','v18','v19','v20','v21','v22','v23','v24','v25','v26','v27','v29','Amount',])), ['Time','v1','v2','v3','v4','v5','v6','v7','v7','v9','v10','v11','v12','v13','v14','v15','v16','v17','v18','v19','v20','v21','v22','v23','v24','v25','v26','v27','v29','Amount'], color='b', align='center')\n",
        "plot_randomforest=plt.yticks(range(len(['Time','v1','v2','v3','v4','v5','v6','v7','v7','v9','v10','v11','v12','v13','v14','v15','v16','v17','v18','v19','v20','v21','v22','v23','v24','v25','v26','v27','v29','Amount',])), ['Time','v1','v2','v3','v4','v5','v6','v7','v7','v9','v10','v11','v12','v13','v14','v15','v16','v17','v18','v19','v20','v21','v22','v23','v24','v25','v26','v27','v29','Amount',])\n",
        "plot_randomforest=plt.xlabel('Relative Importance')\n",
        "plot_randomforest.get_figure().autofmt_xdate()"
      ],
      "metadata": {
        "colab": {
          "base_uri": "https://localhost:8080/",
          "height": 708
        },
        "id": "Kkj08cNZKDXV",
        "outputId": "92ce9776-2d72-4e6a-99e9-e4682fe68ff9"
      },
      "execution_count": 137,
      "outputs": [
        {
          "output_type": "stream",
          "name": "stdout",
          "text": [
            "Accuracy: 0.9995084442259752\n"
          ]
        },
        {
          "output_type": "display_data",
          "data": {
            "text/plain": [
              "<Figure size 864x864 with 1 Axes>"
            ],
            "image/png": "[encoded data removed]"
          },
          "metadata": {}
        }
      ]
    },
    {
      "cell_type": "markdown",
      "source": [
        "# UNDER SAMPLING METHOD"
      ],
      "metadata": {
        "id": "SOJKsV4dN8Vj"
      }
    },
    {
      "cell_type": "markdown",
      "source": [
        "There are two techniques to tackle class imbalance, under-sampling, and over-sampling. Here we use Undersampling method"
      ],
      "metadata": {
        "id": "HBniD_EdOP3X"
      }
    },
    {
      "cell_type": "markdown",
      "source": [
        "**Note - sampling is performed before data spliting which should be the case if future data is unbalanced, otherwise, sampling needs to be performed only on train set.**"
      ],
      "metadata": {
        "id": "lQHD_kPcO5hm"
      }
    },
    {
      "cell_type": "code",
      "source": [
        "fraud_index = np.array(credit_data[credit_data.Class == 1].index)\n",
        "frauds_no= len(fraud_index)\n",
        "\n",
        "normal_index = np.array(credit_data[credit_data.Class == 0].index)\n",
        "normal_no = len(normal_index)\n",
        "\n",
        "print(\"Total Number of Normal Data:\",normal_no)\n",
        "print(\"Total Number of Fraud Data : \", frauds_no)"
      ],
      "metadata": {
        "colab": {
          "base_uri": "https://localhost:8080/"
        },
        "id": "mqnmvgyvOWmZ",
        "outputId": "01e9a571-55c4-46de-aa5c-11b6fca525e4"
      },
      "execution_count": 90,
      "outputs": [
        {
          "output_type": "stream",
          "name": "stdout",
          "text": [
            "Total Number of Normal Data: 284315\n",
            "Total Number of Fraud Data :  492\n"
          ]
        }
      ]
    },
    {
      "cell_type": "markdown",
      "source": [
        "**Create New Dataset from existing dataset**"
      ],
      "metadata": {
        "id": "Yije3WTsSjFH"
      }
    },
    {
      "cell_type": "code",
      "source": [
        "credit_dataSampleNotFraud=credit_data[credit_data[\"Class\"].isin([0])]\n",
        "credit_dataSampleNotFraud=credit_dataSampleNotFraud.sample(n=2508)\n",
        "\n",
        "credit_dataSample=credit_data.copy()\n",
        "credit_dataSampleFraud=credit_data[credit_data[\"Class\"].isin([1])]\n",
        "\n",
        "print(\"Total Number of Normal Data:\",len(credit_dataSampleNotFraud))\n",
        "print(\"Total Number of Fraud Data:\",len(credit_dataSampleFraud))"
      ],
      "metadata": {
        "colab": {
          "base_uri": "https://localhost:8080/"
        },
        "id": "KzxCE-mAP8S8",
        "outputId": "c3932281-cd21-4afc-8373-b495bcedf037"
      },
      "execution_count": 149,
      "outputs": [
        {
          "output_type": "stream",
          "name": "stdout",
          "text": [
            "Total Number of Normal Data: 2508\n",
            "Total Number of Fraud Data: 492\n"
          ]
        }
      ]
    },
    {
      "cell_type": "markdown",
      "source": [
        "# **DATA PREPROCESSING**"
      ],
      "metadata": {
        "id": "wTarGewwS7Kx"
      }
    },
    {
      "cell_type": "code",
      "source": [
        "frames = [credit_dataSampleNotFraud, credit_dataSampleFraud]\n",
        "\n",
        "new_credit_data = pd.concat(frames)\n",
        "\n",
        "new_credit_data.reset_index(inplace=True,drop=True)\n",
        "display((new_credit_data).head())"
      ],
      "metadata": {
        "colab": {
          "base_uri": "https://localhost:8080/",
          "height": 299
        },
        "id": "pipYlTkpQ7Lu",
        "outputId": "814040f0-8d7c-48d5-a4fb-1ac1bd250a83"
      },
      "execution_count": 150,
      "outputs": [
        {
          "output_type": "display_data",
          "data": {
            "text/plain": [
              "       Time        V1        V2        V3        V4        V5        V6  \\\n",
              "0   73358.0  0.996326 -1.037305  0.046645 -1.019692 -0.298546  1.192329   \n",
              "1   77387.0  1.204209  0.175654  0.611244  0.556725 -0.560851 -0.795953   \n",
              "2  151019.0 -2.218371  0.845433 -1.280711 -0.585231  2.179790  0.067186   \n",
              "3   77085.0 -0.845259  1.185329  0.779094 -0.989750  0.668186 -0.006754   \n",
              "4   36122.0 -1.566983  0.073766  2.399317  0.431354  0.054112  2.026338   \n",
              "\n",
              "         V7        V8        V9  ...       V21       V22       V23       V24  \\\n",
              "0 -0.630693  0.386333  1.967784  ... -0.121127 -0.293312 -0.338080 -1.683625   \n",
              "1 -0.067698 -0.046301 -0.161670  ... -0.197870 -0.630069  0.155305  0.518217   \n",
              "2  0.510032  0.904038 -1.421588  ...  0.423592  1.177692 -1.084748 -1.504678   \n",
              "3  0.460673 -0.574037 -0.260058  ...  0.487310 -1.111835 -0.047021 -0.947755   \n",
              "4 -0.411201  0.697581  1.140478  ... -0.144547  0.359667 -0.084026 -0.549121   \n",
              "\n",
              "        V25       V26       V27       V28  Amount  Class  \n",
              "0  0.618655 -0.623685  0.081146  0.025299  140.99      0  \n",
              "1  0.145421  0.066031 -0.035343  0.009825    0.99      0  \n",
              "2  1.414456  0.444529  0.042937 -0.331718    5.92      0  \n",
              "3 -0.173904 -0.053052  0.333377  0.180284    5.99      0  \n",
              "4 -0.491289  0.345687  0.138533  0.204048   60.00      0  \n",
              "\n",
              "[5 rows x 31 columns]"
            ],
            "text/html": [
              "\n",
              "  <div id=\"df-3539bb38-588d-4391-87ed-e61eef366858\">\n",
              "    <div class=\"colab-df-container\">\n",
              "      <div>\n",
              "<style scoped>\n",
              "    .dataframe tbody tr th:only-of-type {\n",
              "        vertical-align: middle;\n",
              "    }\n",
              "\n",
              "    .dataframe tbody tr th {\n",
              "        vertical-align: top;\n",
              "    }\n",
              "\n",
              "    .dataframe thead th {\n",
              "        text-align: right;\n",
              "    }\n",
              "</style>\n",
              "<table border=\"1\" class=\"dataframe\">\n",
              "  <thead>\n",
              "    <tr style=\"text-align: right;\">\n",
              "      <th></th>\n",
              "      <th>Time</th>\n",
              "      <th>V1</th>\n",
              "      <th>V2</th>\n",
              "      <th>V3</th>\n",
              "      <th>V4</th>\n",
              "      <th>V5</th>\n",
              "      <th>V6</th>\n",
              "      <th>V7</th>\n",
              "      <th>V8</th>\n",
              "      <th>V9</th>\n",
              "      <th>...</th>\n",
              "      <th>V21</th>\n",
              "      <th>V22</th>\n",
              "      <th>V23</th>\n",
              "      <th>V24</th>\n",
              "      <th>V25</th>\n",
              "      <th>V26</th>\n",
              "      <th>V27</th>\n",
              "      <th>V28</th>\n",
              "      <th>Amount</th>\n",
              "      <th>Class</th>\n",
              "    </tr>\n",
              "  </thead>\n",
              "  <tbody>\n",
              "    <tr>\n",
              "      <th>0</th>\n",
              "      <td>73358.0</td>\n",
              "      <td>0.996326</td>\n",
              "      <td>-1.037305</td>\n",
              "      <td>0.046645</td>\n",
              "      <td>-1.019692</td>\n",
              "      <td>-0.298546</td>\n",
              "      <td>1.192329</td>\n",
              "      <td>-0.630693</td>\n",
              "      <td>0.386333</td>\n",
              "      <td>1.967784</td>\n",
              "      <td>...</td>\n",
              "      <td>-0.121127</td>\n",
              "      <td>-0.293312</td>\n",
              "      <td>-0.338080</td>\n",
              "      <td>-1.683625</td>\n",
              "      <td>0.618655</td>\n",
              "      <td>-0.623685</td>\n",
              "      <td>0.081146</td>\n",
              "      <td>0.025299</td>\n",
              "      <td>140.99</td>\n",
              "      <td>0</td>\n",
              "    </tr>\n",
              "    <tr>\n",
              "      <th>1</th>\n",
              "      <td>77387.0</td>\n",
              "      <td>1.204209</td>\n",
              "      <td>0.175654</td>\n",
              "      <td>0.611244</td>\n",
              "      <td>0.556725</td>\n",
              "      <td>-0.560851</td>\n",
              "      <td>-0.795953</td>\n",
              "      <td>-0.067698</td>\n",
              "      <td>-0.046301</td>\n",
              "      <td>-0.161670</td>\n",
              "      <td>...</td>\n",
              "      <td>-0.197870</td>\n",
              "      <td>-0.630069</td>\n",
              "      <td>0.155305</td>\n",
              "      <td>0.518217</td>\n",
              "      <td>0.145421</td>\n",
              "      <td>0.066031</td>\n",
              "      <td>-0.035343</td>\n",
              "      <td>0.009825</td>\n",
              "      <td>0.99</td>\n",
              "      <td>0</td>\n",
              "    </tr>\n",
              "    <tr>\n",
              "      <th>2</th>\n",
              "      <td>151019.0</td>\n",
              "      <td>-2.218371</td>\n",
              "      <td>0.845433</td>\n",
              "      <td>-1.280711</td>\n",
              "      <td>-0.585231</td>\n",
              "      <td>2.179790</td>\n",
              "      <td>0.067186</td>\n",
              "      <td>0.510032</td>\n",
              "      <td>0.904038</td>\n",
              "      <td>-1.421588</td>\n",
              "      <td>...</td>\n",
              "      <td>0.423592</td>\n",
              "      <td>1.177692</td>\n",
              "      <td>-1.084748</td>\n",
              "      <td>-1.504678</td>\n",
              "      <td>1.414456</td>\n",
              "      <td>0.444529</td>\n",
              "      <td>0.042937</td>\n",
              "      <td>-0.331718</td>\n",
              "      <td>5.92</td>\n",
              "      <td>0</td>\n",
              "    </tr>\n",
              "    <tr>\n",
              "      <th>3</th>\n",
              "      <td>77085.0</td>\n",
              "      <td>-0.845259</td>\n",
              "      <td>1.185329</td>\n",
              "      <td>0.779094</td>\n",
              "      <td>-0.989750</td>\n",
              "      <td>0.668186</td>\n",
              "      <td>-0.006754</td>\n",
              "      <td>0.460673</td>\n",
              "      <td>-0.574037</td>\n",
              "      <td>-0.260058</td>\n",
              "      <td>...</td>\n",
              "      <td>0.487310</td>\n",
              "      <td>-1.111835</td>\n",
              "      <td>-0.047021</td>\n",
              "      <td>-0.947755</td>\n",
              "      <td>-0.173904</td>\n",
              "      <td>-0.053052</td>\n",
              "      <td>0.333377</td>\n",
              "      <td>0.180284</td>\n",
              "      <td>5.99</td>\n",
              "      <td>0</td>\n",
              "    </tr>\n",
              "    <tr>\n",
              "      <th>4</th>\n",
              "      <td>36122.0</td>\n",
              "      <td>-1.566983</td>\n",
              "      <td>0.073766</td>\n",
              "      <td>2.399317</td>\n",
              "      <td>0.431354</td>\n",
              "      <td>0.054112</td>\n",
              "      <td>2.026338</td>\n",
              "      <td>-0.411201</td>\n",
              "      <td>0.697581</td>\n",
              "      <td>1.140478</td>\n",
              "      <td>...</td>\n",
              "      <td>-0.144547</td>\n",
              "      <td>0.359667</td>\n",
              "      <td>-0.084026</td>\n",
              "      <td>-0.549121</td>\n",
              "      <td>-0.491289</td>\n",
              "      <td>0.345687</td>\n",
              "      <td>0.138533</td>\n",
              "      <td>0.204048</td>\n",
              "      <td>60.00</td>\n",
              "      <td>0</td>\n",
              "    </tr>\n",
              "  </tbody>\n",
              "</table>\n",
              "<p>5 rows × 31 columns</p>\n",
              "</div>\n",
              "      <button class=\"colab-df-convert\" onclick=\"convertToInteractive('df-3539bb38-588d-4391-87ed-e61eef366858')\"\n",
              "              title=\"Convert this dataframe to an interactive table.\"\n",
              "              style=\"display:none;\">\n",
              "        \n",
              "  <svg xmlns=\"http://www.w3.org/2000/svg\" height=\"24px\"viewBox=\"0 0 24 24\"\n",
              "       width=\"24px\">\n",
              "    <path d=\"M0 0h24v24H0V0z\" fill=\"none\"/>\n",
              "    <path d=\"M18.56 5.44l.94 2.06.94-2.06 2.06-.94-2.06-.94-.94-2.06-.94 2.06-2.06.94zm-11 1L8.5 8.5l.94-2.06 2.06-.94-2.06-.94L8.5 2.5l-.94 2.06-2.06.94zm10 10l.94 2.06.94-2.06 2.06-.94-2.06-.94-.94-2.06-.94 2.06-2.06.94z\"/><path d=\"M17.41 7.96l-1.37-1.37c-.4-.4-.92-.59-1.43-.59-.52 0-1.04.2-1.43.59L10.3 9.45l-7.72 7.72c-.78.78-.78 2.05 0 2.83L4 21.41c.39.39.9.59 1.41.59.51 0 1.02-.2 1.41-.59l7.78-7.78 2.81-2.81c.8-.78.8-2.07 0-2.86zM5.41 20L4 18.59l7.72-7.72 1.47 1.35L5.41 20z\"/>\n",
              "  </svg>\n",
              "      </button>\n",
              "      \n",
              "  <style>\n",
              "    .colab-df-container {\n",
              "      display:flex;\n",
              "      flex-wrap:wrap;\n",
              "      gap: 12px;\n",
              "    }\n",
              "\n",
              "    .colab-df-convert {\n",
              "      background-color: #E8F0FE;\n",
              "      border: none;\n",
              "      border-radius: 50%;\n",
              "      cursor: pointer;\n",
              "      display: none;\n",
              "      fill: #1967D2;\n",
              "      height: 32px;\n",
              "      padding: 0 0 0 0;\n",
              "      width: 32px;\n",
              "    }\n",
              "\n",
              "    .colab-df-convert:hover {\n",
              "      background-color: #E2EBFA;\n",
              "      box-shadow: 0px 1px 2px rgba(60, 64, 67, 0.3), 0px 1px 3px 1px rgba(60, 64, 67, 0.15);\n",
              "      fill: #174EA6;\n",
              "    }\n",
              "\n",
              "    [theme=dark] .colab-df-convert {\n",
              "      background-color: #3B4455;\n",
              "      fill: #D2E3FC;\n",
              "    }\n",
              "\n",
              "    [theme=dark] .colab-df-convert:hover {\n",
              "      background-color: #434B5C;\n",
              "      box-shadow: 0px 1px 3px 1px rgba(0, 0, 0, 0.15);\n",
              "      filter: drop-shadow(0px 1px 2px rgba(0, 0, 0, 0.3));\n",
              "      fill: #FFFFFF;\n",
              "    }\n",
              "  </style>\n",
              "\n",
              "      <script>\n",
              "        const buttonEl =\n",
              "          document.querySelector('#df-3539bb38-588d-4391-87ed-e61eef366858 button.colab-df-convert');\n",
              "        buttonEl.style.display =\n",
              "          google.colab.kernel.accessAllowed ? 'block' : 'none';\n",
              "\n",
              "        async function convertToInteractive(key) {\n",
              "          const element = document.querySelector('#df-3539bb38-588d-4391-87ed-e61eef366858');\n",
              "          const dataTable =\n",
              "            await google.colab.kernel.invokeFunction('convertToInteractive',\n",
              "                                                     [key], {});\n",
              "          if (!dataTable) return;\n",
              "\n",
              "          const docLinkHtml = 'Like what you see? Visit the ' +\n",
              "            '<a target=\"_blank\" href=https://colab.research.google.com/notebooks/data_table.ipynb>data table notebook</a>'\n",
              "            + ' to learn more about interactive tables.';\n",
              "          element.innerHTML = '';\n",
              "          dataTable['output_type'] = 'display_data';\n",
              "          await google.colab.output.renderOutput(dataTable, element);\n",
              "          const docLink = document.createElement('div');\n",
              "          docLink.innerHTML = docLinkHtml;\n",
              "          element.appendChild(docLink);\n",
              "        }\n",
              "      </script>\n",
              "    </div>\n",
              "  </div>\n",
              "  "
            ]
          },
          "metadata": {}
        }
      ]
    },
    {
      "cell_type": "code",
      "source": [
        "new_credit_data.describe()"
      ],
      "metadata": {
        "colab": {
          "base_uri": "https://localhost:8080/",
          "height": 393
        },
        "id": "Y5cDbabsSfgW",
        "outputId": "0ab666dc-795b-4596-842b-60c06d9f72cf"
      },
      "execution_count": 151,
      "outputs": [
        {
          "output_type": "execute_result",
          "data": {
            "text/plain": [
              "                Time           V1           V2           V3           V4  \\\n",
              "count    3000.000000  3000.000000  3000.000000  3000.000000  3000.000000   \n",
              "mean    91498.076333    -0.779322     0.603422    -1.115925     0.718148   \n",
              "std     48334.976819     3.703174     2.693435     4.092891     2.413546   \n",
              "min        12.000000   -30.552380   -35.097685   -31.103685    -4.704106   \n",
              "25%     49541.500000    -1.275403    -0.475072    -1.483053    -0.698086   \n",
              "50%     82849.000000    -0.253899     0.266673    -0.093265     0.219214   \n",
              "75%    137695.250000     1.235568     1.137126     0.846880     1.286643   \n",
              "max    172353.000000     2.394434    22.057729     3.442342    12.114672   \n",
              "\n",
              "                V5           V6           V7           V8           V9  ...  \\\n",
              "count  3000.000000  3000.000000  3000.000000  3000.000000  3000.000000  ...   \n",
              "mean     -0.497364    -0.223758    -0.933552     0.045777    -0.429147  ...   \n",
              "std       2.742516     1.538623     3.742830     3.234766     1.692839  ...   \n",
              "min     -22.105532   -10.781989   -43.557242   -73.216718   -13.434066  ...   \n",
              "25%      -0.871804    -0.952465    -0.880386    -0.214937    -0.943518  ...   \n",
              "50%      -0.152122    -0.392249    -0.080478     0.045008    -0.197196  ...   \n",
              "75%       0.581847     0.279532     0.497406     0.451766     0.476274  ...   \n",
              "max      17.370895    16.614054    18.822654    20.007208     5.872938  ...   \n",
              "\n",
              "               V21          V22          V23          V24          V25  \\\n",
              "count  3000.000000  3000.000000  3000.000000  3000.000000  3000.000000   \n",
              "mean      0.124553    -0.022780    -0.002906    -0.003109     0.008240   \n",
              "std       1.839631     0.921733     0.831917     0.597012     0.569743   \n",
              "min     -34.830382    -8.887017   -19.254328    -2.761047    -4.781606   \n",
              "25%      -0.221745    -0.569952    -0.187530    -0.343484    -0.326224   \n",
              "50%       0.003448    -0.016518    -0.010082     0.039034     0.025394   \n",
              "75%       0.276486     0.520698     0.166784     0.424525     0.358955   \n",
              "max      27.202839    10.503090    10.760604     3.450094     3.347936   \n",
              "\n",
              "               V26          V27          V28       Amount        Class  \n",
              "count  3000.000000  3000.000000  3000.000000  3000.000000  3000.000000  \n",
              "mean      0.018950     0.027106     0.012219    90.678597     0.164000  \n",
              "std       0.491133     0.656845     0.371073   248.121404     0.370337  \n",
              "min      -1.354976    -7.263482    -4.191222     0.000000     0.000000  \n",
              "25%      -0.316512    -0.072517    -0.052712     4.490000     0.000000  \n",
              "50%      -0.023683     0.012121     0.016590    20.000000     0.000000  \n",
              "75%       0.304426     0.176411     0.109924    80.000000     0.000000  \n",
              "max       2.859167     3.052358     7.512250  4905.000000     1.000000  \n",
              "\n",
              "[8 rows x 31 columns]"
            ],
            "text/html": [
              "\n",
              "  <div id=\"df-1f06ab0c-df14-491f-b32a-af688e0425d9\">\n",
              "    <div class=\"colab-df-container\">\n",
              "      <div>\n",
              "<style scoped>\n",
              "    .dataframe tbody tr th:only-of-type {\n",
              "        vertical-align: middle;\n",
              "    }\n",
              "\n",
              "    .dataframe tbody tr th {\n",
              "        vertical-align: top;\n",
              "    }\n",
              "\n",
              "    .dataframe thead th {\n",
              "        text-align: right;\n",
              "    }\n",
              "</style>\n",
              "<table border=\"1\" class=\"dataframe\">\n",
              "  <thead>\n",
              "    <tr style=\"text-align: right;\">\n",
              "      <th></th>\n",
              "      <th>Time</th>\n",
              "      <th>V1</th>\n",
              "      <th>V2</th>\n",
              "      <th>V3</th>\n",
              "      <th>V4</th>\n",
              "      <th>V5</th>\n",
              "      <th>V6</th>\n",
              "      <th>V7</th>\n",
              "      <th>V8</th>\n",
              "      <th>V9</th>\n",
              "      <th>...</th>\n",
              "      <th>V21</th>\n",
              "      <th>V22</th>\n",
              "      <th>V23</th>\n",
              "      <th>V24</th>\n",
              "      <th>V25</th>\n",
              "      <th>V26</th>\n",
              "      <th>V27</th>\n",
              "      <th>V28</th>\n",
              "      <th>Amount</th>\n",
              "      <th>Class</th>\n",
              "    </tr>\n",
              "  </thead>\n",
              "  <tbody>\n",
              "    <tr>\n",
              "      <th>count</th>\n",
              "      <td>3000.000000</td>\n",
              "      <td>3000.000000</td>\n",
              "      <td>3000.000000</td>\n",
              "      <td>3000.000000</td>\n",
              "      <td>3000.000000</td>\n",
              "      <td>3000.000000</td>\n",
              "      <td>3000.000000</td>\n",
              "      <td>3000.000000</td>\n",
              "      <td>3000.000000</td>\n",
              "      <td>3000.000000</td>\n",
              "      <td>...</td>\n",
              "      <td>3000.000000</td>\n",
              "      <td>3000.000000</td>\n",
              "      <td>3000.000000</td>\n",
              "      <td>3000.000000</td>\n",
              "      <td>3000.000000</td>\n",
              "      <td>3000.000000</td>\n",
              "      <td>3000.000000</td>\n",
              "      <td>3000.000000</td>\n",
              "      <td>3000.000000</td>\n",
              "      <td>3000.000000</td>\n",
              "    </tr>\n",
              "    <tr>\n",
              "      <th>mean</th>\n",
              "      <td>91498.076333</td>\n",
              "      <td>-0.779322</td>\n",
              "      <td>0.603422</td>\n",
              "      <td>-1.115925</td>\n",
              "      <td>0.718148</td>\n",
              "      <td>-0.497364</td>\n",
              "      <td>-0.223758</td>\n",
              "      <td>-0.933552</td>\n",
              "      <td>0.045777</td>\n",
              "      <td>-0.429147</td>\n",
              "      <td>...</td>\n",
              "      <td>0.124553</td>\n",
              "      <td>-0.022780</td>\n",
              "      <td>-0.002906</td>\n",
              "      <td>-0.003109</td>\n",
              "      <td>0.008240</td>\n",
              "      <td>0.018950</td>\n",
              "      <td>0.027106</td>\n",
              "      <td>0.012219</td>\n",
              "      <td>90.678597</td>\n",
              "      <td>0.164000</td>\n",
              "    </tr>\n",
              "    <tr>\n",
              "      <th>std</th>\n",
              "      <td>48334.976819</td>\n",
              "      <td>3.703174</td>\n",
              "      <td>2.693435</td>\n",
              "      <td>4.092891</td>\n",
              "      <td>2.413546</td>\n",
              "      <td>2.742516</td>\n",
              "      <td>1.538623</td>\n",
              "      <td>3.742830</td>\n",
              "      <td>3.234766</td>\n",
              "      <td>1.692839</td>\n",
              "      <td>...</td>\n",
              "      <td>1.839631</td>\n",
              "      <td>0.921733</td>\n",
              "      <td>0.831917</td>\n",
              "      <td>0.597012</td>\n",
              "      <td>0.569743</td>\n",
              "      <td>0.491133</td>\n",
              "      <td>0.656845</td>\n",
              "      <td>0.371073</td>\n",
              "      <td>248.121404</td>\n",
              "      <td>0.370337</td>\n",
              "    </tr>\n",
              "    <tr>\n",
              "      <th>min</th>\n",
              "      <td>12.000000</td>\n",
              "      <td>-30.552380</td>\n",
              "      <td>-35.097685</td>\n",
              "      <td>-31.103685</td>\n",
              "      <td>-4.704106</td>\n",
              "      <td>-22.105532</td>\n",
              "      <td>-10.781989</td>\n",
              "      <td>-43.557242</td>\n",
              "      <td>-73.216718</td>\n",
              "      <td>-13.434066</td>\n",
              "      <td>...</td>\n",
              "      <td>-34.830382</td>\n",
              "      <td>-8.887017</td>\n",
              "      <td>-19.254328</td>\n",
              "      <td>-2.761047</td>\n",
              "      <td>-4.781606</td>\n",
              "      <td>-1.354976</td>\n",
              "      <td>-7.263482</td>\n",
              "      <td>-4.191222</td>\n",
              "      <td>0.000000</td>\n",
              "      <td>0.000000</td>\n",
              "    </tr>\n",
              "    <tr>\n",
              "      <th>25%</th>\n",
              "      <td>49541.500000</td>\n",
              "      <td>-1.275403</td>\n",
              "      <td>-0.475072</td>\n",
              "      <td>-1.483053</td>\n",
              "      <td>-0.698086</td>\n",
              "      <td>-0.871804</td>\n",
              "      <td>-0.952465</td>\n",
              "      <td>-0.880386</td>\n",
              "      <td>-0.214937</td>\n",
              "      <td>-0.943518</td>\n",
              "      <td>...</td>\n",
              "      <td>-0.221745</td>\n",
              "      <td>-0.569952</td>\n",
              "      <td>-0.187530</td>\n",
              "      <td>-0.343484</td>\n",
              "      <td>-0.326224</td>\n",
              "      <td>-0.316512</td>\n",
              "      <td>-0.072517</td>\n",
              "      <td>-0.052712</td>\n",
              "      <td>4.490000</td>\n",
              "      <td>0.000000</td>\n",
              "    </tr>\n",
              "    <tr>\n",
              "      <th>50%</th>\n",
              "      <td>82849.000000</td>\n",
              "      <td>-0.253899</td>\n",
              "      <td>0.266673</td>\n",
              "      <td>-0.093265</td>\n",
              "      <td>0.219214</td>\n",
              "      <td>-0.152122</td>\n",
              "      <td>-0.392249</td>\n",
              "      <td>-0.080478</td>\n",
              "      <td>0.045008</td>\n",
              "      <td>-0.197196</td>\n",
              "      <td>...</td>\n",
              "      <td>0.003448</td>\n",
              "      <td>-0.016518</td>\n",
              "      <td>-0.010082</td>\n",
              "      <td>0.039034</td>\n",
              "      <td>0.025394</td>\n",
              "      <td>-0.023683</td>\n",
              "      <td>0.012121</td>\n",
              "      <td>0.016590</td>\n",
              "      <td>20.000000</td>\n",
              "      <td>0.000000</td>\n",
              "    </tr>\n",
              "    <tr>\n",
              "      <th>75%</th>\n",
              "      <td>137695.250000</td>\n",
              "      <td>1.235568</td>\n",
              "      <td>1.137126</td>\n",
              "      <td>0.846880</td>\n",
              "      <td>1.286643</td>\n",
              "      <td>0.581847</td>\n",
              "      <td>0.279532</td>\n",
              "      <td>0.497406</td>\n",
              "      <td>0.451766</td>\n",
              "      <td>0.476274</td>\n",
              "      <td>...</td>\n",
              "      <td>0.276486</td>\n",
              "      <td>0.520698</td>\n",
              "      <td>0.166784</td>\n",
              "      <td>0.424525</td>\n",
              "      <td>0.358955</td>\n",
              "      <td>0.304426</td>\n",
              "      <td>0.176411</td>\n",
              "      <td>0.109924</td>\n",
              "      <td>80.000000</td>\n",
              "      <td>0.000000</td>\n",
              "    </tr>\n",
              "    <tr>\n",
              "      <th>max</th>\n",
              "      <td>172353.000000</td>\n",
              "      <td>2.394434</td>\n",
              "      <td>22.057729</td>\n",
              "      <td>3.442342</td>\n",
              "      <td>12.114672</td>\n",
              "      <td>17.370895</td>\n",
              "      <td>16.614054</td>\n",
              "      <td>18.822654</td>\n",
              "      <td>20.007208</td>\n",
              "      <td>5.872938</td>\n",
              "      <td>...</td>\n",
              "      <td>27.202839</td>\n",
              "      <td>10.503090</td>\n",
              "      <td>10.760604</td>\n",
              "      <td>3.450094</td>\n",
              "      <td>3.347936</td>\n",
              "      <td>2.859167</td>\n",
              "      <td>3.052358</td>\n",
              "      <td>7.512250</td>\n",
              "      <td>4905.000000</td>\n",
              "      <td>1.000000</td>\n",
              "    </tr>\n",
              "  </tbody>\n",
              "</table>\n",
              "<p>8 rows × 31 columns</p>\n",
              "</div>\n",
              "      <button class=\"colab-df-convert\" onclick=\"convertToInteractive('df-1f06ab0c-df14-491f-b32a-af688e0425d9')\"\n",
              "              title=\"Convert this dataframe to an interactive table.\"\n",
              "              style=\"display:none;\">\n",
              "        \n",
              "  <svg xmlns=\"http://www.w3.org/2000/svg\" height=\"24px\"viewBox=\"0 0 24 24\"\n",
              "       width=\"24px\">\n",
              "    <path d=\"M0 0h24v24H0V0z\" fill=\"none\"/>\n",
              "    <path d=\"M18.56 5.44l.94 2.06.94-2.06 2.06-.94-2.06-.94-.94-2.06-.94 2.06-2.06.94zm-11 1L8.5 8.5l.94-2.06 2.06-.94-2.06-.94L8.5 2.5l-.94 2.06-2.06.94zm10 10l.94 2.06.94-2.06 2.06-.94-2.06-.94-.94-2.06-.94 2.06-2.06.94z\"/><path d=\"M17.41 7.96l-1.37-1.37c-.4-.4-.92-.59-1.43-.59-.52 0-1.04.2-1.43.59L10.3 9.45l-7.72 7.72c-.78.78-.78 2.05 0 2.83L4 21.41c.39.39.9.59 1.41.59.51 0 1.02-.2 1.41-.59l7.78-7.78 2.81-2.81c.8-.78.8-2.07 0-2.86zM5.41 20L4 18.59l7.72-7.72 1.47 1.35L5.41 20z\"/>\n",
              "  </svg>\n",
              "      </button>\n",
              "      \n",
              "  <style>\n",
              "    .colab-df-container {\n",
              "      display:flex;\n",
              "      flex-wrap:wrap;\n",
              "      gap: 12px;\n",
              "    }\n",
              "\n",
              "    .colab-df-convert {\n",
              "      background-color: #E8F0FE;\n",
              "      border: none;\n",
              "      border-radius: 50%;\n",
              "      cursor: pointer;\n",
              "      display: none;\n",
              "      fill: #1967D2;\n",
              "      height: 32px;\n",
              "      padding: 0 0 0 0;\n",
              "      width: 32px;\n",
              "    }\n",
              "\n",
              "    .colab-df-convert:hover {\n",
              "      background-color: #E2EBFA;\n",
              "      box-shadow: 0px 1px 2px rgba(60, 64, 67, 0.3), 0px 1px 3px 1px rgba(60, 64, 67, 0.15);\n",
              "      fill: #174EA6;\n",
              "    }\n",
              "\n",
              "    [theme=dark] .colab-df-convert {\n",
              "      background-color: #3B4455;\n",
              "      fill: #D2E3FC;\n",
              "    }\n",
              "\n",
              "    [theme=dark] .colab-df-convert:hover {\n",
              "      background-color: #434B5C;\n",
              "      box-shadow: 0px 1px 3px 1px rgba(0, 0, 0, 0.15);\n",
              "      filter: drop-shadow(0px 1px 2px rgba(0, 0, 0, 0.3));\n",
              "      fill: #FFFFFF;\n",
              "    }\n",
              "  </style>\n",
              "\n",
              "      <script>\n",
              "        const buttonEl =\n",
              "          document.querySelector('#df-1f06ab0c-df14-491f-b32a-af688e0425d9 button.colab-df-convert');\n",
              "        buttonEl.style.display =\n",
              "          google.colab.kernel.accessAllowed ? 'block' : 'none';\n",
              "\n",
              "        async function convertToInteractive(key) {\n",
              "          const element = document.querySelector('#df-1f06ab0c-df14-491f-b32a-af688e0425d9');\n",
              "          const dataTable =\n",
              "            await google.colab.kernel.invokeFunction('convertToInteractive',\n",
              "                                                     [key], {});\n",
              "          if (!dataTable) return;\n",
              "\n",
              "          const docLinkHtml = 'Like what you see? Visit the ' +\n",
              "            '<a target=\"_blank\" href=https://colab.research.google.com/notebooks/data_table.ipynb>data table notebook</a>'\n",
              "            + ' to learn more about interactive tables.';\n",
              "          element.innerHTML = '';\n",
              "          dataTable['output_type'] = 'display_data';\n",
              "          await google.colab.output.renderOutput(dataTable, element);\n",
              "          const docLink = document.createElement('div');\n",
              "          docLink.innerHTML = docLinkHtml;\n",
              "          element.appendChild(docLink);\n",
              "        }\n",
              "      </script>\n",
              "    </div>\n",
              "  </div>\n",
              "  "
            ]
          },
          "metadata": {},
          "execution_count": 151
        }
      ]
    },
    {
      "cell_type": "markdown",
      "source": [
        "**Plotting the variables using subplots**"
      ],
      "metadata": {
        "id": "JLlbjWWoGY_X"
      }
    },
    {
      "cell_type": "code",
      "source": [
        "fig = plt.figure(figsize = (15, 12))\n",
        "\n",
        "plt.subplot(5, 6, 1) ; plt.plot(new_credit_data.V1) ; plt.subplot(5, 6, 15) ; plt.plot(new_credit_data.V15)\n",
        "plt.subplot(5, 6, 2) ; plt.plot(new_credit_data.V2) ; plt.subplot(5, 6, 16) ; plt.plot(new_credit_data.V16)\n",
        "plt.subplot(5, 6, 3) ; plt.plot(new_credit_data.V3) ; plt.subplot(5, 6, 17) ; plt.plot(new_credit_data.V17)\n",
        "plt.subplot(5, 6, 4) ; plt.plot(new_credit_data.V4) ; plt.subplot(5, 6, 18) ; plt.plot(new_credit_data.V18)\n",
        "plt.subplot(5, 6, 5) ; plt.plot(new_credit_data.V5) ; plt.subplot(5, 6, 19) ; plt.plot(new_credit_data.V19)\n",
        "plt.subplot(5, 6, 6) ; plt.plot(new_credit_data.V6) ; plt.subplot(5, 6, 20) ; plt.plot(new_credit_data.V20)\n",
        "plt.subplot(5, 6, 7) ; plt.plot(new_credit_data.V7) ; plt.subplot(5, 6, 21) ; plt.plot(new_credit_data.V21)\n",
        "plt.subplot(5, 6, 8) ; plt.plot(new_credit_data.V8) ; plt.subplot(5, 6, 22) ; plt.plot(new_credit_data.V22)\n",
        "plt.subplot(5, 6, 9) ; plt.plot(new_credit_data.V9) ; plt.subplot(5, 6, 23) ; plt.plot(new_credit_data.V23)\n",
        "plt.subplot(5, 6, 10) ; plt.plot(new_credit_data.V10) ; plt.subplot(5, 6, 24) ; plt.plot(new_credit_data.V24)\n",
        "plt.subplot(5, 6, 11) ; plt.plot(new_credit_data.V11) ; plt.subplot(5, 6, 25) ; plt.plot(new_credit_data.V25)\n",
        "plt.subplot(5, 6, 12) ; plt.plot(new_credit_data.V12) ; plt.subplot(5, 6, 26) ; plt.plot(new_credit_data.V26)\n",
        "plt.subplot(5, 6, 13) ; plt.plot(new_credit_data.V13) ; plt.subplot(5, 6, 27) ; plt.plot(new_credit_data.V27)\n",
        "plt.subplot(5, 6, 14) ; plt.plot(new_credit_data.V14) ; plt.subplot(5, 6, 28) ; plt.plot(new_credit_data.V28)\n",
        "plt.show()"
      ],
      "metadata": {
        "colab": {
          "base_uri": "https://localhost:8080/",
          "height": 703
        },
        "id": "NSUv6YptUGM3",
        "outputId": "efbae161-dd7e-47d7-879f-8ab6f73d99f5"
      },
      "execution_count": 152,
      "outputs": [
        {
          "output_type": "display_data",
          "data": {
            "text/plain": [
              "<Figure size 1080x864 with 28 Axes>"
            ],
            "image/png": "[encoded data removed]"
          },
          "metadata": {}
        }
      ]
    },
    {
      "cell_type": "markdown",
      "source": [
        "# **DATA CLEANING**"
      ],
      "metadata": {
        "id": "zcBtKPUwUwBC"
      }
    },
    {
      "cell_type": "code",
      "source": [
        "new_credit_data.isnull().sum()"
      ],
      "metadata": {
        "colab": {
          "base_uri": "https://localhost:8080/"
        },
        "id": "EwRqn2bdU_nm",
        "outputId": "c065d8e3-dc6e-423e-dd76-d5594c45b21c"
      },
      "execution_count": 97,
      "outputs": [
        {
          "output_type": "execute_result",
          "data": {
            "text/plain": [
              "Time      0\n",
              "V1        0\n",
              "V2        0\n",
              "V3        0\n",
              "V4        0\n",
              "V5        0\n",
              "V6        0\n",
              "V7        0\n",
              "V8        0\n",
              "V9        0\n",
              "V10       0\n",
              "V11       0\n",
              "V12       0\n",
              "V13       0\n",
              "V14       0\n",
              "V15       0\n",
              "V16       0\n",
              "V17       0\n",
              "V18       0\n",
              "V19       0\n",
              "V20       0\n",
              "V21       0\n",
              "V22       0\n",
              "V23       0\n",
              "V24       0\n",
              "V25       0\n",
              "V26       0\n",
              "V27       0\n",
              "V28       0\n",
              "Amount    0\n",
              "Class     0\n",
              "dtype: int64"
            ]
          },
          "metadata": {},
          "execution_count": 97
        }
      ]
    },
    {
      "cell_type": "code",
      "source": [
        "new_credit_data.isnull()"
      ],
      "metadata": {
        "colab": {
          "base_uri": "https://localhost:8080/",
          "height": 423
        },
        "id": "dcqD6upwVJEj",
        "outputId": "9d37470a-f390-4506-cb5e-1b19448ba94e"
      },
      "execution_count": 99,
      "outputs": [
        {
          "output_type": "execute_result",
          "data": {
            "text/plain": [
              "       Time     V1     V2     V3     V4     V5     V6     V7     V8     V9  \\\n",
              "0     False  False  False  False  False  False  False  False  False  False   \n",
              "1     False  False  False  False  False  False  False  False  False  False   \n",
              "2     False  False  False  False  False  False  False  False  False  False   \n",
              "3     False  False  False  False  False  False  False  False  False  False   \n",
              "4     False  False  False  False  False  False  False  False  False  False   \n",
              "...     ...    ...    ...    ...    ...    ...    ...    ...    ...    ...   \n",
              "1495  False  False  False  False  False  False  False  False  False  False   \n",
              "1496  False  False  False  False  False  False  False  False  False  False   \n",
              "1497  False  False  False  False  False  False  False  False  False  False   \n",
              "1498  False  False  False  False  False  False  False  False  False  False   \n",
              "1499  False  False  False  False  False  False  False  False  False  False   \n",
              "\n",
              "      ...    V21    V22    V23    V24    V25    V26    V27    V28  Amount  \\\n",
              "0     ...  False  False  False  False  False  False  False  False   False   \n",
              "1     ...  False  False  False  False  False  False  False  False   False   \n",
              "2     ...  False  False  False  False  False  False  False  False   False   \n",
              "3     ...  False  False  False  False  False  False  False  False   False   \n",
              "4     ...  False  False  False  False  False  False  False  False   False   \n",
              "...   ...    ...    ...    ...    ...    ...    ...    ...    ...     ...   \n",
              "1495  ...  False  False  False  False  False  False  False  False   False   \n",
              "1496  ...  False  False  False  False  False  False  False  False   False   \n",
              "1497  ...  False  False  False  False  False  False  False  False   False   \n",
              "1498  ...  False  False  False  False  False  False  False  False   False   \n",
              "1499  ...  False  False  False  False  False  False  False  False   False   \n",
              "\n",
              "      Class  \n",
              "0     False  \n",
              "1     False  \n",
              "2     False  \n",
              "3     False  \n",
              "4     False  \n",
              "...     ...  \n",
              "1495  False  \n",
              "1496  False  \n",
              "1497  False  \n",
              "1498  False  \n",
              "1499  False  \n",
              "\n",
              "[1500 rows x 31 columns]"
            ],
            "text/html": [
              "\n",
              "  <div id=\"df-bf87ecce-233e-4402-b1b8-b4e54fa7a44b\">\n",
              "    <div class=\"colab-df-container\">\n",
              "      <div>\n",
              "<style scoped>\n",
              "    .dataframe tbody tr th:only-of-type {\n",
              "        vertical-align: middle;\n",
              "    }\n",
              "\n",
              "    .dataframe tbody tr th {\n",
              "        vertical-align: top;\n",
              "    }\n",
              "\n",
              "    .dataframe thead th {\n",
              "        text-align: right;\n",
              "    }\n",
              "</style>\n",
              "<table border=\"1\" class=\"dataframe\">\n",
              "  <thead>\n",
              "    <tr style=\"text-align: right;\">\n",
              "      <th></th>\n",
              "      <th>Time</th>\n",
              "      <th>V1</th>\n",
              "      <th>V2</th>\n",
              "      <th>V3</th>\n",
              "      <th>V4</th>\n",
              "      <th>V5</th>\n",
              "      <th>V6</th>\n",
              "      <th>V7</th>\n",
              "      <th>V8</th>\n",
              "      <th>V9</th>\n",
              "      <th>...</th>\n",
              "      <th>V21</th>\n",
              "      <th>V22</th>\n",
              "      <th>V23</th>\n",
              "      <th>V24</th>\n",
              "      <th>V25</th>\n",
              "      <th>V26</th>\n",
              "      <th>V27</th>\n",
              "      <th>V28</th>\n",
              "      <th>Amount</th>\n",
              "      <th>Class</th>\n",
              "    </tr>\n",
              "  </thead>\n",
              "  <tbody>\n",
              "    <tr>\n",
              "      <th>0</th>\n",
              "      <td>False</td>\n",
              "      <td>False</td>\n",
              "      <td>False</td>\n",
              "      <td>False</td>\n",
              "      <td>False</td>\n",
              "      <td>False</td>\n",
              "      <td>False</td>\n",
              "      <td>False</td>\n",
              "      <td>False</td>\n",
              "      <td>False</td>\n",
              "      <td>...</td>\n",
              "      <td>False</td>\n",
              "      <td>False</td>\n",
              "      <td>False</td>\n",
              "      <td>False</td>\n",
              "      <td>False</td>\n",
              "      <td>False</td>\n",
              "      <td>False</td>\n",
              "      <td>False</td>\n",
              "      <td>False</td>\n",
              "      <td>False</td>\n",
              "    </tr>\n",
              "    <tr>\n",
              "      <th>1</th>\n",
              "      <td>False</td>\n",
              "      <td>False</td>\n",
              "      <td>False</td>\n",
              "      <td>False</td>\n",
              "      <td>False</td>\n",
              "      <td>False</td>\n",
              "      <td>False</td>\n",
              "      <td>False</td>\n",
              "      <td>False</td>\n",
              "      <td>False</td>\n",
              "      <td>...</td>\n",
              "      <td>False</td>\n",
              "      <td>False</td>\n",
              "      <td>False</td>\n",
              "      <td>False</td>\n",
              "      <td>False</td>\n",
              "      <td>False</td>\n",
              "      <td>False</td>\n",
              "      <td>False</td>\n",
              "      <td>False</td>\n",
              "      <td>False</td>\n",
              "    </tr>\n",
              "    <tr>\n",
              "      <th>2</th>\n",
              "      <td>False</td>\n",
              "      <td>False</td>\n",
              "      <td>False</td>\n",
              "      <td>False</td>\n",
              "      <td>False</td>\n",
              "      <td>False</td>\n",
              "      <td>False</td>\n",
              "      <td>False</td>\n",
              "      <td>False</td>\n",
              "      <td>False</td>\n",
              "      <td>...</td>\n",
              "      <td>False</td>\n",
              "      <td>False</td>\n",
              "      <td>False</td>\n",
              "      <td>False</td>\n",
              "      <td>False</td>\n",
              "      <td>False</td>\n",
              "      <td>False</td>\n",
              "      <td>False</td>\n",
              "      <td>False</td>\n",
              "      <td>False</td>\n",
              "    </tr>\n",
              "    <tr>\n",
              "      <th>3</th>\n",
              "      <td>False</td>\n",
              "      <td>False</td>\n",
              "      <td>False</td>\n",
              "      <td>False</td>\n",
              "      <td>False</td>\n",
              "      <td>False</td>\n",
              "      <td>False</td>\n",
              "      <td>False</td>\n",
              "      <td>False</td>\n",
              "      <td>False</td>\n",
              "      <td>...</td>\n",
              "      <td>False</td>\n",
              "      <td>False</td>\n",
              "      <td>False</td>\n",
              "      <td>False</td>\n",
              "      <td>False</td>\n",
              "      <td>False</td>\n",
              "      <td>False</td>\n",
              "      <td>False</td>\n",
              "      <td>False</td>\n",
              "      <td>False</td>\n",
              "    </tr>\n",
              "    <tr>\n",
              "      <th>4</th>\n",
              "      <td>False</td>\n",
              "      <td>False</td>\n",
              "      <td>False</td>\n",
              "      <td>False</td>\n",
              "      <td>False</td>\n",
              "      <td>False</td>\n",
              "      <td>False</td>\n",
              "      <td>False</td>\n",
              "      <td>False</td>\n",
              "      <td>False</td>\n",
              "      <td>...</td>\n",
              "      <td>False</td>\n",
              "      <td>False</td>\n",
              "      <td>False</td>\n",
              "      <td>False</td>\n",
              "      <td>False</td>\n",
              "      <td>False</td>\n",
              "      <td>False</td>\n",
              "      <td>False</td>\n",
              "      <td>False</td>\n",
              "      <td>False</td>\n",
              "    </tr>\n",
              "    <tr>\n",
              "      <th>...</th>\n",
              "      <td>...</td>\n",
              "      <td>...</td>\n",
              "      <td>...</td>\n",
              "      <td>...</td>\n",
              "      <td>...</td>\n",
              "      <td>...</td>\n",
              "      <td>...</td>\n",
              "      <td>...</td>\n",
              "      <td>...</td>\n",
              "      <td>...</td>\n",
              "      <td>...</td>\n",
              "      <td>...</td>\n",
              "      <td>...</td>\n",
              "      <td>...</td>\n",
              "      <td>...</td>\n",
              "      <td>...</td>\n",
              "      <td>...</td>\n",
              "      <td>...</td>\n",
              "      <td>...</td>\n",
              "      <td>...</td>\n",
              "      <td>...</td>\n",
              "    </tr>\n",
              "    <tr>\n",
              "      <th>1495</th>\n",
              "      <td>False</td>\n",
              "      <td>False</td>\n",
              "      <td>False</td>\n",
              "      <td>False</td>\n",
              "      <td>False</td>\n",
              "      <td>False</td>\n",
              "      <td>False</td>\n",
              "      <td>False</td>\n",
              "      <td>False</td>\n",
              "      <td>False</td>\n",
              "      <td>...</td>\n",
              "      <td>False</td>\n",
              "      <td>False</td>\n",
              "      <td>False</td>\n",
              "      <td>False</td>\n",
              "      <td>False</td>\n",
              "      <td>False</td>\n",
              "      <td>False</td>\n",
              "      <td>False</td>\n",
              "      <td>False</td>\n",
              "      <td>False</td>\n",
              "    </tr>\n",
              "    <tr>\n",
              "      <th>1496</th>\n",
              "      <td>False</td>\n",
              "      <td>False</td>\n",
              "      <td>False</td>\n",
              "      <td>False</td>\n",
              "      <td>False</td>\n",
              "      <td>False</td>\n",
              "      <td>False</td>\n",
              "      <td>False</td>\n",
              "      <td>False</td>\n",
              "      <td>False</td>\n",
              "      <td>...</td>\n",
              "      <td>False</td>\n",
              "      <td>False</td>\n",
              "      <td>False</td>\n",
              "      <td>False</td>\n",
              "      <td>False</td>\n",
              "      <td>False</td>\n",
              "      <td>False</td>\n",
              "      <td>False</td>\n",
              "      <td>False</td>\n",
              "      <td>False</td>\n",
              "    </tr>\n",
              "    <tr>\n",
              "      <th>1497</th>\n",
              "      <td>False</td>\n",
              "      <td>False</td>\n",
              "      <td>False</td>\n",
              "      <td>False</td>\n",
              "      <td>False</td>\n",
              "      <td>False</td>\n",
              "      <td>False</td>\n",
              "      <td>False</td>\n",
              "      <td>False</td>\n",
              "      <td>False</td>\n",
              "      <td>...</td>\n",
              "      <td>False</td>\n",
              "      <td>False</td>\n",
              "      <td>False</td>\n",
              "      <td>False</td>\n",
              "      <td>False</td>\n",
              "      <td>False</td>\n",
              "      <td>False</td>\n",
              "      <td>False</td>\n",
              "      <td>False</td>\n",
              "      <td>False</td>\n",
              "    </tr>\n",
              "    <tr>\n",
              "      <th>1498</th>\n",
              "      <td>False</td>\n",
              "      <td>False</td>\n",
              "      <td>False</td>\n",
              "      <td>False</td>\n",
              "      <td>False</td>\n",
              "      <td>False</td>\n",
              "      <td>False</td>\n",
              "      <td>False</td>\n",
              "      <td>False</td>\n",
              "      <td>False</td>\n",
              "      <td>...</td>\n",
              "      <td>False</td>\n",
              "      <td>False</td>\n",
              "      <td>False</td>\n",
              "      <td>False</td>\n",
              "      <td>False</td>\n",
              "      <td>False</td>\n",
              "      <td>False</td>\n",
              "      <td>False</td>\n",
              "      <td>False</td>\n",
              "      <td>False</td>\n",
              "    </tr>\n",
              "    <tr>\n",
              "      <th>1499</th>\n",
              "      <td>False</td>\n",
              "      <td>False</td>\n",
              "      <td>False</td>\n",
              "      <td>False</td>\n",
              "      <td>False</td>\n",
              "      <td>False</td>\n",
              "      <td>False</td>\n",
              "      <td>False</td>\n",
              "      <td>False</td>\n",
              "      <td>False</td>\n",
              "      <td>...</td>\n",
              "      <td>False</td>\n",
              "      <td>False</td>\n",
              "      <td>False</td>\n",
              "      <td>False</td>\n",
              "      <td>False</td>\n",
              "      <td>False</td>\n",
              "      <td>False</td>\n",
              "      <td>False</td>\n",
              "      <td>False</td>\n",
              "      <td>False</td>\n",
              "    </tr>\n",
              "  </tbody>\n",
              "</table>\n",
              "<p>1500 rows × 31 columns</p>\n",
              "</div>\n",
              "      <button class=\"colab-df-convert\" onclick=\"convertToInteractive('df-bf87ecce-233e-4402-b1b8-b4e54fa7a44b')\"\n",
              "              title=\"Convert this dataframe to an interactive table.\"\n",
              "              style=\"display:none;\">\n",
              "        \n",
              "  <svg xmlns=\"http://www.w3.org/2000/svg\" height=\"24px\"viewBox=\"0 0 24 24\"\n",
              "       width=\"24px\">\n",
              "    <path d=\"M0 0h24v24H0V0z\" fill=\"none\"/>\n",
              "    <path d=\"M18.56 5.44l.94 2.06.94-2.06 2.06-.94-2.06-.94-.94-2.06-.94 2.06-2.06.94zm-11 1L8.5 8.5l.94-2.06 2.06-.94-2.06-.94L8.5 2.5l-.94 2.06-2.06.94zm10 10l.94 2.06.94-2.06 2.06-.94-2.06-.94-.94-2.06-.94 2.06-2.06.94z\"/><path d=\"M17.41 7.96l-1.37-1.37c-.4-.4-.92-.59-1.43-.59-.52 0-1.04.2-1.43.59L10.3 9.45l-7.72 7.72c-.78.78-.78 2.05 0 2.83L4 21.41c.39.39.9.59 1.41.59.51 0 1.02-.2 1.41-.59l7.78-7.78 2.81-2.81c.8-.78.8-2.07 0-2.86zM5.41 20L4 18.59l7.72-7.72 1.47 1.35L5.41 20z\"/>\n",
              "  </svg>\n",
              "      </button>\n",
              "      \n",
              "  <style>\n",
              "    .colab-df-container {\n",
              "      display:flex;\n",
              "      flex-wrap:wrap;\n",
              "      gap: 12px;\n",
              "    }\n",
              "\n",
              "    .colab-df-convert {\n",
              "      background-color: #E8F0FE;\n",
              "      border: none;\n",
              "      border-radius: 50%;\n",
              "      cursor: pointer;\n",
              "      display: none;\n",
              "      fill: #1967D2;\n",
              "      height: 32px;\n",
              "      padding: 0 0 0 0;\n",
              "      width: 32px;\n",
              "    }\n",
              "\n",
              "    .colab-df-convert:hover {\n",
              "      background-color: #E2EBFA;\n",
              "      box-shadow: 0px 1px 2px rgba(60, 64, 67, 0.3), 0px 1px 3px 1px rgba(60, 64, 67, 0.15);\n",
              "      fill: #174EA6;\n",
              "    }\n",
              "\n",
              "    [theme=dark] .colab-df-convert {\n",
              "      background-color: #3B4455;\n",
              "      fill: #D2E3FC;\n",
              "    }\n",
              "\n",
              "    [theme=dark] .colab-df-convert:hover {\n",
              "      background-color: #434B5C;\n",
              "      box-shadow: 0px 1px 3px 1px rgba(0, 0, 0, 0.15);\n",
              "      filter: drop-shadow(0px 1px 2px rgba(0, 0, 0, 0.3));\n",
              "      fill: #FFFFFF;\n",
              "    }\n",
              "  </style>\n",
              "\n",
              "      <script>\n",
              "        const buttonEl =\n",
              "          document.querySelector('#df-bf87ecce-233e-4402-b1b8-b4e54fa7a44b button.colab-df-convert');\n",
              "        buttonEl.style.display =\n",
              "          google.colab.kernel.accessAllowed ? 'block' : 'none';\n",
              "\n",
              "        async function convertToInteractive(key) {\n",
              "          const element = document.querySelector('#df-bf87ecce-233e-4402-b1b8-b4e54fa7a44b');\n",
              "          const dataTable =\n",
              "            await google.colab.kernel.invokeFunction('convertToInteractive',\n",
              "                                                     [key], {});\n",
              "          if (!dataTable) return;\n",
              "\n",
              "          const docLinkHtml = 'Like what you see? Visit the ' +\n",
              "            '<a target=\"_blank\" href=https://colab.research.google.com/notebooks/data_table.ipynb>data table notebook</a>'\n",
              "            + ' to learn more about interactive tables.';\n",
              "          element.innerHTML = '';\n",
              "          dataTable['output_type'] = 'display_data';\n",
              "          await google.colab.output.renderOutput(dataTable, element);\n",
              "          const docLink = document.createElement('div');\n",
              "          docLink.innerHTML = docLinkHtml;\n",
              "          element.appendChild(docLink);\n",
              "        }\n",
              "      </script>\n",
              "    </div>\n",
              "  </div>\n",
              "  "
            ]
          },
          "metadata": {},
          "execution_count": 99
        }
      ]
    },
    {
      "cell_type": "code",
      "source": [
        "#Creating X axis & Y axis data \n",
        "#Y axis data from feature class => Feature 'Class' is the response variable ( it takes value 1 in case of fraud and 0 otherwise),\n",
        "Y_new_credit=new_credit_data['Class']\n",
        "Y_new_credit=Y_new_credit.astype('int')\n",
        "Y_new_credit.unique()"
      ],
      "metadata": {
        "colab": {
          "base_uri": "https://localhost:8080/"
        },
        "id": "VcN2-pLPVcXw",
        "outputId": "1d3266df-0a72-43d1-f943-016419f38915"
      },
      "execution_count": 153,
      "outputs": [
        {
          "output_type": "execute_result",
          "data": {
            "text/plain": [
              "array([0, 1])"
            ]
          },
          "metadata": {},
          "execution_count": 153
        }
      ]
    },
    {
      "cell_type": "code",
      "source": [
        "#X axis data from the Features V1, V2, … V28 are the principal components obtained with PCA, the only features which have not been \n",
        "#Transformed with PCA are 'Time' and 'Amount'. Feature 'Time' contains the seconds elapsed between each transaction and the \n",
        "#first transaction in the dataset. The feature 'Amount' is the transaction Amount, this feature can be used for example-dependant \n",
        "#cost-sensitive learning. \n",
        "X_new_credit  = new_credit_data.drop(['Class'], axis = 1)\n",
        "X_new_credit = np.asarray(X_new_credit).astype('float32')\n",
        "X_new_credit"
      ],
      "metadata": {
        "colab": {
          "base_uri": "https://localhost:8080/"
        },
        "id": "Z6AP5AA1V8q3",
        "outputId": "838445a4-31c9-4003-95ce-33a430e002e5"
      },
      "execution_count": 154,
      "outputs": [
        {
          "output_type": "execute_result",
          "data": {
            "text/plain": [
              "array([[ 7.3358000e+04,  9.9632573e-01, -1.0373052e+00, ...,\n",
              "         8.1146047e-02,  2.5298910e-02,  1.4099001e+02],\n",
              "       [ 7.7387000e+04,  1.2042094e+00,  1.7565370e-01, ...,\n",
              "        -3.5343423e-02,  9.8250741e-03,  9.9000001e-01],\n",
              "       [ 1.5101900e+05, -2.2183707e+00,  8.4543318e-01, ...,\n",
              "         4.2936798e-02, -3.3171776e-01,  5.9200001e+00],\n",
              "       ...,\n",
              "       [ 1.6935100e+05, -6.7614269e-01,  1.1263660e+00, ...,\n",
              "         3.8510746e-01,  1.9436148e-01,  7.7889999e+01],\n",
              "       [ 1.6996600e+05, -3.1138315e+00,  5.8586419e-01, ...,\n",
              "         8.8487554e-01, -2.5370032e-01,  2.4500000e+02],\n",
              "       [ 1.7034800e+05,  1.9919761e+00,  1.5847589e-01, ...,\n",
              "         2.9875822e-03, -1.5308813e-02,  4.2529999e+01]], dtype=float32)"
            ]
          },
          "metadata": {},
          "execution_count": 154
        }
      ]
    },
    {
      "cell_type": "markdown",
      "source": [
        "**SPLIT DATA**"
      ],
      "metadata": {
        "id": "31ykkDKSWOCn"
      }
    },
    {
      "cell_type": "code",
      "source": [
        "#Create test and train X and Y axis data sets from the CSV data\n",
        "\n",
        "X_train, X_test, y_train, y_test = train_test_split(X_new_credit, Y_new_credit, test_size=0.30, random_state=0)\n",
        "print(\"Length of X_train is: {X_train}\".format(X_train = len(X_train)))\n",
        "print(\"Length of X_test is: {X_test}\".format(X_test = len(X_test)))\n",
        "print(\"Length of y_train is: {y_train}\".format(y_train = len(y_train)))\n",
        "print(\"Length of y_test is: {y_test}\".format(y_test = len(y_test)))\n",
        "print(\"Shape of training data : \"+str(X_train.shape))\n",
        "print(\"Shape of test data : \"+str(X_test.shape))"
      ],
      "metadata": {
        "colab": {
          "base_uri": "https://localhost:8080/"
        },
        "id": "2ZFrlx1fV88z",
        "outputId": "24f21970-8693-4bc8-b470-207e51ba2401"
      },
      "execution_count": 155,
      "outputs": [
        {
          "output_type": "stream",
          "name": "stdout",
          "text": [
            "Length of X_train is: 2100\n",
            "Length of X_test is: 900\n",
            "Length of y_train is: 2100\n",
            "Length of y_test is: 900\n",
            "Shape of training data : (2100, 30)\n",
            "Shape of test data : (900, 30)\n"
          ]
        }
      ]
    },
    {
      "cell_type": "code",
      "source": [
        "print(\"Train data\\n\")\n",
        "print(X_train)\n",
        "print(y_train)\n",
        "print(\"\\n\")\n",
        "print(\"Test data\\n\")\n",
        "print(X_test)\n",
        "print(y_test)"
      ],
      "metadata": {
        "colab": {
          "base_uri": "https://localhost:8080/"
        },
        "id": "fS70AfGHWdK_",
        "outputId": "de98a660-7b49-49c8-e61d-53ef0984ec11"
      },
      "execution_count": 156,
      "outputs": [
        {
          "output_type": "stream",
          "name": "stdout",
          "text": [
            "Train data\n",
            "\n",
            "[[ 5.5043000e+04 -6.0876805e-01  1.4358747e+00 ... -6.9096702e-01\n",
            "  -8.2584456e-02  2.0000000e+00]\n",
            " [ 6.6950000e+04 -7.4020815e-01  3.9848838e-02 ...  2.9000861e-03\n",
            "   6.5385692e-02  5.7980000e+01]\n",
            " [ 1.0584000e+05 -4.9767599e-01  8.8700384e-01 ... -7.1120165e-02\n",
            "  -1.4454968e-01  2.1199999e+00]\n",
            " ...\n",
            " [ 1.7545000e+04  1.1628159e+00  2.9596397e-01 ... -1.3570605e-03\n",
            "  -1.5543140e-03  9.8999996e+00]\n",
            " [ 3.5942000e+04 -4.1940737e+00  4.3828974e+00 ...  4.7393423e-01\n",
            "   4.7375748e-01  1.4460000e+01]\n",
            " [ 6.7857000e+04 -1.7393337e+00 -1.3046546e+00 ...  3.1632621e-02\n",
            "   6.6279687e-02  3.2000000e+02]]\n",
            "1732    0\n",
            "2440    0\n",
            "1232    0\n",
            "1081    0\n",
            "2920    1\n",
            "       ..\n",
            "763     0\n",
            "835     0\n",
            "1653    0\n",
            "2607    1\n",
            "2732    1\n",
            "Name: Class, Length: 2100, dtype: int64\n",
            "\n",
            "\n",
            "Test data\n",
            "\n",
            "[[ 6.9532000e+04 -9.8917627e+00 -1.2068938e+01 ...  1.7426024e-01\n",
            "  -1.9504436e+00  1.0590000e+01]\n",
            " [ 1.7043000e+05 -4.3240738e-01  1.8578154e-01 ...  9.8962538e-02\n",
            "   1.6533729e-01  2.9950001e+01]\n",
            " [ 1.4500000e+02 -2.4204128e+00  1.9478854e+00 ... -1.8828088e-01\n",
            "   1.1983099e-01  6.0000000e+00]\n",
            " ...\n",
            " [ 1.5942700e+05 -3.2852021e-01  5.6882417e-01 ... -3.6175880e-01\n",
            "  -4.7416702e-02  4.8470001e+01]\n",
            " [ 1.2005500e+05  2.1623106e+00 -9.1913557e-01 ... -5.4692034e-02\n",
            "  -6.8394639e-02  5.0900002e+01]\n",
            " [ 7.8002000e+04 -8.3207883e-02  3.0232674e-01 ...  9.7628243e-02\n",
            "   3.0881058e-02  1.5660000e+01]]\n",
            "311     0\n",
            "1025    0\n",
            "1587    0\n",
            "2941    1\n",
            "2980    1\n",
            "       ..\n",
            "1341    0\n",
            "1612    0\n",
            "757     0\n",
            "39      0\n",
            "1043    0\n",
            "Name: Class, Length: 900, dtype: int64\n"
          ]
        }
      ]
    },
    {
      "cell_type": "markdown",
      "source": [
        "# **FEED FORWARD NEURAL NETWORK**"
      ],
      "metadata": {
        "id": "YjKhAV0uWc9l"
      }
    },
    {
      "cell_type": "markdown",
      "source": [
        "**CREATE MODEL**"
      ],
      "metadata": {
        "id": "JfAJzpW7X5-H"
      }
    },
    {
      "cell_type": "markdown",
      "source": [
        "1. **Dense Layers:-** 3 - \n",
        "\n",
        "    *  **Activation:-** relu,relu,sigmoid\n",
        "\n",
        "2. **Drop layers:-** 2\n",
        "\n",
        "3. **Learning rate:-**=0.01\n",
        "\n",
        "4. **Optimizer:-**  adam\n",
        "\n",
        "5. **epochs:-**5\n",
        "\n",
        "6. **batch_size:-**16"
      ],
      "metadata": {
        "id": "dftAMu6LxhfI"
      }
    },
    {
      "cell_type": "code",
      "source": [
        "neural_start_time = time.time()\n",
        "nn_model = Sequential()\n",
        "nn_model.add(Dense(units=1000, activation='relu', input_shape=(30,)))\n",
        "nn_model.add(Dropout(0.1))\n",
        "nn_model.add(Dense(units=1000, activation='relu'))\n",
        "nn_model.add(Dropout(0.1))\n",
        "nn_model.add(Dense(1, activation='sigmoid'))\n",
        "nn_model.summary()\n",
        "\n",
        "#FIT MODEL\n",
        "learning_rate=0.01\n",
        "nn_model.compile(optimizer='adam',loss='binary_crossentropy',metrics=['accuracy'])\n",
        "history = nn_model.fit(X_train, y_train,batch_size=16,epochs=5,verbose=1,validation_data=(X_test, y_test))\n",
        "\n",
        "#EVALUATE MODEL\n",
        "score = nn_model.evaluate(X_test, y_test, verbose=0)\n",
        "print('Test loss:', score[0])\n",
        "print('Test accuracy:', score[1])\n",
        "\n",
        "#PLOT THE RESULT\n",
        "acc = history.history['accuracy']\n",
        "val_acc = history.history['val_accuracy']\n",
        "loss = history.history['loss']\n",
        "val_loss = history.history['val_loss']\n",
        "epochs_range = range(5)\n",
        "plt.figure(figsize=(8, 8))\n",
        "plt.plot(epochs_range, acc, label='Training Accuracy')\n",
        "plt.plot(epochs_range, val_acc, label='Validation Accuracy')\n",
        "plt.legend(loc='lower right')\n",
        "plt.title('Training and Validation Accuracy')\n",
        "plt.plot(epochs_range, loss, label='Training Loss')\n",
        "plt.plot(epochs_range, val_loss, label='Validation Loss')\n",
        "plt.legend(loc='upper right')\n",
        "plt.title('Training and Validation Loss')\n",
        "plt.show()"
      ],
      "metadata": {
        "colab": {
          "base_uri": "https://localhost:8080/",
          "height": 1000
        },
        "id": "wuY8RaljX9Rj",
        "outputId": "060c0a96-3fae-4eff-b2fd-0d793e218fc3"
      },
      "execution_count": 34,
      "outputs": [
        {
          "output_type": "stream",
          "name": "stdout",
          "text": [
            "Model: \"sequential_20\"\n",
            "_________________________________________________________________\n",
            " Layer (type)                Output Shape              Param #   \n",
            "=================================================================\n",
            " dense_90 (Dense)            (None, 1000)              31000     \n",
            "                                                                 \n",
            " dropout_70 (Dropout)        (None, 1000)              0         \n",
            "                                                                 \n",
            " dense_91 (Dense)            (None, 1000)              1001000   \n",
            "                                                                 \n",
            " dropout_71 (Dropout)        (None, 1000)              0         \n",
            "                                                                 \n",
            " dense_92 (Dense)            (None, 1)                 1001      \n",
            "                                                                 \n",
            "=================================================================\n",
            "Total params: 1,033,001\n",
            "Trainable params: 1,033,001\n",
            "Non-trainable params: 0\n",
            "_________________________________________________________________\n",
            "Epoch 1/5\n",
            "132/132 [==============================] - 5s 26ms/step - loss: 643.1746 - accuracy: 0.7352 - val_loss: 551.7608 - val_accuracy: 0.1489\n",
            "Epoch 2/5\n",
            "132/132 [==============================] - 3s 20ms/step - loss: 215.2729 - accuracy: 0.7295 - val_loss: 5.1707 - val_accuracy: 0.8489\n",
            "Epoch 3/5\n",
            "132/132 [==============================] - 2s 17ms/step - loss: 49.8462 - accuracy: 0.7362 - val_loss: 3.3761 - val_accuracy: 0.8511\n",
            "Epoch 4/5\n",
            "132/132 [==============================] - 2s 16ms/step - loss: 9.7198 - accuracy: 0.7276 - val_loss: 1.2713 - val_accuracy: 0.8489\n",
            "Epoch 5/5\n",
            "132/132 [==============================] - 2s 16ms/step - loss: 1.6512 - accuracy: 0.7633 - val_loss: 0.5286 - val_accuracy: 0.8400\n",
            "Test loss: 0.5286462306976318\n",
            "Test accuracy: 0.8399999737739563\n"
          ]
        },
        {
          "output_type": "display_data",
          "data": {
            "text/plain": [
              "<Figure size 576x576 with 1 Axes>"
            ],
            "image/png": "[encoded data removed]"
          },
          "metadata": {}
        }
      ]
    },
    {
      "cell_type": "markdown",
      "source": [
        "# **HYPER PARAMETER OPTIMISATION**"
      ],
      "metadata": {
        "id": "cfalx01yaYbM"
      }
    },
    {
      "cell_type": "markdown",
      "source": [
        "# **Method 1 :**\n",
        "*Hyper Parameter Tunning*:-\n",
        "\n",
        "1. **Dense Layers:-** 5 - \n",
        "\n",
        "    *  **Activation:-** sigmoid\n",
        "\n",
        "2. **Drop layers:-** 2\n",
        "\n",
        "3. **Learning rate:-**=0.3\n",
        "\n",
        "4. **Optimizer:-**  Adadelta\n",
        "\n",
        "5. **epochs:-**20\n",
        "\n",
        "6. **batch_size:-**16"
      ],
      "metadata": {
        "id": "t5e4s6_C-rN3"
      }
    },
    {
      "cell_type": "code",
      "source": [
        "neural_start_time = time.time()\n",
        "nn_model = Sequential()\n",
        "nn_model.add(Dense(units=1000, activation='sigmoid', input_shape=(30,)))\n",
        "nn_model.add(Dropout(0.1))\n",
        "nn_model.add(Dense(units=100, activation='sigmoid'))\n",
        "nn_model.add(Dropout(0.1))\n",
        "nn_model.add(Dense(units=100, activation='sigmoid'))\n",
        "#nn_model.add(Dropout(0.1))\n",
        "nn_model.add(Dense(units=100, activation='sigmoid'))\n",
        "##nn_model.add(Dropout(0.1))\n",
        "nn_model.add(Dense(1, activation='sigmoid'))\n",
        "nn_model.summary()\n",
        "\n",
        "#FIT MODEL\n",
        "learning_rate=0.3\n",
        "nn_model.compile(optimizer='Adadelta',loss='binary_crossentropy',metrics=['accuracy'])\n",
        "history = nn_model.fit(X_train, y_train,batch_size=16,epochs=20,verbose=1,validation_data=(X_test, y_test))\n",
        "\n",
        "#EVALUATE MODEL\n",
        "score = nn_model.evaluate(X_test, y_test, verbose=0)\n",
        "print('Test loss:', score[0])\n",
        "print('Test accuracy:', score[1])\n",
        "\n",
        "#PLOT THE RESULT\n",
        "acc = history.history['accuracy']\n",
        "val_acc = history.history['val_accuracy']\n",
        "loss = history.history['loss']\n",
        "val_loss = history.history['val_loss']\n",
        "epochs_range = range(20)\n",
        "\n",
        "plt.figure(figsize=(8, 8))\n",
        "plt.plot(epochs_range, acc, label='Training Accuracy')\n",
        "plt.plot(epochs_range, val_acc, label='Validation Accuracy')\n",
        "plt.legend(loc='lower right')\n",
        "plt.title('Training and Validation Accuracy')\n",
        "plt.plot(epochs_range, loss, label='Training Loss')\n",
        "plt.plot(epochs_range, val_loss, label='Validation Loss')\n",
        "plt.legend(loc='upper right')\n",
        "plt.title('Training and Validation Loss')\n",
        "plt.show()"
      ],
      "metadata": {
        "colab": {
          "base_uri": "https://localhost:8080/",
          "height": 1000
        },
        "id": "Yd_RKJXhdNuq",
        "outputId": "ecb6a2fc-bdbe-4e78-dd20-4050217cbf62"
      },
      "execution_count": 54,
      "outputs": [
        {
          "output_type": "stream",
          "name": "stdout",
          "text": [
            "Model: \"sequential_40\"\n",
            "_________________________________________________________________\n",
            " Layer (type)                Output Shape              Param #   \n",
            "=================================================================\n",
            " dense_184 (Dense)           (None, 1000)              31000     \n",
            "                                                                 \n",
            " dropout_114 (Dropout)       (None, 1000)              0         \n",
            "                                                                 \n",
            " dense_185 (Dense)           (None, 100)               100100    \n",
            "                                                                 \n",
            " dropout_115 (Dropout)       (None, 100)               0         \n",
            "                                                                 \n",
            " dense_186 (Dense)           (None, 100)               10100     \n",
            "                                                                 \n",
            " dense_187 (Dense)           (None, 100)               10100     \n",
            "                                                                 \n",
            " dense_188 (Dense)           (None, 1)                 101       \n",
            "                                                                 \n",
            "=================================================================\n",
            "Total params: 151,401\n",
            "Trainable params: 151,401\n",
            "Non-trainable params: 0\n",
            "_________________________________________________________________\n",
            "Epoch 1/20\n",
            "132/132 [==============================] - 4s 13ms/step - loss: 0.6970 - accuracy: 0.3876 - val_loss: 0.6879 - val_accuracy: 0.8500\n",
            "Epoch 2/20\n",
            "132/132 [==============================] - 1s 11ms/step - loss: 0.6799 - accuracy: 0.7905 - val_loss: 0.6698 - val_accuracy: 0.8500\n",
            "Epoch 3/20\n",
            "132/132 [==============================] - 1s 9ms/step - loss: 0.6631 - accuracy: 0.8300 - val_loss: 0.6518 - val_accuracy: 0.8500\n",
            "Epoch 4/20\n",
            "132/132 [==============================] - 1s 6ms/step - loss: 0.6462 - accuracy: 0.8300 - val_loss: 0.6342 - val_accuracy: 0.8500\n",
            "Epoch 5/20\n",
            "132/132 [==============================] - 1s 6ms/step - loss: 0.6300 - accuracy: 0.8300 - val_loss: 0.6174 - val_accuracy: 0.8500\n",
            "Epoch 6/20\n",
            "132/132 [==============================] - 1s 6ms/step - loss: 0.6150 - accuracy: 0.8300 - val_loss: 0.6013 - val_accuracy: 0.8500\n",
            "Epoch 7/20\n",
            "132/132 [==============================] - 1s 6ms/step - loss: 0.6004 - accuracy: 0.8300 - val_loss: 0.5863 - val_accuracy: 0.8500\n",
            "Epoch 8/20\n",
            "132/132 [==============================] - 1s 6ms/step - loss: 0.5877 - accuracy: 0.8300 - val_loss: 0.5725 - val_accuracy: 0.8500\n",
            "Epoch 9/20\n",
            "132/132 [==============================] - 1s 6ms/step - loss: 0.5752 - accuracy: 0.8300 - val_loss: 0.5596 - val_accuracy: 0.8500\n",
            "Epoch 10/20\n",
            "132/132 [==============================] - 1s 6ms/step - loss: 0.5639 - accuracy: 0.8300 - val_loss: 0.5477 - val_accuracy: 0.8500\n",
            "Epoch 11/20\n",
            "132/132 [==============================] - 1s 6ms/step - loss: 0.5536 - accuracy: 0.8300 - val_loss: 0.5367 - val_accuracy: 0.8500\n",
            "Epoch 12/20\n",
            "132/132 [==============================] - 1s 6ms/step - loss: 0.5440 - accuracy: 0.8300 - val_loss: 0.5267 - val_accuracy: 0.8500\n",
            "Epoch 13/20\n",
            "132/132 [==============================] - 1s 6ms/step - loss: 0.5356 - accuracy: 0.8300 - val_loss: 0.5175 - val_accuracy: 0.8500\n",
            "Epoch 14/20\n",
            "132/132 [==============================] - 1s 6ms/step - loss: 0.5274 - accuracy: 0.8300 - val_loss: 0.5091 - val_accuracy: 0.8500\n",
            "Epoch 15/20\n",
            "132/132 [==============================] - 1s 6ms/step - loss: 0.5199 - accuracy: 0.8300 - val_loss: 0.5013 - val_accuracy: 0.8500\n",
            "Epoch 16/20\n",
            "132/132 [==============================] - 1s 6ms/step - loss: 0.5131 - accuracy: 0.8300 - val_loss: 0.4943 - val_accuracy: 0.8500\n",
            "Epoch 17/20\n",
            "132/132 [==============================] - 1s 8ms/step - loss: 0.5077 - accuracy: 0.8300 - val_loss: 0.4880 - val_accuracy: 0.8500\n",
            "Epoch 18/20\n",
            "132/132 [==============================] - 1s 10ms/step - loss: 0.5021 - accuracy: 0.8300 - val_loss: 0.4823 - val_accuracy: 0.8500\n",
            "Epoch 19/20\n",
            "132/132 [==============================] - 2s 13ms/step - loss: 0.4975 - accuracy: 0.8300 - val_loss: 0.4772 - val_accuracy: 0.8500\n",
            "Epoch 20/20\n",
            "132/132 [==============================] - 2s 12ms/step - loss: 0.4938 - accuracy: 0.8300 - val_loss: 0.4725 - val_accuracy: 0.8500\n",
            "Test loss: 0.4724513292312622\n",
            "Test accuracy: 0.8500000238418579\n"
          ]
        },
        {
          "output_type": "display_data",
          "data": {
            "text/plain": [
              "<Figure size 576x576 with 1 Axes>"
            ],
            "image/png": "[encoded data removed]"
          },
          "metadata": {}
        }
      ]
    },
    {
      "cell_type": "markdown",
      "source": [
        "# **Method 2 :**\n",
        "*Hyper Parameter Tunning*:-\n",
        "\n",
        "1. **Dense Layers:-** 5 - \n",
        "\n",
        "    *  **Activation:-** relu, sigmoid, sigmoid , sigmoid , sigmoid\n",
        "\n",
        "2. **Drop layers:-** 2\n",
        "\n",
        "3. **Learning rate:-**=0.0\n",
        "\n",
        "4. **Optimizer:-**  adam\n",
        "\n",
        "5. **epochs:-**20\n",
        "\n",
        "6. **batch_size:-**16"
      ],
      "metadata": {
        "id": "gRvcTmRfAY0v"
      }
    },
    {
      "cell_type": "code",
      "source": [
        "neural_start_time = time.time()\n",
        "nn_model = Sequential()\n",
        "nn_model.add(Dense(units=1000, activation='relu', input_shape=(30,)))\n",
        "nn_model.add(Dropout(0.5))\n",
        "nn_model.add(Dense(units=24, activation='sigmoid'))\n",
        "nn_model.add(Dropout(0.1))\n",
        "nn_model.add(Dense(units=20, activation='sigmoid'))\n",
        "#nn_model.add(Dropout(0.1))\n",
        "nn_model.add(Dense(units=24, activation='sigmoid'))\n",
        "#nn_model.add(Dropout(0.1))\n",
        "nn_model.add(Dense(1, activation='sigmoid'))\n",
        "nn_model.summary()\n",
        "\n",
        "#FIT MODEL\n",
        "nn_model.compile(optimizer='adam',loss='binary_crossentropy',metrics=['accuracy'])\n",
        "history = nn_model.fit(X_train, y_train,batch_size=16,epochs=20,verbose=1,validation_data=(X_test, y_test))\n",
        "\n",
        "#EVALUATE MODEL\n",
        "score = nn_model.evaluate(X_test, y_test, verbose=0)\n",
        "print('Test loss:', score[0])\n",
        "print('Test accuracy:', score[1])\n",
        "\n",
        "#PLOT THE RESULT\n",
        "acc = history.history['accuracy']\n",
        "val_acc = history.history['val_accuracy']\n",
        "loss = history.history['loss']\n",
        "val_loss = history.history['val_loss']\n",
        "epochs_range = range(20)\n",
        "plt.figure(figsize=(8, 8))\n",
        "plt.plot(epochs_range, acc, label='Training Accuracy')\n",
        "plt.plot(epochs_range, val_acc, label='Validation Accuracy')\n",
        "plt.legend(loc='lower right')\n",
        "plt.title('Training and Validation Accuracy')\n",
        "plt.plot(epochs_range, loss, label='Training Loss')\n",
        "plt.plot(epochs_range, val_loss, label='Validation Loss')\n",
        "plt.legend(loc='upper right')\n",
        "plt.title('Training and Validation Loss')\n",
        "plt.show()"
      ],
      "metadata": {
        "colab": {
          "base_uri": "https://localhost:8080/",
          "height": 1000
        },
        "id": "oJw5gVLQafDL",
        "outputId": "96edbd65-d7ea-4d94-d95b-ad8e347d7248"
      },
      "execution_count": 127,
      "outputs": [
        {
          "output_type": "stream",
          "name": "stdout",
          "text": [
            "Model: \"sequential_15\"\n",
            "_________________________________________________________________\n",
            " Layer (type)                Output Shape              Param #   \n",
            "=================================================================\n",
            " dense_58 (Dense)            (None, 1000)              31000     \n",
            "                                                                 \n",
            " dropout_32 (Dropout)        (None, 1000)              0         \n",
            "                                                                 \n",
            " dense_59 (Dense)            (None, 24)                24024     \n",
            "                                                                 \n",
            " dropout_33 (Dropout)        (None, 24)                0         \n",
            "                                                                 \n",
            " dense_60 (Dense)            (None, 20)                500       \n",
            "                                                                 \n",
            " dense_61 (Dense)            (None, 24)                504       \n",
            "                                                                 \n",
            " dense_62 (Dense)            (None, 1)                 25        \n",
            "                                                                 \n",
            "=================================================================\n",
            "Total params: 56,053\n",
            "Trainable params: 56,053\n",
            "Non-trainable params: 0\n",
            "_________________________________________________________________\n",
            "Epoch 1/20\n",
            "132/132 [==============================] - 3s 10ms/step - loss: 0.5989 - accuracy: 0.6733 - val_loss: 0.4306 - val_accuracy: 0.8500\n",
            "Epoch 2/20\n",
            "132/132 [==============================] - 1s 8ms/step - loss: 0.4573 - accuracy: 0.8300 - val_loss: 0.4259 - val_accuracy: 0.8500\n",
            "Epoch 3/20\n",
            "132/132 [==============================] - 1s 7ms/step - loss: 0.4564 - accuracy: 0.8300 - val_loss: 0.4236 - val_accuracy: 0.8500\n",
            "Epoch 4/20\n",
            "132/132 [==============================] - 1s 8ms/step - loss: 0.4563 - accuracy: 0.8300 - val_loss: 0.4230 - val_accuracy: 0.8500\n",
            "Epoch 5/20\n",
            "132/132 [==============================] - 1s 7ms/step - loss: 0.4562 - accuracy: 0.8300 - val_loss: 0.4248 - val_accuracy: 0.8500\n",
            "Epoch 6/20\n",
            "132/132 [==============================] - 2s 12ms/step - loss: 0.4565 - accuracy: 0.8300 - val_loss: 0.4238 - val_accuracy: 0.8500\n",
            "Epoch 7/20\n",
            "132/132 [==============================] - 1s 7ms/step - loss: 0.4566 - accuracy: 0.8300 - val_loss: 0.4238 - val_accuracy: 0.8500\n",
            "Epoch 8/20\n",
            "132/132 [==============================] - 1s 5ms/step - loss: 0.4566 - accuracy: 0.8300 - val_loss: 0.4232 - val_accuracy: 0.8500\n",
            "Epoch 9/20\n",
            "132/132 [==============================] - 1s 4ms/step - loss: 0.4570 - accuracy: 0.8300 - val_loss: 0.4236 - val_accuracy: 0.8500\n",
            "Epoch 10/20\n",
            "132/132 [==============================] - 1s 5ms/step - loss: 0.4565 - accuracy: 0.8300 - val_loss: 0.4235 - val_accuracy: 0.8500\n",
            "Epoch 11/20\n",
            "132/132 [==============================] - 1s 5ms/step - loss: 0.4563 - accuracy: 0.8300 - val_loss: 0.4227 - val_accuracy: 0.8500\n",
            "Epoch 12/20\n",
            "132/132 [==============================] - 1s 4ms/step - loss: 0.4567 - accuracy: 0.8300 - val_loss: 0.4264 - val_accuracy: 0.8500\n",
            "Epoch 13/20\n",
            "132/132 [==============================] - 1s 4ms/step - loss: 0.4572 - accuracy: 0.8300 - val_loss: 0.4240 - val_accuracy: 0.8500\n",
            "Epoch 14/20\n",
            "132/132 [==============================] - 1s 5ms/step - loss: 0.4565 - accuracy: 0.8300 - val_loss: 0.4253 - val_accuracy: 0.8500\n",
            "Epoch 15/20\n",
            "132/132 [==============================] - 1s 4ms/step - loss: 0.4565 - accuracy: 0.8300 - val_loss: 0.4240 - val_accuracy: 0.8500\n",
            "Epoch 16/20\n",
            "132/132 [==============================] - 1s 5ms/step - loss: 0.4566 - accuracy: 0.8300 - val_loss: 0.4234 - val_accuracy: 0.8500\n",
            "Epoch 17/20\n",
            "132/132 [==============================] - 1s 4ms/step - loss: 0.4558 - accuracy: 0.8300 - val_loss: 0.4227 - val_accuracy: 0.8500\n",
            "Epoch 18/20\n",
            "132/132 [==============================] - 1s 4ms/step - loss: 0.4570 - accuracy: 0.8300 - val_loss: 0.4232 - val_accuracy: 0.8500\n",
            "Epoch 19/20\n",
            "132/132 [==============================] - 1s 4ms/step - loss: 0.4563 - accuracy: 0.8300 - val_loss: 0.4231 - val_accuracy: 0.8500\n",
            "Epoch 20/20\n",
            "132/132 [==============================] - 1s 4ms/step - loss: 0.4567 - accuracy: 0.8300 - val_loss: 0.4238 - val_accuracy: 0.8500\n",
            "Test loss: 0.4237636625766754\n",
            "Test accuracy: 0.8500000238418579\n"
          ]
        },
        {
          "output_type": "display_data",
          "data": {
            "text/plain": [
              "<Figure size 576x576 with 1 Axes>"
            ],
            "image/png": "[encoded data removed]"
          },
          "metadata": {}
        }
      ]
    },
    {
      "cell_type": "markdown",
      "source": [
        "# **Method 3 :**\n",
        "*Hyper Parameter Tunning*:-\n",
        "\n",
        "1. **Dense Layers:-** 3 - \n",
        "\n",
        "    *  **Activation:-** sigmoid , sigmoid , sigmoid\n",
        "\n",
        "2. **Drop layers:-** 2\n",
        "\n",
        "3. **Learning rate:-**=0.0\n",
        "\n",
        "4. **Optimizer:-**  Adadelta\n",
        "\n",
        "5. **epochs:-**10\n",
        "\n",
        "6. **batch_size:-**16"
      ],
      "metadata": {
        "id": "Uru2ZW14A6CA"
      }
    },
    {
      "cell_type": "code",
      "source": [
        "neural_start_time = time.time()\n",
        "model = Sequential()\n",
        "model.add(Dense(units=1000, activation='sigmoid', input_shape=(30,)))\n",
        "model.add(Dropout(0.1))\n",
        "model.add(Dense(units=1000, activation='sigmoid'))\n",
        "model.add(Dropout(0.1))\n",
        "model.add(Dense(1, activation='sigmoid'))\n",
        "model.summary()\n",
        "\n",
        "model.compile(optimizer='Adadelta',loss='binary_crossentropy',metrics=['accuracy'])\n",
        "history = model.fit(X_train, y_train,batch_size=16,epochs=10,verbose=1,validation_data=(X_test, y_test))\n",
        "score = model.evaluate(X_test, y_test, verbose=0)\n",
        "\n",
        "\n",
        "print('Test loss:', score[0])\n",
        "print('Test accuracy:', score[1])\n",
        "\n",
        "\n",
        "acc = history.history['accuracy']\n",
        "val_acc = history.history['val_accuracy']\n",
        "loss = history.history['loss']\n",
        "val_loss = history.history['val_loss']\n",
        "epochs_range = range(10)\n",
        "\n",
        "plt.figure(figsize=(8, 8))\n",
        "plt.plot(epochs_range, acc, label='Training Accuracy')\n",
        "plt.plot(epochs_range, val_acc, label='Validation Accuracy')\n",
        "plt.legend(loc='lower right')\n",
        "plt.title('Training and Validation Accuracy')\n",
        "plt.plot(epochs_range, loss, label='Training Loss')\n",
        "plt.plot(epochs_range, val_loss, label='Validation Loss')\n",
        "plt.legend(loc='upper right')\n",
        "plt.title('Training and Validation Loss')\n",
        "plt.show()"
      ],
      "metadata": {
        "colab": {
          "base_uri": "https://localhost:8080/",
          "height": 1000
        },
        "id": "ZjlUU9wUuDvr",
        "outputId": "a75af2f0-163c-430d-92a4-fd53ab5c6b0b"
      },
      "execution_count": 49,
      "outputs": [
        {
          "output_type": "stream",
          "name": "stdout",
          "text": [
            "Model: \"sequential_35\"\n",
            "_________________________________________________________________\n",
            " Layer (type)                Output Shape              Param #   \n",
            "=================================================================\n",
            " dense_161 (Dense)           (None, 1000)              31000     \n",
            "                                                                 \n",
            " dropout_104 (Dropout)       (None, 1000)              0         \n",
            "                                                                 \n",
            " dense_162 (Dense)           (None, 1000)              1001000   \n",
            "                                                                 \n",
            " dropout_105 (Dropout)       (None, 1000)              0         \n",
            "                                                                 \n",
            " dense_163 (Dense)           (None, 1)                 1001      \n",
            "                                                                 \n",
            "=================================================================\n",
            "Total params: 1,033,001\n",
            "Trainable params: 1,033,001\n",
            "Non-trainable params: 0\n",
            "_________________________________________________________________\n",
            "Epoch 1/10\n",
            "132/132 [==============================] - 5s 30ms/step - loss: 0.4875 - accuracy: 0.8295 - val_loss: 0.4445 - val_accuracy: 0.8500\n",
            "Epoch 2/10\n",
            "132/132 [==============================] - 3s 23ms/step - loss: 0.4656 - accuracy: 0.8300 - val_loss: 0.4304 - val_accuracy: 0.8500\n",
            "Epoch 3/10\n",
            "132/132 [==============================] - 2s 17ms/step - loss: 0.4590 - accuracy: 0.8300 - val_loss: 0.4257 - val_accuracy: 0.8500\n",
            "Epoch 4/10\n",
            "132/132 [==============================] - 2s 17ms/step - loss: 0.4584 - accuracy: 0.8300 - val_loss: 0.4242 - val_accuracy: 0.8500\n",
            "Epoch 5/10\n",
            "132/132 [==============================] - 2s 17ms/step - loss: 0.4578 - accuracy: 0.8300 - val_loss: 0.4237 - val_accuracy: 0.8500\n",
            "Epoch 6/10\n",
            "132/132 [==============================] - 2s 16ms/step - loss: 0.4575 - accuracy: 0.8300 - val_loss: 0.4234 - val_accuracy: 0.8500\n",
            "Epoch 7/10\n",
            "132/132 [==============================] - 2s 17ms/step - loss: 0.4601 - accuracy: 0.8300 - val_loss: 0.4232 - val_accuracy: 0.8500\n",
            "Epoch 8/10\n",
            "132/132 [==============================] - 2s 17ms/step - loss: 0.4608 - accuracy: 0.8300 - val_loss: 0.4231 - val_accuracy: 0.8500\n",
            "Epoch 9/10\n",
            "132/132 [==============================] - 2s 17ms/step - loss: 0.4579 - accuracy: 0.8300 - val_loss: 0.4233 - val_accuracy: 0.8500\n",
            "Epoch 10/10\n",
            "132/132 [==============================] - 2s 18ms/step - loss: 0.4606 - accuracy: 0.8300 - val_loss: 0.4230 - val_accuracy: 0.8500\n",
            "Test loss: 0.4230166971683502\n",
            "Test accuracy: 0.8500000238418579\n"
          ]
        },
        {
          "output_type": "display_data",
          "data": {
            "text/plain": [
              "<Figure size 576x576 with 1 Axes>"
            ],
            "image/png": "[encoded data removed]"
          },
          "metadata": {}
        }
      ]
    },
    {
      "cell_type": "markdown",
      "source": [
        "# **Method 4 :**\n",
        "*Hyper Parameter Tunning*:-\n",
        "\n",
        "1. **Dense Layers:-** 5 - \n",
        "\n",
        "    *  **Activation:-** sigmoid , relu , relu,relu,sigmoid\n",
        "\n",
        "2. **Drop layers:-** 4\n",
        "\n",
        "3. **Learning rate:-**=0.09\n",
        "\n",
        "4. **Optimizer:-**  Adadelta\n",
        "\n",
        "5. **epochs:-**25\n",
        "\n",
        "6. **batch_size:-**17"
      ],
      "metadata": {
        "id": "j50zhMjxBSR1"
      }
    },
    {
      "cell_type": "code",
      "source": [
        "neural_start_time = time.time()\n",
        "nn_model = Sequential()\n",
        "nn_model.add(Dense(units=1000, activation='sigmoid', input_shape=(30,)))\n",
        "nn_model.add(Dropout(0.1))\n",
        "nn_model.add(Dense(units=100, activation='relu'))\n",
        "nn_model.add(Dropout(0.1))\n",
        "nn_model.add(Dense(units=100, activation='relu'))\n",
        "nn_model.add(Dropout(0.1))\n",
        "nn_model.add(Dense(units=100, activation='relu'))\n",
        "nn_model.add(Dropout(0.1))\n",
        "nn_model.add(Dense(1, activation='sigmoid'))\n",
        "nn_model.summary()\n",
        "\n",
        "#FIT MODEL\n",
        "learning_rate=0.09\n",
        "nn_model.compile(optimizer='adadelta',loss='binary_crossentropy',metrics=['accuracy'])\n",
        "history = nn_model.fit(X_train, y_train,batch_size=17,epochs=25,verbose=1,validation_data=(X_test, y_test))\n",
        "\n",
        "#EVALUATE MODEL\n",
        "score = nn_model.evaluate(X_test, y_test, verbose=0)\n",
        "print('Test loss:', score[0])\n",
        "print('Test accuracy:', score[1])\n",
        "\n",
        "#PLOT THE RESULT\n",
        "acc = history.history['accuracy']\n",
        "val_acc = history.history['val_accuracy']\n",
        "loss = history.history['loss']\n",
        "val_loss = history.history['val_loss']\n",
        "epochs_range = range(25)\n",
        "\n",
        "plt.figure(figsize=(8, 8))\n",
        "plt.plot(epochs_range, acc, label='Training Accuracy')\n",
        "plt.plot(epochs_range, val_acc, label='Validation Accuracy')\n",
        "plt.legend(loc='lower right')\n",
        "plt.title('Training and Validation Accuracy')\n",
        "plt.plot(epochs_range, loss, label='Training Loss')\n",
        "plt.plot(epochs_range, val_loss, label='Validation Loss')\n",
        "plt.legend(loc='upper right')\n",
        "plt.title('Training and Validation Loss')\n",
        "plt.show()"
      ],
      "metadata": {
        "colab": {
          "base_uri": "https://localhost:8080/",
          "height": 1000
        },
        "id": "067bgf0Ov9JQ",
        "outputId": "3a04c02c-8711-4df1-e143-0e1c57b20bba"
      },
      "execution_count": 110,
      "outputs": [
        {
          "output_type": "stream",
          "name": "stdout",
          "text": [
            "Model: \"sequential_96\"\n",
            "_________________________________________________________________\n",
            " Layer (type)                Output Shape              Param #   \n",
            "=================================================================\n",
            " dense_471 (Dense)           (None, 1000)              31000     \n",
            "                                                                 \n",
            " dropout_327 (Dropout)       (None, 1000)              0         \n",
            "                                                                 \n",
            " dense_472 (Dense)           (None, 100)               100100    \n",
            "                                                                 \n",
            " dropout_328 (Dropout)       (None, 100)               0         \n",
            "                                                                 \n",
            " dense_473 (Dense)           (None, 100)               10100     \n",
            "                                                                 \n",
            " dropout_329 (Dropout)       (None, 100)               0         \n",
            "                                                                 \n",
            " dense_474 (Dense)           (None, 100)               10100     \n",
            "                                                                 \n",
            " dropout_330 (Dropout)       (None, 100)               0         \n",
            "                                                                 \n",
            " dense_475 (Dense)           (None, 1)                 101       \n",
            "                                                                 \n",
            "=================================================================\n",
            "Total params: 151,401\n",
            "Trainable params: 151,401\n",
            "Non-trainable params: 0\n",
            "_________________________________________________________________\n",
            "Epoch 1/25\n",
            "124/124 [==============================] - 2s 8ms/step - loss: 0.7381 - accuracy: 0.4167 - val_loss: 0.6800 - val_accuracy: 0.8456\n",
            "Epoch 2/25\n",
            "124/124 [==============================] - 1s 7ms/step - loss: 0.6779 - accuracy: 0.5748 - val_loss: 0.6188 - val_accuracy: 0.8500\n",
            "Epoch 3/25\n",
            "124/124 [==============================] - 1s 7ms/step - loss: 0.6332 - accuracy: 0.7048 - val_loss: 0.5698 - val_accuracy: 0.8500\n",
            "Epoch 4/25\n",
            "124/124 [==============================] - 1s 6ms/step - loss: 0.5902 - accuracy: 0.7657 - val_loss: 0.5305 - val_accuracy: 0.8500\n",
            "Epoch 5/25\n",
            "124/124 [==============================] - 1s 7ms/step - loss: 0.5616 - accuracy: 0.8048 - val_loss: 0.4964 - val_accuracy: 0.8500\n",
            "Epoch 6/25\n",
            "124/124 [==============================] - 1s 6ms/step - loss: 0.5371 - accuracy: 0.8157 - val_loss: 0.4734 - val_accuracy: 0.8500\n",
            "Epoch 7/25\n",
            "124/124 [==============================] - 1s 6ms/step - loss: 0.5109 - accuracy: 0.8238 - val_loss: 0.4580 - val_accuracy: 0.8500\n",
            "Epoch 8/25\n",
            "124/124 [==============================] - 1s 6ms/step - loss: 0.5002 - accuracy: 0.8238 - val_loss: 0.4465 - val_accuracy: 0.8500\n",
            "Epoch 9/25\n",
            "124/124 [==============================] - 1s 6ms/step - loss: 0.4894 - accuracy: 0.8295 - val_loss: 0.4379 - val_accuracy: 0.8500\n",
            "Epoch 10/25\n",
            "124/124 [==============================] - 1s 6ms/step - loss: 0.4804 - accuracy: 0.8286 - val_loss: 0.4302 - val_accuracy: 0.8500\n",
            "Epoch 11/25\n",
            "124/124 [==============================] - 1s 6ms/step - loss: 0.4759 - accuracy: 0.8290 - val_loss: 0.4264 - val_accuracy: 0.8500\n",
            "Epoch 12/25\n",
            "124/124 [==============================] - 1s 6ms/step - loss: 0.4749 - accuracy: 0.8300 - val_loss: 0.4239 - val_accuracy: 0.8500\n",
            "Epoch 13/25\n",
            "124/124 [==============================] - 1s 6ms/step - loss: 0.4735 - accuracy: 0.8300 - val_loss: 0.4224 - val_accuracy: 0.8500\n",
            "Epoch 14/25\n",
            "124/124 [==============================] - 1s 6ms/step - loss: 0.4701 - accuracy: 0.8295 - val_loss: 0.4214 - val_accuracy: 0.8500\n",
            "Epoch 15/25\n",
            "124/124 [==============================] - 1s 6ms/step - loss: 0.4696 - accuracy: 0.8295 - val_loss: 0.4208 - val_accuracy: 0.8500\n",
            "Epoch 16/25\n",
            "124/124 [==============================] - 1s 7ms/step - loss: 0.4634 - accuracy: 0.8300 - val_loss: 0.4204 - val_accuracy: 0.8500\n",
            "Epoch 17/25\n",
            "124/124 [==============================] - 1s 6ms/step - loss: 0.4695 - accuracy: 0.8300 - val_loss: 0.4201 - val_accuracy: 0.8500\n",
            "Epoch 18/25\n",
            "124/124 [==============================] - 1s 6ms/step - loss: 0.4718 - accuracy: 0.8300 - val_loss: 0.4201 - val_accuracy: 0.8500\n",
            "Epoch 19/25\n",
            "124/124 [==============================] - 1s 6ms/step - loss: 0.4711 - accuracy: 0.8300 - val_loss: 0.4201 - val_accuracy: 0.8500\n",
            "Epoch 20/25\n",
            "124/124 [==============================] - 1s 6ms/step - loss: 0.4667 - accuracy: 0.8300 - val_loss: 0.4200 - val_accuracy: 0.8500\n",
            "Epoch 21/25\n",
            "124/124 [==============================] - 1s 6ms/step - loss: 0.4679 - accuracy: 0.8300 - val_loss: 0.4199 - val_accuracy: 0.8500\n",
            "Epoch 22/25\n",
            "124/124 [==============================] - 1s 6ms/step - loss: 0.4634 - accuracy: 0.8300 - val_loss: 0.4197 - val_accuracy: 0.8500\n",
            "Epoch 23/25\n",
            "124/124 [==============================] - 1s 6ms/step - loss: 0.4615 - accuracy: 0.8300 - val_loss: 0.4195 - val_accuracy: 0.8500\n",
            "Epoch 24/25\n",
            "124/124 [==============================] - 1s 6ms/step - loss: 0.4622 - accuracy: 0.8300 - val_loss: 0.4191 - val_accuracy: 0.8500\n",
            "Epoch 25/25\n",
            "124/124 [==============================] - 1s 7ms/step - loss: 0.4656 - accuracy: 0.8300 - val_loss: 0.4190 - val_accuracy: 0.8500\n",
            "Test loss: 0.4190048575401306\n",
            "Test accuracy: 0.8500000238418579\n"
          ]
        },
        {
          "output_type": "display_data",
          "data": {
            "text/plain": [
              "<Figure size 576x576 with 1 Axes>"
            ],
            "image/png": "[encoded data removed]"
          },
          "metadata": {}
        }
      ]
    },
    {
      "cell_type": "markdown",
      "source": [
        "# **DECISION TREE CLASSIFIER**"
      ],
      "metadata": {
        "id": "kRFcVU9SCX0C"
      }
    },
    {
      "cell_type": "markdown",
      "source": [
        "**BUILDING THE DECISION TREE MODEL**"
      ],
      "metadata": {
        "id": "ejBjBCfpC7mE"
      }
    },
    {
      "cell_type": "code",
      "source": [
        "# Create Decision Tree classifer object\n",
        "decision1_model = tree.DecisionTreeClassifier()\n",
        "\n",
        "# Train Decision Tree Classifer\n",
        "decision1_model = decision1_model.fit(X_train,y_train)\n",
        "\n",
        "#Predict the response for test dataset\n",
        "y_test_pred = decision1_model.predict(X_test)\n",
        "\n",
        "# Create Decision Tree classifer object\n",
        "decision1_model = tree.DecisionTreeClassifier()\n",
        "\n",
        "# Train Decision Tree Classifer\n",
        "decision1_model = decision1_model.fit(X_test,y_test)\n",
        "\n",
        "#Predict the response for train dataset\n",
        "y_train_pred = decision1_model.predict(X_train)"
      ],
      "metadata": {
        "id": "UaeNNcDpCSlZ"
      },
      "execution_count": 157,
      "outputs": []
    },
    {
      "cell_type": "markdown",
      "source": [
        "**EVALUATE THE MODEL**"
      ],
      "metadata": {
        "id": "FFie6Tb0DXpA"
      }
    },
    {
      "cell_type": "code",
      "source": [
        "#Comparing actual test set values and predicted values\n",
        "\n",
        "# Model Accuracy\n",
        "decision1_train_Accuracy=metrics.accuracy_score(y_train, y_train_pred)\n",
        "decision1_test_Accuracy=metrics.accuracy_score(y_test, y_test_pred)\n",
        "\n",
        "print(\"Decision Train Accuracy:\",decision1_train_Accuracy)\n",
        "print(\"Decision Test Accuracy:\",decision1_test_Accuracy)\n"
      ],
      "metadata": {
        "colab": {
          "base_uri": "https://localhost:8080/"
        },
        "id": "NbH5lOPhDWl_",
        "outputId": "19fd387f-00bf-4f62-cc06-f072c4f18780"
      },
      "execution_count": 158,
      "outputs": [
        {
          "output_type": "stream",
          "name": "stdout",
          "text": [
            "Decision Train Accuracy: 0.9428571428571428\n",
            "Decision Test Accuracy: 0.9522222222222222\n"
          ]
        }
      ]
    },
    {
      "cell_type": "markdown",
      "source": [
        "**PLOT THE RESULT**"
      ],
      "metadata": {
        "id": "2oWWxZ8_D1EN"
      }
    },
    {
      "cell_type": "code",
      "source": [
        "acc = history.history['accuracy']\n",
        "val_acc = history.history['val_accuracy']\n",
        "loss = history.history['loss']\n",
        "val_loss = history.history['val_loss']\n",
        "\n",
        "plt.plot(history.history['loss'], label='train')\n",
        "\n",
        "plt.plot(history.history['val_loss'], label='test')\n",
        "\n",
        "plt.legend()\n",
        "\n",
        "plt.show()"
      ],
      "metadata": {
        "colab": {
          "base_uri": "https://localhost:8080/",
          "height": 268
        },
        "id": "U14Jn_9SD0Q2",
        "outputId": "80796d99-2861-4e56-93c5-d1f3d0f3f14b"
      },
      "execution_count": 159,
      "outputs": [
        {
          "output_type": "display_data",
          "data": {
            "text/plain": [
              "<Figure size 432x288 with 1 Axes>"
            ],
            "image/png": "[encoded data removed]"
          },
          "metadata": {}
        }
      ]
    },
    {
      "cell_type": "code",
      "source": [
        "dot_data = tree.export_graphviz(decision1_model, out_file=None,\n",
        "feature_names=['Time','v1','v2','v3','v4','v5','v6','v7','v7','v9','v10','v11','v12','v13','v14','v15','v16','v17','v18','v19','v20','v21','v22','v23','v24','v25','v26','v27','v29','Amount',],\n",
        "class_names=list(['Time','v1','v2','v3','v4','v5','v6','v7','v7','v9','v10','v11','v12','v13','v14','v15','v16','v17','v18','v19','v20','v21','v22','v23','v24','v25','v26','v27','v29','Amount',]),\n",
        "filled=True)\n",
        "\n",
        "# Draw graph\n",
        "graph1 = graphviz.Source(dot_data, format=\"png\")\n",
        "graph1\n",
        "\n",
        "#download image\n",
        "graph.render(\"decision_tree1_graphivz\")\n",
        "files.download(\"decision_tree1_graphivz.png\")"
      ],
      "metadata": {
        "colab": {
          "base_uri": "https://localhost:8080/",
          "height": 17
        },
        "id": "zr9yQI6KK8se",
        "outputId": "786836f1-d0cd-4b5e-d3f3-8cfa33511c08"
      },
      "execution_count": 160,
      "outputs": [
        {
          "output_type": "display_data",
          "data": {
            "text/plain": [
              "<IPython.core.display.Javascript object>"
            ],
            "application/javascript": [
              "\n",
              "    async function download(id, filename, size) {\n",
              "      if (!google.colab.kernel.accessAllowed) {\n",
              "        return;\n",
              "      }\n",
              "      const div = document.createElement('div');\n",
              "      const label = document.createElement('label');\n",
              "      label.textContent = `Downloading \"${filename}\": `;\n",
              "      div.appendChild(label);\n",
              "      const progress = document.createElement('progress');\n",
              "      progress.max = size;\n",
              "      div.appendChild(progress);\n",
              "      document.body.appendChild(div);\n",
              "\n",
              "      const buffers = [];\n",
              "      let downloaded = 0;\n",
              "\n",
              "      const channel = await google.colab.kernel.comms.open(id);\n",
              "      // Send a message to notify the kernel that we're ready.\n",
              "      channel.send({})\n",
              "\n",
              "      for await (const message of channel.messages) {\n",
              "        // Send a message to notify the kernel that we're ready.\n",
              "        channel.send({})\n",
              "        if (message.buffers) {\n",
              "          for (const buffer of message.buffers) {\n",
              "            buffers.push(buffer);\n",
              "            downloaded += buffer.byteLength;\n",
              "            progress.value = downloaded;\n",
              "          }\n",
              "        }\n",
              "      }\n",
              "      const blob = new Blob(buffers, {type: 'application/binary'});\n",
              "      const a = document.createElement('a');\n",
              "      a.href = window.URL.createObjectURL(blob);\n",
              "      a.download = filename;\n",
              "      div.appendChild(a);\n",
              "      a.click();\n",
              "      div.remove();\n",
              "    }\n",
              "  "
            ]
          },
          "metadata": {}
        },
        {
          "output_type": "display_data",
          "data": {
            "text/plain": [
              "<IPython.core.display.Javascript object>"
            ],
            "application/javascript": [
              "download(\"download_d2849df2-d579-49cf-99ce-f50b2fb5fa6d\", \"decision_tree1_graphivz.png\", 957562)"
            ]
          },
          "metadata": {}
        }
      ]
    },
    {
      "cell_type": "markdown",
      "source": [
        "# **NAIVE BAYES CLASSIFIER**"
      ],
      "metadata": {
        "id": "JYjVRKsMEAd2"
      }
    },
    {
      "cell_type": "markdown",
      "source": [
        "**BUILD THE NAIVE BAYES MODEL**"
      ],
      "metadata": {
        "id": "LvAMH2osEGmy"
      }
    },
    {
      "cell_type": "code",
      "source": [
        "# Init the Gaussian Classifier\n",
        "nb1_model = GaussianNB()\n",
        "\n",
        "# Train the model \n",
        "nb1_model.fit(X_train, y_train)\n",
        "\n",
        "# Predict Output \n",
        "y_naive1_pred_test = nb1_model.predict(X_test)\n",
        "\n",
        "# Init the Gaussian Classifier\n",
        "train1_model = GaussianNB()\n",
        "\n",
        "# Train the model \n",
        "train1_model.fit(X_test, y_test)\n",
        "\n",
        "# Predict Output \n",
        "y_naive1_pred_train = train1_model.predict(X_train)"
      ],
      "metadata": {
        "id": "jj7hLJ0NEZLr"
      },
      "execution_count": 165,
      "outputs": []
    },
    {
      "cell_type": "markdown",
      "source": [
        "**EVALUATE THE MODEL**"
      ],
      "metadata": {
        "id": "bgh6qPnTEj7a"
      }
    },
    {
      "cell_type": "code",
      "source": [
        "# Model Accuracy\n",
        "naive1_train_Accuracy=metrics.accuracy_score(y_train, y_naive1_pred_train)\n",
        "naive1_test_Accuracy=metrics.accuracy_score(y_test, y_naive1_pred_test)\n",
        "\n",
        "print(\"Naive Test Accuracy:\",naive1_train_Accuracy)\n",
        "print(\"Naive Train Accuracy:\",naive1_test_Accuracy)"
      ],
      "metadata": {
        "colab": {
          "base_uri": "https://localhost:8080/"
        },
        "id": "Tyx-4azcEo7c",
        "outputId": "de65da5c-a957-493e-ce0d-f3814fa7c8e2"
      },
      "execution_count": 166,
      "outputs": [
        {
          "output_type": "stream",
          "name": "stdout",
          "text": [
            "Naive Test Accuracy: 0.94\n",
            "Naive Train Accuracy: 0.9477777777777778\n"
          ]
        }
      ]
    },
    {
      "cell_type": "markdown",
      "source": [
        "**PLOT THE RESULT**"
      ],
      "metadata": {
        "id": "w7rGSMc6E7tL"
      }
    },
    {
      "cell_type": "code",
      "source": [
        "print(metrics.classification_report(y_test, y_naive1_pred_test))\n",
        "plt.plot(y_test, y_naive1_pred_test)\n",
        "\n",
        "plt.show()"
      ],
      "metadata": {
        "colab": {
          "base_uri": "https://localhost:8080/",
          "height": 424
        },
        "id": "tFjgC3bPFG7E",
        "outputId": "066133f5-bbac-4961-8810-dadbceb5baa9"
      },
      "execution_count": 169,
      "outputs": [
        {
          "output_type": "stream",
          "name": "stdout",
          "text": [
            "              precision    recall  f1-score   support\n",
            "\n",
            "           0       0.95      0.99      0.97       765\n",
            "           1       0.93      0.70      0.80       135\n",
            "\n",
            "    accuracy                           0.95       900\n",
            "   macro avg       0.94      0.85      0.89       900\n",
            "weighted avg       0.95      0.95      0.94       900\n",
            "\n"
          ]
        },
        {
          "output_type": "display_data",
          "data": {
            "text/plain": [
              "<Figure size 432x288 with 1 Axes>"
            ],
            "image/png": "[encoded data removed]"
          },
          "metadata": {}
        }
      ]
    },
    {
      "cell_type": "markdown",
      "source": [
        "# **RANDOM FOREST CLASSIFIER**"
      ],
      "metadata": {
        "id": "eMkm8-lVFPjx"
      }
    },
    {
      "cell_type": "markdown",
      "source": [
        "**BUILD THE MODEL**"
      ],
      "metadata": {
        "id": "HNx1TFdvFWrU"
      }
    },
    {
      "cell_type": "code",
      "source": [
        "#Create a Random Forest Classifier\n",
        "\n",
        "clf1=RandomForestClassifier(n_estimators=100)\n",
        "\n",
        "#Train the model using the training sets y_pred=clf.predict(X_test)\n",
        "\n",
        "clf1.fit(X_train,y_train)\n",
        "\n",
        "y_pred1=clf1.predict(X_test)\n",
        "\n",
        "# Model Accuracy, how often is the classifier correct?\n",
        "\n",
        "print(\"Accuracy:\",metrics.accuracy_score(y_test, y_pred1))\n"
      ],
      "metadata": {
        "colab": {
          "base_uri": "https://localhost:8080/"
        },
        "id": "NZ0HnbJgFifQ",
        "outputId": "6caf2362-867b-4e88-db13-f0f51e54eaff"
      },
      "execution_count": 170,
      "outputs": [
        {
          "output_type": "stream",
          "name": "stdout",
          "text": [
            "Accuracy: 0.9744444444444444\n"
          ]
        }
      ]
    },
    {
      "cell_type": "markdown",
      "source": [
        "**PLOT THE RESULT**"
      ],
      "metadata": {
        "id": "aGt5-w3nFzuK"
      }
    },
    {
      "cell_type": "code",
      "source": [
        "# plot training history\n",
        "\n",
        "from sklearn import metrics\n",
        "\n",
        "print(\"Accuracy:\",metrics.accuracy_score(y_test, y_pred1))\n",
        "plot_randomforest=plt.figure(figsize=(12,12))\n",
        "plot_randomforest=plt.title('Feature Importances')\n",
        "\n",
        "plot_randomforest=plt.barh(range(len(['Time','v1','v2','v3','v4','v5','v6','v7','v7','v9','v10','v11','v12','v13','v14','v15','v16','v17','v18','v19','v20','v21','v22','v23','v24','v25','v26','v27','v29','Amount',])), ['Time','v1','v2','v3','v4','v5','v6','v7','v7','v9','v10','v11','v12','v13','v14','v15','v16','v17','v18','v19','v20','v21','v22','v23','v24','v25','v26','v27','v29','Amount'], color='b', align='center')\n",
        "plot_randomforest=plt.yticks(range(len(['Time','v1','v2','v3','v4','v5','v6','v7','v7','v9','v10','v11','v12','v13','v14','v15','v16','v17','v18','v19','v20','v21','v22','v23','v24','v25','v26','v27','v29','Amount',])), ['Time','v1','v2','v3','v4','v5','v6','v7','v7','v9','v10','v11','v12','v13','v14','v15','v16','v17','v18','v19','v20','v21','v22','v23','v24','v25','v26','v27','v29','Amount',])\n",
        "plot_randomforest=plt.xlabel('Relative Importance')\n",
        "plot_randomforest.get_figure().autofmt_xdate()"
      ],
      "metadata": {
        "colab": {
          "base_uri": "https://localhost:8080/",
          "height": 708
        },
        "id": "LvSz7Qa4F4Ra",
        "outputId": "086fc48d-683b-4e85-9316-8eff1df40590"
      },
      "execution_count": 171,
      "outputs": [
        {
          "output_type": "stream",
          "name": "stdout",
          "text": [
            "Accuracy: 0.9744444444444444\n"
          ]
        },
        {
          "output_type": "display_data",
          "data": {
            "text/plain": [
              "<Figure size 864x864 with 1 Axes>"
            ],
            "image/png": "[encoded data removed]"
          },
          "metadata": {}
        }
      ]
    },
    {
      "cell_type": "code",
      "source": [
        "table=[['CLASSIFIERS','ACCURACY WITHOUT SAMPLING ','ACCURACY WITH SAMPLING'],\n",
        "       ['NEURAL NETWORK','99.82','85.00'],\n",
        "       ['DECISION TREE','99.93','95.22'],\n",
        "       ['NAIVE BAYES','99.30','94.00'],\n",
        "       ['RANDOM FOREST','99.95','97.44']]\n",
        "\n",
        "print(tabulate(table,headers='firstrow',tablefmt='fancy_grid',disable_numparse=True,numalign=\"right\"))"
      ],
      "metadata": {
        "colab": {
          "base_uri": "https://localhost:8080/"
        },
        "id": "aHqqb2_xL_RV",
        "outputId": "93116e17-0c56-4695-a706-35a4837478ed"
      },
      "execution_count": 14,
      "outputs": [
        {
          "output_type": "stream",
          "name": "stdout",
          "text": [
            "╒════════════════╤══════════════════════════════╤══════════════════════════╕\n",
            "│ CLASSIFIERS    │ ACCURACY WITHOUT SAMPLING    │ ACCURACY WITH SAMPLING   │\n",
            "╞════════════════╪══════════════════════════════╪══════════════════════════╡\n",
            "│ NEURAL NETWORK │ 99.82                        │ 85.00                    │\n",
            "├────────────────┼──────────────────────────────┼──────────────────────────┤\n",
            "│ DECISION TREE  │ 99.93                        │ 95.22                    │\n",
            "├────────────────┼──────────────────────────────┼──────────────────────────┤\n",
            "│ NAIVE BAYES    │ 99.30                        │ 94.00                    │\n",
            "├────────────────┼──────────────────────────────┼──────────────────────────┤\n",
            "│ RANDOM FOREST  │ 99.95                        │ 97.44                    │\n",
            "╘════════════════╧══════════════════════════════╧══════════════════════════╛\n"
          ]
        }
      ]
    },
    {
      "cell_type": "markdown",
      "source": [
        "# **CLASSIFIERS OUTCOME SUMMARY**"
      ],
      "metadata": {
        "id": "46C-RI7SVqK5"
      }
    },
    {
      "cell_type": "markdown",
      "source": [
        "# **HYPER PARAMETER TUNNING SUMMARY**"
      ],
      "metadata": {
        "id": "Sy4zcFfRVCDm"
      }
    },
    {
      "cell_type": "code",
      "source": [
        "table=[['METHODS','LAYERS','ACTIVATION','LEARNING RATE','OPTIMIZER','EPOCHS','BATCH SIZE','ACCURACY','LOSS'],\n",
        "       ['1','3','relu,relu,sigmoid','0.01','adam','5','16','83.99','52.86'],\n",
        "       ['2','5','sigmoid,sigmoid,sigmoid,sigmoid,sigmoid','0.3','adadelta','20','16',\"85.00\",'47.24'],\n",
        "       ['3','5','relu,sigmoid,sigmoid,sigmoid,sigmoid','n/a','adam','20','16','85.00','42.37'],\n",
        "       ['4','3','sigmoid,sigmoid,sigmoid','n/a','adadelta','10','16','85.00','42.30'],\n",
        "       ['5','5','sigmoid,relu,relu,relu,sigmoid','0.09','adadelta','25','17','85.00','41.90']]\n",
        "\n",
        "print(tabulate(table,headers='firstrow',tablefmt='fancy_grid',disable_numparse=True,numalign=\"right\"))"
      ],
      "metadata": {
        "colab": {
          "base_uri": "https://localhost:8080/"
        },
        "id": "ScPPRwhORLF9",
        "outputId": "da706705-ec4c-4006-ca6b-cc9e51453999"
      },
      "execution_count": 9,
      "outputs": [
        {
          "output_type": "stream",
          "name": "stdout",
          "text": [
            "╒═══════════╤══════════╤═════════════════════════════════════════╤═════════════════╤═════════════╤══════════╤══════════════╤════════════╤════════╕\n",
            "│ METHODS   │ LAYERS   │ ACTIVATION                              │ LEARNING RATE   │ OPTIMIZER   │ EPOCHS   │ BATCH SIZE   │ ACCURACY   │ LOSS   │\n",
            "╞═══════════╪══════════╪═════════════════════════════════════════╪═════════════════╪═════════════╪══════════╪══════════════╪════════════╪════════╡\n",
            "│ 1         │ 3        │ relu,relu,sigmoid                       │ 0.01            │ adam        │ 5        │ 16           │ 83.99      │ 52.86  │\n",
            "├───────────┼──────────┼─────────────────────────────────────────┼─────────────────┼─────────────┼──────────┼──────────────┼────────────┼────────┤\n",
            "│ 2         │ 5        │ sigmoid,sigmoid,sigmoid,sigmoid,sigmoid │ 0.3             │ adadelta    │ 20       │ 16           │ 85.00      │ 47.24  │\n",
            "├───────────┼──────────┼─────────────────────────────────────────┼─────────────────┼─────────────┼──────────┼──────────────┼────────────┼────────┤\n",
            "│ 3         │ 5        │ relu,sigmoid,sigmoid,sigmoid,sigmoid    │ n/a             │ adam        │ 20       │ 16           │ 85.00      │ 42.37  │\n",
            "├───────────┼──────────┼─────────────────────────────────────────┼─────────────────┼─────────────┼──────────┼──────────────┼────────────┼────────┤\n",
            "│ 4         │ 3        │ sigmoid,sigmoid,sigmoid                 │ n/a             │ adadelta    │ 10       │ 16           │ 85.00      │ 42.30  │\n",
            "├───────────┼──────────┼─────────────────────────────────────────┼─────────────────┼─────────────┼──────────┼──────────────┼────────────┼────────┤\n",
            "│ 5         │ 5        │ sigmoid,relu,relu,relu,sigmoid          │ 0.09            │ adadelta    │ 25       │ 17           │ 85.00      │ 41.90  │\n",
            "╘═══════════╧══════════╧═════════════════════════════════════════╧═════════════════╧═════════════╧══════════╧══════════════╧════════════╧════════╛\n"
          ]
        }
      ]
    },
    {
      "cell_type": "code",
      "source": [
        "tableDf=pd.DataFrame({'CLASSIFIERS' : ['NEURAL NETWORK', 'DECISION TREE' , 'NAIVE BAYES', 'RANDOM FOREST'],\n",
        "'ACCURACY WITHOUT SAMPLING' : [99.82,99.93, 99.30, 99.95],\n",
        "'ACCURACY WITH SAMPLING' : [85.00, 95.22,94.00, 97.44]})\n",
        "tableDf"
      ],
      "metadata": {
        "colab": {
          "base_uri": "https://localhost:8080/",
          "height": 175
        },
        "id": "wVfHarCyCZK-",
        "outputId": "d855a2a6-ce6e-439c-e3c4-fa8f54adbf1c"
      },
      "execution_count": 7,
      "outputs": [
        {
          "output_type": "execute_result",
          "data": {
            "text/plain": [
              "      CLASSIFIERS  ACCURACY WITHOUT SAMPLING  ACCURACY WITH SAMPLING\n",
              "0  NEURAL NETWORK                      99.82                   85.00\n",
              "1   DECISION TREE                      99.93                   95.22\n",
              "2     NAIVE BAYES                      99.30                   94.00\n",
              "3   RANDOM FOREST                      99.95                   97.44"
            ],
            "text/html": [
              "\n",
              "  <div id=\"df-6c309963-8081-4fa6-987e-3f7574296e95\">\n",
              "    <div class=\"colab-df-container\">\n",
              "      <div>\n",
              "<style scoped>\n",
              "    .dataframe tbody tr th:only-of-type {\n",
              "        vertical-align: middle;\n",
              "    }\n",
              "\n",
              "    .dataframe tbody tr th {\n",
              "        vertical-align: top;\n",
              "    }\n",
              "\n",
              "    .dataframe thead th {\n",
              "        text-align: right;\n",
              "    }\n",
              "</style>\n",
              "<table border=\"1\" class=\"dataframe\">\n",
              "  <thead>\n",
              "    <tr style=\"text-align: right;\">\n",
              "      <th></th>\n",
              "      <th>CLASSIFIERS</th>\n",
              "      <th>ACCURACY WITHOUT SAMPLING</th>\n",
              "      <th>ACCURACY WITH SAMPLING</th>\n",
              "    </tr>\n",
              "  </thead>\n",
              "  <tbody>\n",
              "    <tr>\n",
              "      <th>0</th>\n",
              "      <td>NEURAL NETWORK</td>\n",
              "      <td>99.82</td>\n",
              "      <td>85.00</td>\n",
              "    </tr>\n",
              "    <tr>\n",
              "      <th>1</th>\n",
              "      <td>DECISION TREE</td>\n",
              "      <td>99.93</td>\n",
              "      <td>95.22</td>\n",
              "    </tr>\n",
              "    <tr>\n",
              "      <th>2</th>\n",
              "      <td>NAIVE BAYES</td>\n",
              "      <td>99.30</td>\n",
              "      <td>94.00</td>\n",
              "    </tr>\n",
              "    <tr>\n",
              "      <th>3</th>\n",
              "      <td>RANDOM FOREST</td>\n",
              "      <td>99.95</td>\n",
              "      <td>97.44</td>\n",
              "    </tr>\n",
              "  </tbody>\n",
              "</table>\n",
              "</div>\n",
              "      <button class=\"colab-df-convert\" onclick=\"convertToInteractive('df-6c309963-8081-4fa6-987e-3f7574296e95')\"\n",
              "              title=\"Convert this dataframe to an interactive table.\"\n",
              "              style=\"display:none;\">\n",
              "        \n",
              "  <svg xmlns=\"http://www.w3.org/2000/svg\" height=\"24px\"viewBox=\"0 0 24 24\"\n",
              "       width=\"24px\">\n",
              "    <path d=\"M0 0h24v24H0V0z\" fill=\"none\"/>\n",
              "    <path d=\"M18.56 5.44l.94 2.06.94-2.06 2.06-.94-2.06-.94-.94-2.06-.94 2.06-2.06.94zm-11 1L8.5 8.5l.94-2.06 2.06-.94-2.06-.94L8.5 2.5l-.94 2.06-2.06.94zm10 10l.94 2.06.94-2.06 2.06-.94-2.06-.94-.94-2.06-.94 2.06-2.06.94z\"/><path d=\"M17.41 7.96l-1.37-1.37c-.4-.4-.92-.59-1.43-.59-.52 0-1.04.2-1.43.59L10.3 9.45l-7.72 7.72c-.78.78-.78 2.05 0 2.83L4 21.41c.39.39.9.59 1.41.59.51 0 1.02-.2 1.41-.59l7.78-7.78 2.81-2.81c.8-.78.8-2.07 0-2.86zM5.41 20L4 18.59l7.72-7.72 1.47 1.35L5.41 20z\"/>\n",
              "  </svg>\n",
              "      </button>\n",
              "      \n",
              "  <style>\n",
              "    .colab-df-container {\n",
              "      display:flex;\n",
              "      flex-wrap:wrap;\n",
              "      gap: 12px;\n",
              "    }\n",
              "\n",
              "    .colab-df-convert {\n",
              "      background-color: #E8F0FE;\n",
              "      border: none;\n",
              "      border-radius: 50%;\n",
              "      cursor: pointer;\n",
              "      display: none;\n",
              "      fill: #1967D2;\n",
              "      height: 32px;\n",
              "      padding: 0 0 0 0;\n",
              "      width: 32px;\n",
              "    }\n",
              "\n",
              "    .colab-df-convert:hover {\n",
              "      background-color: #E2EBFA;\n",
              "      box-shadow: 0px 1px 2px rgba(60, 64, 67, 0.3), 0px 1px 3px 1px rgba(60, 64, 67, 0.15);\n",
              "      fill: #174EA6;\n",
              "    }\n",
              "\n",
              "    [theme=dark] .colab-df-convert {\n",
              "      background-color: #3B4455;\n",
              "      fill: #D2E3FC;\n",
              "    }\n",
              "\n",
              "    [theme=dark] .colab-df-convert:hover {\n",
              "      background-color: #434B5C;\n",
              "      box-shadow: 0px 1px 3px 1px rgba(0, 0, 0, 0.15);\n",
              "      filter: drop-shadow(0px 1px 2px rgba(0, 0, 0, 0.3));\n",
              "      fill: #FFFFFF;\n",
              "    }\n",
              "  </style>\n",
              "\n",
              "      <script>\n",
              "        const buttonEl =\n",
              "          document.querySelector('#df-6c309963-8081-4fa6-987e-3f7574296e95 button.colab-df-convert');\n",
              "        buttonEl.style.display =\n",
              "          google.colab.kernel.accessAllowed ? 'block' : 'none';\n",
              "\n",
              "        async function convertToInteractive(key) {\n",
              "          const element = document.querySelector('#df-6c309963-8081-4fa6-987e-3f7574296e95');\n",
              "          const dataTable =\n",
              "            await google.colab.kernel.invokeFunction('convertToInteractive',\n",
              "                                                     [key], {});\n",
              "          if (!dataTable) return;\n",
              "\n",
              "          const docLinkHtml = 'Like what you see? Visit the ' +\n",
              "            '<a target=\"_blank\" href=https://colab.research.google.com/notebooks/data_table.ipynb>data table notebook</a>'\n",
              "            + ' to learn more about interactive tables.';\n",
              "          element.innerHTML = '';\n",
              "          dataTable['output_type'] = 'display_data';\n",
              "          await google.colab.output.renderOutput(dataTable, element);\n",
              "          const docLink = document.createElement('div');\n",
              "          docLink.innerHTML = docLinkHtml;\n",
              "          element.appendChild(docLink);\n",
              "        }\n",
              "      </script>\n",
              "    </div>\n",
              "  </div>\n",
              "  "
            ]
          },
          "metadata": {},
          "execution_count": 7
        }
      ]
    },
    {
      "cell_type": "code",
      "source": [
        "plot=sns.barplot(x='CLASSIFIERS',y='ACCURACY WITHOUT SAMPLING',data=tableDf)\n",
        "plot.get_figure().autofmt_xdate()\n",
        "plot.set(title='CLASSIFIERS vs ACCURACY WITHOUT SAMPLING')"
      ],
      "metadata": {
        "colab": {
          "base_uri": "https://localhost:8080/",
          "height": 347
        },
        "id": "OAByWoJsCnDo",
        "outputId": "f4ce0795-b559-48e8-bca0-2cc532686e21"
      },
      "execution_count": 8,
      "outputs": [
        {
          "output_type": "execute_result",
          "data": {
            "text/plain": [
              "[Text(0.5, 1.0, 'CLASSIFIERS vs ACCURACY WITHOUT SAMPLING')]"
            ]
          },
          "metadata": {},
          "execution_count": 8
        },
        {
          "output_type": "display_data",
          "data": {
            "text/plain": [
              "<Figure size 432x288 with 1 Axes>"
            ],
            "image/png": "[encoded data removed]"
          },
          "metadata": {}
        }
      ]
    },
    {
      "cell_type": "code",
      "source": [
        "plot=sns.barplot(x='CLASSIFIERS',y='ACCURACY WITH SAMPLING',data=tableDf)\n",
        "plot.get_figure().autofmt_xdate()\n",
        "plot.set(title='CLASSIFIERS vs ACCURACY WITH SAMPLING')"
      ],
      "metadata": {
        "colab": {
          "base_uri": "https://localhost:8080/",
          "height": 347
        },
        "id": "Y-tbdapkCrQP",
        "outputId": "89d1cd9e-3525-455f-9cd4-4d3c5674f207"
      },
      "execution_count": 9,
      "outputs": [
        {
          "output_type": "execute_result",
          "data": {
            "text/plain": [
              "[Text(0.5, 1.0, 'CLASSIFIERS vs ACCURACY WITH SAMPLING')]"
            ]
          },
          "metadata": {},
          "execution_count": 9
        },
        {
          "output_type": "display_data",
          "data": {
            "text/plain": [
              "<Figure size 432x288 with 1 Axes>"
            ],
            "image/png": "[encoded data removed]"
          },
          "metadata": {}
        }
      ]
    },
    {
      "cell_type": "code",
      "source": [
        "plt.figure(figsize=(12,12))\n",
        "plt.bar(np.arange(len(tableDf['CLASSIFIERS']))- 0.2, tableDf['ACCURACY WITHOUT SAMPLING'], 0.4, label = 'ACCURACY WITHOUT SAMPLING',color = 'orange',edgecolor = 'black',)\n",
        "plt.bar(np.arange(len(tableDf['CLASSIFIERS'])) + 0.2, tableDf['ACCURACY WITH SAMPLING'], 0.4, label = 'ACCURACY WITH SAMPLING',color = 'purple',edgecolor = 'black',)\n",
        "plot.get_figure().autofmt_xdate()\n",
        "plt.xticks(np.arange(len(tableDf['CLASSIFIERS'])), tableDf['CLASSIFIERS'])\n",
        "plt.xlabel(\"CLASSIFIERS\")\n",
        "plt.ylabel(\"ACCURACY\")\n",
        "plt.title(\"CLASSIFIERS vs ACCURACY\")\n",
        "plt.legend()\n",
        "plt.show()"
      ],
      "metadata": {
        "colab": {
          "base_uri": "https://localhost:8080/",
          "height": 736
        },
        "id": "Ysc1-joaCry3",
        "outputId": "5896cd98-04c1-4710-ec00-67d4c91423d5"
      },
      "execution_count": 6,
      "outputs": [
        {
          "output_type": "display_data",
          "data": {
            "text/plain": [
              "<Figure size 864x864 with 1 Axes>"
            ],
            "image/png": "[encoded data removed]"
          },
          "metadata": {}
        }
      ]
    }
  ],
  "metadata": {
    "colab": {
      "collapsed_sections": [],
      "name": "771767_A21_T2: Applied Artificial Intelligence-002_CWRK:Project code.ipynb",
      "provenance": []
    },
    "kernelspec": {
      "display_name": "Python 3",
      "name": "python3"
    },
    "language_info": {
      "name": "python"
    }
  },
  "nbformat": 4,
  "nbformat_minor": 0
}